{
 "cells": [
  {
   "cell_type": "markdown",
   "metadata": {
    "id": "XWFy1Ehoktg0"
   },
   "source": [
    "## Best 3-Class Image Classifier\n",
    "The following model is the best CNN model based on accuracy for the 3-class `explicit` `neutral`, and `sexy` dataset. Prior models which led me to this one can be found in the [Models]('Models') folder. This final model was created using the (80 x 80) image size to save computation time/complexity. This is the only 3-class image classifier to be tested on the (256 x 256) image sizes. "
   ]
  },
  {
   "cell_type": "code",
   "execution_count": 1,
   "metadata": {
    "colab": {
     "base_uri": "https://localhost:8080/"
    },
    "id": "zicfIfX1FXuI",
    "outputId": "5655bc8e-a1c2-4c4e-c341-fa7f09db5913"
   },
   "outputs": [
    {
     "name": "stdout",
     "output_type": "stream",
     "text": [
      "Mounted at /content/drive\n"
     ]
    }
   ],
   "source": [
    "# Mount google drive to notebook to pull pickle files\n",
    "from google.colab import drive\n",
    "drive.mount('/content/drive')"
   ]
  },
  {
   "cell_type": "code",
   "execution_count": 2,
   "metadata": {
    "colab": {
     "base_uri": "https://localhost:8080/",
     "height": 73,
     "resources": {
      "http://localhost:8080/nbextensions/google.colab/files.js": {
       "data": "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",
       "headers": [
        [
         "content-type",
         "application/javascript"
        ]
       ],
       "ok": true,
       "status": 200,
       "status_text": ""
      }
     }
    },
    "id": "YmyPdNEJFgnn",
    "outputId": "1a01644a-fd60-4948-8be9-7de6bede9d24"
   },
   "outputs": [
    {
     "data": {
      "text/html": [
       "\n",
       "     <input type=\"file\" id=\"files-555d2f23-d86f-46f0-bb09-48f0e6857ed9\" name=\"files[]\" multiple disabled\n",
       "        style=\"border:none\" />\n",
       "     <output id=\"result-555d2f23-d86f-46f0-bb09-48f0e6857ed9\">\n",
       "      Upload widget is only available when the cell has been executed in the\n",
       "      current browser session. Please rerun this cell to enable.\n",
       "      </output>\n",
       "      <script src=\"/nbextensions/google.colab/files.js\"></script> "
      ],
      "text/plain": [
       "<IPython.core.display.HTML object>"
      ]
     },
     "metadata": {},
     "output_type": "display_data"
    },
    {
     "name": "stdout",
     "output_type": "stream",
     "text": [
      "Saving helpers_py.py to helpers_py.py\n"
     ]
    }
   ],
   "source": [
    "# Import libraries\n",
    "import time, scipy\n",
    "import matplotlib.pyplot as plt\n",
    "import seaborn as sns\n",
    "import numpy as np\n",
    "import pandas as pd\n",
    "from sklearn.metrics import confusion_matrix, plot_confusion_matrix, classification_report, recall_score, f1_score, precision_score, accuracy_score\n",
    " \n",
    "# Modeling libraries\n",
    "from keras import models\n",
    "from keras import layers\n",
    "import tensorflow as tf\n",
    "from tensorflow.keras.models import Sequential\n",
    "from tensorflow.keras.layers import Dense, Flatten, MaxPooling2D, Activation, Conv2D\n",
    "from tensorflow.keras import layers\n",
    "from tensorflow.keras.optimizers import SGD\n",
    "import pickle\n",
    "import keras\n",
    "\n",
    "# Import 'helpers.py' file\n",
    "from google.colab import files\n",
    "src = list(files.upload().values())[0]\n",
    "open('helpers.py','wb').write(src)\n",
    "import helpers as hp"
   ]
  },
  {
   "cell_type": "code",
   "execution_count": null,
   "metadata": {
    "id": "3L7oU-aNFn87"
   },
   "outputs": [],
   "source": [
    "# Open Pickle files containing train, test, val data\n",
    "infile = open('/content/drive/MyDrive/nsfw_image_classification/Pickles/X.pickle','rb')\n",
    "X = pickle.load(infile)\n",
    "\n",
    "infile2 = open('/content/drive/MyDrive/nsfw_image_classification/Pickles/y.pickle','rb')\n",
    "y = pickle.load(infile2)\n",
    "\n",
    "infile3 = open('/content/drive/MyDrive/nsfw_image_classification/Pickles/X_test.pickle','rb')\n",
    "X_test = pickle.load(infile3)\n",
    "\n",
    "infile4 = open('/content/drive/MyDrive/nsfw_image_classification/Pickles/y_test.pickle','rb')\n",
    "y_test = pickle.load(infile4)\n",
    "\n",
    "infile5 = open('/content/drive/MyDrive/nsfw_image_classification/Pickles/X_val.pickle','rb')\n",
    "X_val = pickle.load(infile5)\n",
    "\n",
    "infile6 = open('/content/drive/MyDrive/nsfw_image_classification/Pickles/y_val.pickle','rb')\n",
    "y_val = pickle.load(infile6)"
   ]
  },
  {
   "cell_type": "code",
   "execution_count": 5,
   "metadata": {
    "id": "kB57SRBZFsQI"
   },
   "outputs": [],
   "source": [
    "# Data Augmentation with horizonatal and vertical flips\n",
    "data_augmentation = Sequential([ # Model steps are performed one after another rather than at the same time\n",
    "  layers.experimental.preprocessing.RandomFlip(\"horizontal_and_vertical\"),\n",
    "  layers.experimental.preprocessing.RandomRotation(0.2),\n",
    "])"
   ]
  },
  {
   "cell_type": "code",
   "execution_count": null,
   "metadata": {
    "colab": {
     "base_uri": "https://localhost:8080/"
    },
    "id": "EZfalj_HFOma",
    "outputId": "ecff91f2-4e6b-4ce6-da16-4a9ce752ebcb"
   },
   "outputs": [
    {
     "name": "stdout",
     "output_type": "stream",
     "text": [
      "Epoch 1/50\n",
      "1618/1618 [==============================] - 676s 417ms/step - loss: 0.9442 - accuracy: 0.5585 - val_loss: 0.9455 - val_accuracy: 0.5539\n",
      "Epoch 2/50\n",
      "1618/1618 [==============================] - 653s 404ms/step - loss: 0.9040 - accuracy: 0.5940 - val_loss: 0.8646 - val_accuracy: 0.6199\n",
      "Epoch 3/50\n",
      "1618/1618 [==============================] - 646s 399ms/step - loss: 0.8697 - accuracy: 0.6158 - val_loss: 0.8182 - val_accuracy: 0.6483\n",
      "Epoch 4/50\n",
      "1618/1618 [==============================] - 635s 393ms/step - loss: 0.8390 - accuracy: 0.6382 - val_loss: 0.7951 - val_accuracy: 0.6665\n",
      "Epoch 5/50\n",
      "1618/1618 [==============================] - 634s 392ms/step - loss: 0.7983 - accuracy: 0.6623 - val_loss: 0.8390 - val_accuracy: 0.6175\n",
      "Epoch 6/50\n",
      "1618/1618 [==============================] - 633s 391ms/step - loss: 0.7654 - accuracy: 0.6820 - val_loss: 0.7294 - val_accuracy: 0.7022\n",
      "Epoch 7/50\n",
      "1618/1618 [==============================] - 635s 392ms/step - loss: 0.7343 - accuracy: 0.6967 - val_loss: 0.7056 - val_accuracy: 0.7077\n",
      "Epoch 8/50\n",
      "1618/1618 [==============================] - 639s 395ms/step - loss: 0.7131 - accuracy: 0.7086 - val_loss: 0.7181 - val_accuracy: 0.6988\n",
      "Epoch 9/50\n",
      "1618/1618 [==============================] - 640s 396ms/step - loss: 0.6959 - accuracy: 0.7165 - val_loss: 0.9921 - val_accuracy: 0.6243\n",
      "Epoch 10/50\n",
      "1618/1618 [==============================] - 639s 395ms/step - loss: 0.6757 - accuracy: 0.7266 - val_loss: 0.6764 - val_accuracy: 0.7256\n",
      "Epoch 11/50\n",
      "1618/1618 [==============================] - 639s 395ms/step - loss: 0.6633 - accuracy: 0.7331 - val_loss: 0.8539 - val_accuracy: 0.6884\n",
      "Epoch 12/50\n",
      "1618/1618 [==============================] - 639s 395ms/step - loss: 0.6462 - accuracy: 0.7387 - val_loss: 0.6808 - val_accuracy: 0.7311\n",
      "Epoch 13/50\n",
      "1618/1618 [==============================] - 639s 395ms/step - loss: 0.6337 - accuracy: 0.7446 - val_loss: 0.7521 - val_accuracy: 0.7061\n",
      "Epoch 14/50\n",
      "1618/1618 [==============================] - 641s 396ms/step - loss: 0.6227 - accuracy: 0.7506 - val_loss: 0.8790 - val_accuracy: 0.6294\n",
      "Epoch 15/50\n",
      "1618/1618 [==============================] - 642s 397ms/step - loss: 0.6124 - accuracy: 0.7567 - val_loss: 0.6473 - val_accuracy: 0.7307\n",
      "Epoch 16/50\n",
      "1618/1618 [==============================] - 641s 396ms/step - loss: 0.5992 - accuracy: 0.7600 - val_loss: 0.5949 - val_accuracy: 0.7680\n",
      "Epoch 17/50\n",
      "1618/1618 [==============================] - 642s 397ms/step - loss: 0.5960 - accuracy: 0.7624 - val_loss: 0.5946 - val_accuracy: 0.7653\n",
      "Epoch 18/50\n",
      "1618/1618 [==============================] - 642s 397ms/step - loss: 0.5879 - accuracy: 0.7669 - val_loss: 0.5978 - val_accuracy: 0.7670\n",
      "Epoch 19/50\n",
      "1618/1618 [==============================] - 644s 398ms/step - loss: 0.5751 - accuracy: 0.7725 - val_loss: 0.5933 - val_accuracy: 0.7685\n",
      "Epoch 20/50\n",
      "1618/1618 [==============================] - 644s 398ms/step - loss: 0.5713 - accuracy: 0.7736 - val_loss: 0.6450 - val_accuracy: 0.7376\n",
      "Epoch 21/50\n",
      "1618/1618 [==============================] - 638s 394ms/step - loss: 0.5610 - accuracy: 0.7779 - val_loss: 0.6326 - val_accuracy: 0.7451\n",
      "Epoch 22/50\n",
      "1618/1618 [==============================] - 636s 393ms/step - loss: 0.5539 - accuracy: 0.7817 - val_loss: 0.9334 - val_accuracy: 0.6526\n",
      "Epoch 23/50\n",
      "1618/1618 [==============================] - 644s 398ms/step - loss: 0.5486 - accuracy: 0.7842 - val_loss: 0.5702 - val_accuracy: 0.7701\n",
      "Epoch 24/50\n",
      "1618/1618 [==============================] - 644s 398ms/step - loss: 0.5421 - accuracy: 0.7884 - val_loss: 0.5727 - val_accuracy: 0.7750\n",
      "Epoch 25/50\n",
      "1618/1618 [==============================] - 636s 393ms/step - loss: 0.5371 - accuracy: 0.7901 - val_loss: 0.5439 - val_accuracy: 0.7887\n",
      "Epoch 26/50\n",
      "1618/1618 [==============================] - 636s 393ms/step - loss: 0.5299 - accuracy: 0.7942 - val_loss: 0.5697 - val_accuracy: 0.7742\n",
      "Epoch 27/50\n",
      "1618/1618 [==============================] - 636s 393ms/step - loss: 0.5274 - accuracy: 0.7937 - val_loss: 0.5349 - val_accuracy: 0.7859\n",
      "Epoch 28/50\n",
      "1618/1618 [==============================] - 636s 393ms/step - loss: 0.5184 - accuracy: 0.7989 - val_loss: 0.5762 - val_accuracy: 0.7775\n",
      "Epoch 29/50\n",
      "1618/1618 [==============================] - 636s 393ms/step - loss: 0.5164 - accuracy: 0.7984 - val_loss: 0.5240 - val_accuracy: 0.7939\n",
      "Epoch 30/50\n",
      "1618/1618 [==============================] - 636s 393ms/step - loss: 0.5090 - accuracy: 0.8035 - val_loss: 0.5386 - val_accuracy: 0.7901\n",
      "Epoch 31/50\n",
      "1618/1618 [==============================] - 637s 394ms/step - loss: 0.5075 - accuracy: 0.8034 - val_loss: 0.6843 - val_accuracy: 0.7291\n",
      "Epoch 32/50\n",
      "1618/1618 [==============================] - 641s 396ms/step - loss: 0.5040 - accuracy: 0.8063 - val_loss: 0.5285 - val_accuracy: 0.7947\n",
      "Epoch 33/50\n",
      "1618/1618 [==============================] - 643s 397ms/step - loss: 0.5022 - accuracy: 0.8062 - val_loss: 0.5546 - val_accuracy: 0.7859\n",
      "Epoch 34/50\n",
      "1618/1618 [==============================] - 639s 395ms/step - loss: 0.4960 - accuracy: 0.8082 - val_loss: 0.5176 - val_accuracy: 0.8013\n",
      "Epoch 35/50\n",
      "1618/1618 [==============================] - 638s 394ms/step - loss: 0.4916 - accuracy: 0.8092 - val_loss: 0.5180 - val_accuracy: 0.7951\n",
      "Epoch 36/50\n",
      "1618/1618 [==============================] - 637s 394ms/step - loss: 0.4893 - accuracy: 0.8115 - val_loss: 0.6077 - val_accuracy: 0.7656\n",
      "Epoch 37/50\n",
      "1618/1618 [==============================] - 639s 395ms/step - loss: 0.4872 - accuracy: 0.8131 - val_loss: 0.5942 - val_accuracy: 0.7536\n",
      "Epoch 38/50\n",
      "1618/1618 [==============================] - 637s 394ms/step - loss: 0.4809 - accuracy: 0.8123 - val_loss: 0.5450 - val_accuracy: 0.7896\n",
      "Epoch 39/50\n",
      "1618/1618 [==============================] - 637s 394ms/step - loss: 0.4789 - accuracy: 0.8147 - val_loss: 0.5051 - val_accuracy: 0.8002\n",
      "Epoch 40/50\n",
      "1618/1618 [==============================] - 637s 394ms/step - loss: 0.4742 - accuracy: 0.8174 - val_loss: 0.5998 - val_accuracy: 0.7722\n",
      "Epoch 41/50\n",
      "1618/1618 [==============================] - 637s 394ms/step - loss: 0.4728 - accuracy: 0.8182 - val_loss: 0.5458 - val_accuracy: 0.7917\n",
      "Epoch 42/50\n",
      "1618/1618 [==============================] - 637s 394ms/step - loss: 0.4672 - accuracy: 0.8206 - val_loss: 0.5058 - val_accuracy: 0.8057\n",
      "Epoch 43/50\n",
      "1618/1618 [==============================] - 638s 394ms/step - loss: 0.4697 - accuracy: 0.8194 - val_loss: 0.5768 - val_accuracy: 0.7749\n",
      "Epoch 44/50\n",
      "1618/1618 [==============================] - 641s 396ms/step - loss: 0.4657 - accuracy: 0.8210 - val_loss: 0.5949 - val_accuracy: 0.7638\n",
      "Epoch 45/50\n",
      "1618/1618 [==============================] - 643s 397ms/step - loss: 0.4651 - accuracy: 0.8201 - val_loss: 0.4912 - val_accuracy: 0.8113\n",
      "Epoch 46/50\n",
      "1618/1618 [==============================] - 642s 397ms/step - loss: 0.4616 - accuracy: 0.8248 - val_loss: 0.5112 - val_accuracy: 0.7988\n",
      "Epoch 47/50\n",
      "1618/1618 [==============================] - 642s 397ms/step - loss: 0.4520 - accuracy: 0.8285 - val_loss: 0.5289 - val_accuracy: 0.7925\n",
      "Epoch 48/50\n",
      "1618/1618 [==============================] - 640s 396ms/step - loss: 0.4551 - accuracy: 0.8246 - val_loss: 0.5347 - val_accuracy: 0.7781\n",
      "Epoch 49/50\n",
      "1618/1618 [==============================] - 641s 396ms/step - loss: 0.4531 - accuracy: 0.8259 - val_loss: 0.9003 - val_accuracy: 0.6515\n",
      "Epoch 50/50\n",
      "1618/1618 [==============================] - 642s 397ms/step - loss: 0.4509 - accuracy: 0.8285 - val_loss: 0.4888 - val_accuracy: 0.8153\n"
     ]
    }
   ],
   "source": [
    "model = Sequential([ # Model steps are performed one after another rather than at the same time\n",
    "  data_augmentation, # Apply data augmentation to the model\n",
    "  layers.Conv2D(filters=48, kernel_size=3, activation='relu', input_shape=X.shape[1:]),\n",
    "  layers.MaxPooling2D(pool_size=2, strides=2) \n",
    "]) # Max pooling to reduce noise and calculate the maximum value in each patch of each feature map\n",
    "\n",
    "\n",
    "model.add(layers.Conv2D(filters=48, kernel_size=3, activation='relu'))\n",
    "model.add(layers.MaxPool2D(pool_size=2, strides=1)) # More max pooling, decreased stride\n",
    "model.add(layers.Conv2D(filters=32, kernel_size=3, activation='relu'))\n",
    "model.add(layers.MaxPool2D(pool_size=2, strides=1)) # More max pooling, decreased stride\n",
    "model.add(layers.Conv2D(filters=32, kernel_size=3, activation='relu'))\n",
    "model.add(layers.MaxPool2D(pool_size=2, strides=1)) # More max pooling, decreased stride\n",
    "model.add(layers.Flatten()) # Transform features into a single column\n",
    "model.add(layers.Dense(128, activation='relu')) # First hidden layer\n",
    "model.add(layers.Dense(72, activation='relu')) # Second hidden layer\n",
    "model.add(layers.Dense(64, activation='relu')) # Third hidden layer\n",
    "model.add(layers.Dense(30, activation='relu')) # Fourth hidden layer\n",
    "model.add(layers.Dense(8, activation='relu')) # Fifth hidden layer\n",
    "model.add(layers.Dense(3, activation='softmax')) # Sixth hidden layer\n",
    "\n",
    "# Compile and train CNN\n",
    "opt = SGD(learning_rate=0.06) # Small learning rate to avoid overfitting\n",
    "model.compile(loss = 'sparse_categorical_crossentropy', # Sparse_categorical_crossentropy because the labels are not one hot encoded, and to reduce comp time\n",
    "               optimizer = opt, \n",
    "               metrics=['accuracy'])\n",
    "\n",
    "# Fit and score model performance\n",
    "model_score = model.fit(X,\n",
    "                        y, # Fit on training data\n",
    "                        epochs=50,\n",
    "                        validation_split=0.2) # Validation split of X and y to check for over/under fitting"
   ]
  },
  {
   "cell_type": "code",
   "execution_count": 16,
   "metadata": {
    "id": "lN0Tz9hoHxTA"
   },
   "outputs": [],
   "source": [
    "# Evaluate model performance on test data\n",
    "model.evaluate(X_test, y_test)"
   ]
  },
  {
   "cell_type": "code",
   "execution_count": 17,
   "metadata": {
    "colab": {
     "base_uri": "https://localhost:8080/"
    },
    "id": "cKu6j81pUVlm",
    "outputId": "48fe238f-6d3c-4ded-9b28-64697ce89a03"
   },
   "outputs": [
    {
     "name": "stdout",
     "output_type": "stream",
     "text": [
      "This model has a 81.5% Accuracy\n"
     ]
    }
   ],
   "source": [
    "print(f'This model has a 81.5% Accuracy')"
   ]
  },
  {
   "cell_type": "code",
   "execution_count": null,
   "metadata": {
    "colab": {
     "base_uri": "https://localhost:8080/",
     "height": 573
    },
    "id": "Jfq6a7i3H0fm",
    "outputId": "bdad2a62-426a-4e7f-8755-2c777334adfc"
   },
   "outputs": [
    {
     "data": {
      "image/png": "[encoded data removed]",
      "text/plain": [
       "<Figure size 432x288 with 1 Axes>"
      ]
     },
     "metadata": {
      "needs_background": "light"
     },
     "output_type": "display_data"
    },
    {
     "data": {
      "image/png": "[encoded data removed]",
      "text/plain": [
       "<Figure size 432x288 with 1 Axes>"
      ]
     },
     "metadata": {
      "needs_background": "light"
     },
     "output_type": "display_data"
    }
   ],
   "source": [
    "# Plot change in accuracy and loss with each epoch\n",
    "hp.plot_model_train_val_accuracy_loss(model_score)"
   ]
  },
  {
   "cell_type": "code",
   "execution_count": null,
   "metadata": {
    "colab": {
     "base_uri": "https://localhost:8080/"
    },
    "id": "6C5fnds-ARj5",
    "outputId": "a4893a8f-e8fd-40eb-adb4-b6124c9b2259"
   },
   "outputs": [
    {
     "name": "stdout",
     "output_type": "stream",
     "text": [
      "Model: \"sequential_1\"\n",
      "_________________________________________________________________\n",
      "Layer (type)                 Output Shape              Param #   \n",
      "=================================================================\n",
      "sequential (Sequential)      (None, 90, 90, 1)         0         \n",
      "_________________________________________________________________\n",
      "conv2d (Conv2D)              (None, 88, 88, 48)        480       \n",
      "_________________________________________________________________\n",
      "max_pooling2d (MaxPooling2D) (None, 44, 44, 48)        0         \n",
      "_________________________________________________________________\n",
      "conv2d_1 (Conv2D)            (None, 42, 42, 48)        20784     \n",
      "_________________________________________________________________\n",
      "max_pooling2d_1 (MaxPooling2 (None, 41, 41, 48)        0         \n",
      "_________________________________________________________________\n",
      "conv2d_2 (Conv2D)            (None, 39, 39, 32)        13856     \n",
      "_________________________________________________________________\n",
      "max_pooling2d_2 (MaxPooling2 (None, 38, 38, 32)        0         \n",
      "_________________________________________________________________\n",
      "conv2d_3 (Conv2D)            (None, 36, 36, 32)        9248      \n",
      "_________________________________________________________________\n",
      "max_pooling2d_3 (MaxPooling2 (None, 35, 35, 32)        0         \n",
      "_________________________________________________________________\n",
      "flatten (Flatten)            (None, 39200)             0         \n",
      "_________________________________________________________________\n",
      "dense (Dense)                (None, 128)               5017728   \n",
      "_________________________________________________________________\n",
      "dense_1 (Dense)              (None, 72)                9288      \n",
      "_________________________________________________________________\n",
      "dense_2 (Dense)              (None, 64)                4672      \n",
      "_________________________________________________________________\n",
      "dense_3 (Dense)              (None, 30)                1950      \n",
      "_________________________________________________________________\n",
      "dense_4 (Dense)              (None, 8)                 248       \n",
      "_________________________________________________________________\n",
      "dense_5 (Dense)              (None, 3)                 27        \n",
      "=================================================================\n",
      "Total params: 5,078,281\n",
      "Trainable params: 5,078,281\n",
      "Non-trainable params: 0\n",
      "_________________________________________________________________\n"
     ]
    }
   ],
   "source": [
    "# View model summary\n",
    "model.summary()"
   ]
  },
  {
   "cell_type": "markdown",
   "metadata": {
    "id": "vEshwfNkocX1"
   },
   "source": [
    "View model confusion matrices and recall, f1, and precision scores by class to see which classes are being incorrectly categorized."
   ]
  },
  {
   "cell_type": "code",
   "execution_count": null,
   "metadata": {
    "colab": {
     "base_uri": "https://localhost:8080/"
    },
    "id": "xavNilNx0YoV",
    "outputId": "cd075233-aa35-420c-e7bd-2ba006a5117e"
   },
   "outputs": [
    {
     "name": "stdout",
     "output_type": "stream",
     "text": [
      "Predicted     0     1    2   All\n",
      "Actual                          \n",
      "0          4095   293   80  4468\n",
      "1           461  2970  101  3532\n",
      "2           509   226  514  1249\n",
      "All        5065  3489  695  9249\n"
     ]
    }
   ],
   "source": [
    "# Calculate predicted values\n",
    "y_pred = model.predict(X_val)\n",
    "# Convert predicted 3-d array into 1-d array\n",
    "y_pred = np.argmax(y_pred, axis=1)\n",
    "# Convert numpy arrays to pandas series\n",
    "y_actu = pd.Series(y_val, name='Actual')\n",
    "y_pred = pd.Series(y_pred, name='Predicted')\n",
    "\n",
    "# Print confusion matrix\n",
    "df_confusion = pd.crosstab(y_actu, y_pred, rownames=['Actual'], colnames=['Predicted'], margins=True)\n",
    "print(df_confusion)"
   ]
  },
  {
   "cell_type": "code",
   "execution_count": null,
   "metadata": {
    "colab": {
     "base_uri": "https://localhost:8080/",
     "height": 265
    },
    "id": "YvDwMXXM7bTi",
    "outputId": "4b66d5e8-b8c0-435f-987c-0992e6a2ca60"
   },
   "outputs": [
    {
     "data": {
      "image/png": "[encoded data removed]",
      "text/plain": [
       "<Figure size 432x288 with 2 Axes>"
      ]
     },
     "metadata": {
      "needs_background": "light"
     },
     "output_type": "display_data"
    }
   ],
   "source": [
    "# Plot confusion matrix\n",
    "conf = confusion_matrix(y_actu, y_pred)\n",
    "labels = ['explicit', 'neutral' ,'sexy']\n",
    "sns.heatmap(conf, annot=True, fmt=\"d\", cmap='Blues', xticklabels=labels, yticklabels=labels);"
   ]
  },
  {
   "cell_type": "markdown",
   "metadata": {
    "id": "lwW0WGooowbM"
   },
   "source": [
    "### Model Analysis\n",
    "This model has a difficult time differentiating between `explicit` and `sexy` photos, which was expected. It only correctly classified 41% of the sexy photos. This would not be a problem if the purpose of this model was to solely block inappropriate content; however, given that I also wanted the model to be more inclusive and not restrict user freedoms it is evident that the model is not fulfilling its desired purpose well. In the future I would like to collect more `sexy` image data to ensure this class is properly represented."
   ]
  },
  {
   "cell_type": "code",
   "execution_count": null,
   "metadata": {
    "colab": {
     "base_uri": "https://localhost:8080/"
    },
    "id": "sE8-ha7P7fYU",
    "outputId": "200ab30c-1f10-41ea-f6f5-fd96e82ba04b"
   },
   "outputs": [
    {
     "name": "stdout",
     "output_type": "stream",
     "text": [
      "              precision    recall  f1-score   support\n",
      "\n",
      "    explicit       0.81      0.92      0.86      4468\n",
      "     neutral       0.85      0.84      0.85      3532\n",
      "        sexy       0.74      0.41      0.53      1249\n",
      "\n",
      "    accuracy                           0.82      9249\n",
      "   macro avg       0.80      0.72      0.74      9249\n",
      "weighted avg       0.82      0.82      0.81      9249\n",
      "\n"
     ]
    }
   ],
   "source": [
    "# Print classification report\n",
    "print(classification_report(y_val,y_pred, target_names=labels))"
   ]
  },
  {
   "cell_type": "markdown",
   "metadata": {
    "id": "miVOAfLLqzV1"
   },
   "source": [
    "On a more positive note, the model is doing a great job filtering for explicit content, with a 92% recall."
   ]
  },
  {
   "cell_type": "markdown",
   "metadata": {
    "id": "ka_BgssPuuyq"
   },
   "source": [
    "### Model 2\n",
    "CNN 1 with increased image size"
   ]
  },
  {
   "cell_type": "code",
   "execution_count": 3,
   "metadata": {
    "id": "llZu6zxIIP-y"
   },
   "outputs": [],
   "source": [
    "# Open Pickle files containing train, test, val data\n",
    "infile7 = open('/content/drive/MyDrive/X_256.pickle','rb')\n",
    "X_256 = pickle.load(infile7)\n",
    "\n",
    "infile8 = open('/content/drive/MyDrive/y_256.pickle','rb')\n",
    "y_256 = pickle.load(infile8)\n",
    "\n",
    "infile11 = open('/content/drive/MyDrive/X_val_256.pickle','rb')\n",
    "X_val_256 = pickle.load(infile11)\n",
    "\n",
    "infile12 = open('/content/drive/MyDrive/y_val_256.pickle','rb')\n",
    "y_val_256 = pickle.load(infile12)"
   ]
  },
  {
   "cell_type": "code",
   "execution_count": 7,
   "metadata": {
    "colab": {
     "base_uri": "https://localhost:8080/"
    },
    "id": "vxQUdCYvIzVW",
    "outputId": "de5c6c54-2b73-421e-bafe-e3be78ae624c"
   },
   "outputs": [
    {
     "name": "stdout",
     "output_type": "stream",
     "text": [
      "Epoch 1/50\n",
      "449/449 [==============================] - 1006s 2s/step - loss: 0.9858 - accuracy: 0.4961 - val_loss: 0.9801 - val_accuracy: 0.5117\n",
      "Epoch 2/50\n",
      "449/449 [==============================] - 1003s 2s/step - loss: 0.9679 - accuracy: 0.5238 - val_loss: 0.9484 - val_accuracy: 0.5622\n",
      "Epoch 3/50\n",
      "449/449 [==============================] - 1004s 2s/step - loss: 0.9447 - accuracy: 0.5633 - val_loss: 0.9076 - val_accuracy: 0.6012\n",
      "Epoch 4/50\n",
      "449/449 [==============================] - 993s 2s/step - loss: 0.9310 - accuracy: 0.5720 - val_loss: 0.9011 - val_accuracy: 0.6065\n",
      "Epoch 5/50\n",
      "449/449 [==============================] - 988s 2s/step - loss: 0.9188 - accuracy: 0.5847 - val_loss: 0.8840 - val_accuracy: 0.6101\n",
      "Epoch 6/50\n",
      "449/449 [==============================] - 978s 2s/step - loss: 0.9125 - accuracy: 0.5890 - val_loss: 0.8623 - val_accuracy: 0.6237\n",
      "Epoch 7/50\n",
      "449/449 [==============================] - 973s 2s/step - loss: 0.9072 - accuracy: 0.5939 - val_loss: 0.8726 - val_accuracy: 0.6260\n",
      "Epoch 8/50\n",
      "449/449 [==============================] - 972s 2s/step - loss: 0.9028 - accuracy: 0.5950 - val_loss: 0.9285 - val_accuracy: 0.5783\n",
      "Epoch 9/50\n",
      "449/449 [==============================] - 972s 2s/step - loss: 0.9077 - accuracy: 0.5906 - val_loss: 0.8939 - val_accuracy: 0.6014\n",
      "Epoch 10/50\n",
      "449/449 [==============================] - 967s 2s/step - loss: 0.8978 - accuracy: 0.6005 - val_loss: 0.8941 - val_accuracy: 0.5780\n",
      "Epoch 11/50\n",
      "449/449 [==============================] - 968s 2s/step - loss: 0.8854 - accuracy: 0.6083 - val_loss: 0.8916 - val_accuracy: 0.5939\n",
      "Epoch 12/50\n",
      "449/449 [==============================] - 973s 2s/step - loss: 0.8755 - accuracy: 0.6125 - val_loss: 0.8466 - val_accuracy: 0.6346\n",
      "Epoch 13/50\n",
      "449/449 [==============================] - 972s 2s/step - loss: 0.8632 - accuracy: 0.6222 - val_loss: 0.8118 - val_accuracy: 0.6566\n",
      "Epoch 14/50\n",
      "449/449 [==============================] - 965s 2s/step - loss: 0.8631 - accuracy: 0.6241 - val_loss: 0.8504 - val_accuracy: 0.6349\n",
      "Epoch 15/50\n",
      "449/449 [==============================] - 963s 2s/step - loss: 0.8483 - accuracy: 0.6359 - val_loss: 0.8277 - val_accuracy: 0.6458\n",
      "Epoch 16/50\n",
      "449/449 [==============================] - 965s 2s/step - loss: 0.8480 - accuracy: 0.6357 - val_loss: 0.8178 - val_accuracy: 0.6558\n",
      "Epoch 17/50\n",
      "449/449 [==============================] - 967s 2s/step - loss: 0.8396 - accuracy: 0.6386 - val_loss: 0.8293 - val_accuracy: 0.6474\n",
      "Epoch 18/50\n",
      "449/449 [==============================] - 962s 2s/step - loss: 0.8566 - accuracy: 0.6304 - val_loss: 0.8356 - val_accuracy: 0.6449\n",
      "Epoch 19/50\n",
      "449/449 [==============================] - 970s 2s/step - loss: 0.8901 - accuracy: 0.6010 - val_loss: 0.9230 - val_accuracy: 0.5889\n",
      "Epoch 20/50\n",
      "449/449 [==============================] - 972s 2s/step - loss: 0.9110 - accuracy: 0.5925 - val_loss: 0.8689 - val_accuracy: 0.6357\n",
      "Epoch 21/50\n",
      "449/449 [==============================] - 975s 2s/step - loss: 0.8977 - accuracy: 0.6001 - val_loss: 0.8625 - val_accuracy: 0.6343\n",
      "Epoch 22/50\n",
      "449/449 [==============================] - 976s 2s/step - loss: 0.8848 - accuracy: 0.6049 - val_loss: 0.8829 - val_accuracy: 0.6157\n",
      "Epoch 23/50\n",
      "449/449 [==============================] - 976s 2s/step - loss: 0.9126 - accuracy: 0.5897 - val_loss: 0.8780 - val_accuracy: 0.6014\n",
      "Epoch 24/50\n",
      "449/449 [==============================] - 985s 2s/step - loss: 0.8797 - accuracy: 0.6143 - val_loss: 0.8213 - val_accuracy: 0.6589\n",
      "Epoch 25/50\n",
      "449/449 [==============================] - 970s 2s/step - loss: 0.8720 - accuracy: 0.6183 - val_loss: 0.8425 - val_accuracy: 0.6410\n",
      "Epoch 26/50\n",
      "449/449 [==============================] - 973s 2s/step - loss: 0.8468 - accuracy: 0.6337 - val_loss: 0.8094 - val_accuracy: 0.6533\n",
      "Epoch 27/50\n",
      "449/449 [==============================] - 978s 2s/step - loss: 0.8398 - accuracy: 0.6373 - val_loss: 0.9133 - val_accuracy: 0.5856\n",
      "Epoch 28/50\n",
      "449/449 [==============================] - 987s 2s/step - loss: 0.8316 - accuracy: 0.6463 - val_loss: 0.8982 - val_accuracy: 0.5831\n",
      "Epoch 29/50\n",
      "449/449 [==============================] - 969s 2s/step - loss: 0.8338 - accuracy: 0.6437 - val_loss: 0.8242 - val_accuracy: 0.6438\n",
      "Epoch 30/50\n",
      "449/449 [==============================] - 970s 2s/step - loss: 0.8167 - accuracy: 0.6496 - val_loss: 0.9651 - val_accuracy: 0.5811\n",
      "Epoch 31/50\n",
      "449/449 [==============================] - 975s 2s/step - loss: 0.8157 - accuracy: 0.6497 - val_loss: 0.7987 - val_accuracy: 0.6636\n",
      "Epoch 32/50\n",
      "449/449 [==============================] - 969s 2s/step - loss: 0.8024 - accuracy: 0.6602 - val_loss: 0.7799 - val_accuracy: 0.6639\n",
      "Epoch 33/50\n",
      "449/449 [==============================] - 971s 2s/step - loss: 0.7897 - accuracy: 0.6664 - val_loss: 0.8128 - val_accuracy: 0.6519\n",
      "Epoch 34/50\n",
      "449/449 [==============================] - 975s 2s/step - loss: 0.7801 - accuracy: 0.6741 - val_loss: 0.8329 - val_accuracy: 0.6299\n",
      "Epoch 35/50\n",
      "449/449 [==============================] - 973s 2s/step - loss: 0.7744 - accuracy: 0.6775 - val_loss: 0.7447 - val_accuracy: 0.6987\n",
      "Epoch 36/50\n",
      "449/449 [==============================] - 987s 2s/step - loss: 0.7690 - accuracy: 0.6830 - val_loss: 0.7531 - val_accuracy: 0.6926\n",
      "Epoch 37/50\n",
      "449/449 [==============================] - 969s 2s/step - loss: 0.7533 - accuracy: 0.6860 - val_loss: 0.7142 - val_accuracy: 0.7154\n",
      "Epoch 38/50\n",
      "449/449 [==============================] - 970s 2s/step - loss: 0.7564 - accuracy: 0.6883 - val_loss: 0.7240 - val_accuracy: 0.7029\n",
      "Epoch 39/50\n",
      "449/449 [==============================] - 968s 2s/step - loss: 0.7999 - accuracy: 0.6674 - val_loss: 0.8519 - val_accuracy: 0.6145\n",
      "Epoch 40/50\n",
      "449/449 [==============================] - 965s 2s/step - loss: 0.7742 - accuracy: 0.6789 - val_loss: 0.7516 - val_accuracy: 0.6892\n",
      "Epoch 41/50\n",
      "449/449 [==============================] - 967s 2s/step - loss: 0.7585 - accuracy: 0.6886 - val_loss: 0.7342 - val_accuracy: 0.7032\n",
      "Epoch 42/50\n",
      "449/449 [==============================] - 970s 2s/step - loss: 0.7782 - accuracy: 0.6773 - val_loss: 0.7894 - val_accuracy: 0.6499\n",
      "Epoch 43/50\n",
      "449/449 [==============================] - 970s 2s/step - loss: 0.7575 - accuracy: 0.6869 - val_loss: 0.7386 - val_accuracy: 0.7062\n",
      "Epoch 44/50\n",
      "449/449 [==============================] - 971s 2s/step - loss: 0.7454 - accuracy: 0.6953 - val_loss: 1.1756 - val_accuracy: 0.5390\n",
      "Epoch 45/50\n",
      "449/449 [==============================] - 974s 2s/step - loss: 0.7294 - accuracy: 0.6982 - val_loss: 0.6682 - val_accuracy: 0.7302\n",
      "Epoch 46/50\n",
      "449/449 [==============================] - 971s 2s/step - loss: 0.7181 - accuracy: 0.7077 - val_loss: 0.7683 - val_accuracy: 0.6987\n",
      "Epoch 47/50\n",
      "449/449 [==============================] - 970s 2s/step - loss: 0.7148 - accuracy: 0.7106 - val_loss: 0.6838 - val_accuracy: 0.7308\n",
      "Epoch 48/50\n",
      "449/449 [==============================] - 977s 2s/step - loss: 0.7114 - accuracy: 0.7161 - val_loss: 0.7106 - val_accuracy: 0.7057\n",
      "Epoch 49/50\n",
      "449/449 [==============================] - 978s 2s/step - loss: 0.6987 - accuracy: 0.7181 - val_loss: 0.7300 - val_accuracy: 0.7021\n",
      "Epoch 50/50\n",
      "449/449 [==============================] - 977s 2s/step - loss: 0.6924 - accuracy: 0.7257 - val_loss: 0.6836 - val_accuracy: 0.7160\n"
     ]
    }
   ],
   "source": [
    "model2 = Sequential([ # Model steps are performed one after another rather than at the same time\n",
    "  data_augmentation, # Apply data augmentation to the model\n",
    "  layers.Conv2D(filters=48, kernel_size=3, activation='relu', input_shape=X_test_256.shape[1:]),\n",
    "  layers.MaxPooling2D(pool_size=2, strides=2)\n",
    "]) # Max pooling to reduce noise and calculate the maximum value in each patch of each feature map\n",
    "\n",
    "model2.add(layers.Conv2D(filters=48, kernel_size=3, activation='relu'))\n",
    "model2.add(layers.MaxPool2D(pool_size=2, strides=1)) # More max pooling & conv2d\n",
    "model2.add(layers.Conv2D(filters=32, kernel_size=3, activation='relu'))\n",
    "model2.add(layers.MaxPool2D(pool_size=2, strides=1)) # More max pooling & conv2d\n",
    "model2.add(layers.Conv2D(filters=32, kernel_size=3, activation='relu'))\n",
    "model2.add(layers.MaxPool2D(pool_size=2, strides=1)) # More max pooling & conv2d\n",
    "model2.add(layers.Flatten()) # Transform features into a single column\n",
    "model2.add(layers.Dense(128, activation='relu')) # First hidden layer\n",
    "model2.add(layers.Dense(72, activation='relu')) # Second hidden layer\n",
    "model2.add(layers.Dense(64, activation='relu')) # Third hidden layer\n",
    "model2.add(layers.Dense(30, activation='relu')) # Fourth hidden layer\n",
    "model2.add(layers.Dense(8, activation='relu')) # Fifth hidden layer\n",
    "model2.add(layers.Dense(3, activation='softmax')) # Sixth hidden layer\n",
    "\n",
    "# Compile and train CNN\n",
    "opt = SGD(learning_rate=0.06) \n",
    "model2.compile(loss = 'sparse_categorical_crossentropy', # Sparse_categorical_crossentropy because the labels are not one hot encoded, and to reduce comp time\n",
    "               optimizer = opt,\n",
    "               metrics=['accuracy'])\n",
    "\n",
    "# Fit and score model performance\n",
    "model2_score = model2.fit(X_256,\n",
    "                          y_256, # train the model on the increased image size data\n",
    "                          epochs=50,\n",
    "                          validation_split=0.2) # validation split on train data to check for overfitting on each epoch"
   ]
  },
  {
   "cell_type": "code",
   "execution_count": 19,
   "metadata": {
    "colab": {
     "base_uri": "https://localhost:8080/"
    },
    "id": "nZdoS0zcUjfu",
    "outputId": "77c561eb-99e1-44ca-8894-b9d0146e71a7"
   },
   "outputs": [
    {
     "name": "stdout",
     "output_type": "stream",
     "text": [
      "125/125 [==============================] - 51s 408ms/step - loss: 0.9215 - accuracy: 0.6068\n"
     ]
    }
   ],
   "source": [
    "# Evaluate on unseen data\n",
    "val_score = model2.evaluate(X_val_256, y_val_256)"
   ]
  },
  {
   "cell_type": "code",
   "execution_count": 20,
   "metadata": {
    "colab": {
     "base_uri": "https://localhost:8080/"
    },
    "id": "u_M3iMMuUumM",
    "outputId": "7e9fe2db-fdb9-4c08-a160-ffa4b068027e"
   },
   "outputs": [
    {
     "name": "stdout",
     "output_type": "stream",
     "text": [
      "This model has a 60.7% Accuracy\n"
     ]
    }
   ],
   "source": [
    "print(f'This model has a {round(((val_score[1])* 100),1)}% Accuracy')"
   ]
  },
  {
   "cell_type": "markdown",
   "metadata": {
    "id": "EypsKUgOrhu5"
   },
   "source": [
    "Model performance on lareger images is underwhelming with only 60.7% accuracy. "
   ]
  },
  {
   "cell_type": "code",
   "execution_count": 12,
   "metadata": {
    "colab": {
     "base_uri": "https://localhost:8080/",
     "height": 573
    },
    "id": "JeWqIUkqJ_Ns",
    "outputId": "9d890ee7-8b47-4b25-a94c-05eaafb45d6d"
   },
   "outputs": [
    {
     "data": {
      "image/png": "[encoded data removed]",
      "text/plain": [
       "<Figure size 432x288 with 1 Axes>"
      ]
     },
     "metadata": {
      "needs_background": "light"
     },
     "output_type": "display_data"
    },
    {
     "data": {
      "image/png": "[encoded data removed]",
      "text/plain": [
       "<Figure size 432x288 with 1 Axes>"
      ]
     },
     "metadata": {
      "needs_background": "light"
     },
     "output_type": "display_data"
    }
   ],
   "source": [
    "hp.plot_model_train_val_accuracy_loss(model2_score)"
   ]
  },
  {
   "cell_type": "code",
   "execution_count": 11,
   "metadata": {
    "colab": {
     "base_uri": "https://localhost:8080/"
    },
    "id": "WMeBn6h7KLT3",
    "outputId": "3930ae51-074e-4009-c16f-14630a98aad9"
   },
   "outputs": [
    {
     "name": "stdout",
     "output_type": "stream",
     "text": [
      "Predicted     0     1    2   All\n",
      "Actual                          \n",
      "0          1071   282   18  1371\n",
      "1           139  1224    7  1370\n",
      "2           375   748  126  1249\n",
      "All        1585  2254  151  3990\n"
     ]
    }
   ],
   "source": [
    "# Calculate predicted values\n",
    "y_pred2 = model2.predict(X_val_256)\n",
    "# Convert predicted 3-d array into 1-d array\n",
    "y_pred2 = np.argmax(y_pred2, axis=1)\n",
    "# Convert numpy arrays to pandas series\n",
    "y_actu2 = pd.Series(y_val_256, name='Actual')\n",
    "y_pred2 = pd.Series(y_pred2, name='Predicted')\n",
    "\n",
    "# Print confusion matrix\n",
    "df_confusion2 = pd.crosstab(y_actu2, y_pred2, rownames=['Actual'], colnames=['Predicted'], margins=True)\n",
    "print(df_confusion2)"
   ]
  },
  {
   "cell_type": "code",
   "execution_count": 13,
   "metadata": {
    "colab": {
     "base_uri": "https://localhost:8080/",
     "height": 264
    },
    "id": "9XbcryspKOj3",
    "outputId": "d47c8bc3-0f62-4631-b425-eab6715e24a8"
   },
   "outputs": [
    {
     "data": {
      "image/png": "[encoded data removed]",
      "text/plain": [
       "<Figure size 432x288 with 2 Axes>"
      ]
     },
     "metadata": {
      "needs_background": "light"
     },
     "output_type": "display_data"
    }
   ],
   "source": [
    "# Plot confusion matrix\n",
    "conf2 = confusion_matrix(y_actu2, y_pred2)\n",
    "labels = ['explicit', 'neutral' ,'sexy']\n",
    "sns.heatmap(conf2, annot=True, fmt=\"d\", cmap='Blues', xticklabels=labels, yticklabels=labels);"
   ]
  },
  {
   "cell_type": "code",
   "execution_count": 14,
   "metadata": {
    "colab": {
     "base_uri": "https://localhost:8080/"
    },
    "id": "6V1TLX7uKPRi",
    "outputId": "95711789-1922-4d8e-845d-9fc9bac6f7d7"
   },
   "outputs": [
    {
     "name": "stdout",
     "output_type": "stream",
     "text": [
      "              precision    recall  f1-score   support\n",
      "\n",
      "    explicit       0.68      0.78      0.72      1371\n",
      "     neutral       0.54      0.89      0.68      1370\n",
      "        sexy       0.83      0.10      0.18      1249\n",
      "\n",
      "    accuracy                           0.61      3990\n",
      "   macro avg       0.68      0.59      0.53      3990\n",
      "weighted avg       0.68      0.61      0.54      3990\n",
      "\n"
     ]
    }
   ],
   "source": [
    "# Print classification report\n",
    "print(classification_report(y_val_256,y_pred2, target_names=labels))"
   ]
  },
  {
   "cell_type": "markdown",
   "metadata": {
    "id": "xrYAcpbQrsQ1"
   },
   "source": [
    "### Model 2 Analysis\n",
    "\n",
    "The same final model, when tested on larger images, had an even harder time classifying `sexy` images correctly and received a 10% recall. Recall also decreased by 14% for the `explicit` images. The only increase is seen in the `neutral` recall."
   ]
  }
 ],
 "metadata": {
  "colab": {
   "collapsed_sections": [],
   "machine_shape": "hm",
   "name": "02_best_3_class_model.ipynb",
   "provenance": []
  },
  "kernelspec": {
   "display_name": "Python 3",
   "language": "python",
   "name": "python3"
  },
  "language_info": {
   "codemirror_mode": {
    "name": "ipython",
    "version": 3
   },
   "file_extension": ".py",
   "mimetype": "text/x-python",
   "name": "python",
   "nbconvert_exporter": "python",
   "pygments_lexer": "ipython3",
   "version": "3.8.5"
  }
 },
 "nbformat": 4,
 "nbformat_minor": 0
}
