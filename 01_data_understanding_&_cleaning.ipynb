{
 "cells": [
  {
   "cell_type": "markdown",
   "metadata": {},
   "source": [
    "# Data Understanding"
   ]
  },
  {
   "cell_type": "markdown",
   "metadata": {},
   "source": [
    "The below image data was collected using the [NSFW Data Scraper](https://github.com/alex000kim/nsfw_data_scraper) on Github. I will be using the `explicit` `neutral`, and `sexy` For the sake of this project, I have left out the `hentai` and `anime` categories as I am more so interested in the impact the model will have on self expression, the #freethenipple movement, and racial bias. \n",
    "\n",
    "I have also webscraped Google Images for the `violent` and `breastfeeding` categories using the [webscraping .py files]('Webscraping') I created. It is difficult to source `breastfeeding` and `violent` images on Google, so there are only a few hundred images within these classes. This may pose a problem when modeling begins, since incorrectly categorizes these images will have a low impacct on model accuracy.\n",
    "\n",
    "All 5 of these categories were noisy and contained many misclassified images which jeopardized the integrity of my model. After downloading the images, I manually sorted through them and reclassified as needed. It is possible that some images may still be misclassified, given that I sifted through close to 100k photos, there was plenty of room for human error."
   ]
  },
  {
   "cell_type": "markdown",
   "metadata": {},
   "source": [
    "# Cleaning"
   ]
  },
  {
   "cell_type": "code",
   "execution_count": 4,
   "metadata": {},
   "outputs": [],
   "source": [
    "# import libraries\n",
    "import os, shutil, time, scipy, cv2, random\n",
    "import numpy as np\n",
    "from sklearn.utils import shuffle\n",
    "from pathlib import Path\n",
    "import matplotlib.pyplot as plt\n",
    "from PIL import Image\n",
    "import pickle"
   ]
  },
  {
   "cell_type": "markdown",
   "metadata": {},
   "source": [
    "Count the images in each class from the NSFW Data Scraper to check for class imbalance."
   ]
  },
  {
   "cell_type": "code",
   "execution_count": 12,
   "metadata": {},
   "outputs": [
    {
     "name": "stdout",
     "output_type": "stream",
     "text": [
      "Explicit Images: 44657\n",
      "Sexy Images: 12492\n",
      "Neutral Images: 35299\n",
      "\n",
      "Total Images In Dataset: 92448\n"
     ]
    }
   ],
   "source": [
    "# create lists containing each img in each class\n",
    "explicit_imgs = [img for img in os.listdir('Data/explicit')] # listdir = file path\n",
    "sexy_imgs = [img for img in os.listdir('Data/sexy')]\n",
    "neutral_imgs = [img for img in os.listdir('Data/neutral')]\n",
    "\n",
    "\n",
    "# count the number of photos in each category + in entire data set\n",
    "print(f'Explicit Images: {len(explicit_imgs)}')\n",
    "print(f'Sexy Images: {len(sexy_imgs)}')\n",
    "print(f'Neutral Images: {len(neutral_imgs)}')\n",
    "\n",
    "\n",
    "print(f'\\nTotal Images In Dataset: {len(explicit_imgs + sexy_imgs + neutral_imgs)}')"
   ]
  },
  {
   "cell_type": "markdown",
   "metadata": {},
   "source": [
    "Nearly half of all photos are explicit, I will need to address the class imbalance in future models. I can do this with oversampling, downsampling, or data augmentation."
   ]
  },
  {
   "cell_type": "markdown",
   "metadata": {},
   "source": [
    "## Train/Test/Validation Split"
   ]
  },
  {
   "cell_type": "markdown",
   "metadata": {},
   "source": [
    "Because my data is not split already, I need to create my own train/test/validation folders. In the following cells I iterate through the images in their original folders -- \"Data/explicit\", \"Data/neutral\", \"Data/sexy\" -- and split 70% of each class into the new train folder, 20% into the new test folder, and 10% into the new validation folder."
   ]
  },
  {
   "cell_type": "code",
   "execution_count": 2,
   "metadata": {},
   "outputs": [],
   "source": [
    "# Original file paths for \n",
    "explicit_data = 'Data/explicit'\n",
    "neutral_data = 'Data/neutral'\n",
    "sexy_data = 'Data/sexy'\n",
    "new_dir = 'Data/clean'"
   ]
  },
  {
   "cell_type": "code",
   "execution_count": 3,
   "metadata": {},
   "outputs": [],
   "source": [
    "# Create paths for each class within train/test/validation folders\n",
    "train_folder = os.path.join(new_dir, 'train')\n",
    "train_explicit = os.path.join(train_folder, 'explicit')\n",
    "train_sexy = os.path.join(train_folder, 'sexy')\n",
    "train_neutral = os.path.join(train_folder, 'neutral')\n",
    "\n",
    "test_folder = os.path.join(new_dir, 'test')\n",
    "test_explicit = os.path.join(test_folder, 'explicit')\n",
    "test_sexy = os.path.join(test_folder, 'sexy')\n",
    "test_neutral = os.path.join(test_folder, 'neutral')\n",
    "\n",
    "val_folder = os.path.join(new_dir, 'validation')\n",
    "val_explicit = os.path.join(val_folder, 'explicit')\n",
    "val_sexy = os.path.join(val_folder, 'sexy')\n",
    "val_neutral = os.path.join(val_folder, 'neutral')"
   ]
  },
  {
   "cell_type": "code",
   "execution_count": 1,
   "metadata": {
    "scrolled": true
   },
   "outputs": [],
   "source": [
    "# Iterate through \n",
    "imgs_explicit = [file for file in os.listdir(explicit_data)]\n",
    "imgs_sexy = [file for file in os.listdir(sexy_data)]\n",
    "imgs_neutral = [file for file in os.listdir(neutral_data)]"
   ]
  },
  {
   "cell_type": "code",
   "execution_count": 18,
   "metadata": {},
   "outputs": [],
   "source": [
    "# validation explicit\n",
    "imgs = imgs_explicit[:4466]\n",
    "for img in imgs:\n",
    "    origin = os.path.join(explicit_data, img)\n",
    "    destination = os.path.join(val_explicit, img)\n",
    "    shutil.move(origin, destination)\n",
    "# test explicit\n",
    "imgs = imgs_explicit[4467:13397]\n",
    "for img in imgs:\n",
    "    origin = os.path.join(explicit_data, img)\n",
    "    destination = os.path.join(test_explicit, img)\n",
    "    shutil.move(origin, destination)\n",
    "# train explicit\n",
    "imgs = imgs_explicit[13398:]\n",
    "for img in imgs:\n",
    "    origin = os.path.join(explicit_data, img)\n",
    "    destination = os.path.join(train_explicit, img)\n",
    "    shutil.move(origin, destination)    \n",
    "    \n",
    "# validation sexy\n",
    "imgs = imgs_sexy[:1249]\n",
    "for img in imgs:\n",
    "    origin = os.path.join(sexy_data, img)\n",
    "    destination = os.path.join(val_sexy, img)\n",
    "    shutil.move(origin, destination)\n",
    "# test sexy\n",
    "imgs = imgs_sexy[1250:3747]\n",
    "for img in imgs:\n",
    "    origin = os.path.join(sexy_data, img)\n",
    "    destination = os.path.join(test_sexy, img)\n",
    "    shutil.move(origin, destination)\n",
    "# train sexy\n",
    "imgs = imgs_sexy[3748:]\n",
    "for img in imgs:\n",
    "    origin = os.path.join(sexy_data, img)\n",
    "    destination = os.path.join(train_sexy, img)\n",
    "    shutil.move(origin, destination)\n",
    "    \n",
    "# validation neutral\n",
    "imgs = imgs_neutral[:3530]\n",
    "for img in imgs:\n",
    "    origin = os.path.join(neutral_data, img)\n",
    "    destination = os.path.join(val_neutral, img)\n",
    "    shutil.move(origin, destination)\n",
    "# test neutral\n",
    "imgs = imgs_neutral[3531:10590]\n",
    "for img in imgs:\n",
    "    origin = os.path.join(neutral_data, img)\n",
    "    destination = os.path.join(test_neutral, img)\n",
    "    shutil.move(origin, destination)\n",
    "# train neutral\n",
    "imgs = imgs_neutral[10591:]\n",
    "for img in imgs:\n",
    "    origin = os.path.join(neutral_data, img)\n",
    "    destination = os.path.join(train_neutral, img)\n",
    "    shutil.move(origin, destination)"
   ]
  },
  {
   "cell_type": "markdown",
   "metadata": {},
   "source": [
    "# Preprocessing\n",
    "\n",
    "This section of preprocessing is done only on the `explicit` `neutral`, and `sexy` image classes. Images were labeled by category and sized down to (80 x 80) in size to save computational time."
   ]
  },
  {
   "cell_type": "code",
   "execution_count": 20,
   "metadata": {
    "scrolled": false
   },
   "outputs": [
    {
     "data": {
      "text/plain": [
       "<matplotlib.image.AxesImage at 0x7faeea6aa3d0>"
      ]
     },
     "execution_count": 20,
     "metadata": {},
     "output_type": "execute_result"
    },
    {
     "data": {
      "image/png": "[encoded data removed]",
      "text/plain": [
       "<Figure size 432x288 with 1 Axes>"
      ]
     },
     "metadata": {
      "needs_background": "light"
     },
     "output_type": "display_data"
    }
   ],
   "source": [
    "# View one of the images\n",
    "image = plt.imread('Data/clean/train/neutral/_108255453_tv055754582.jpg')\n",
    "plt.imshow(image)"
   ]
  },
  {
   "cell_type": "code",
   "execution_count": 15,
   "metadata": {},
   "outputs": [],
   "source": [
    "# Specify the data directories, the file path for the datasets\n",
    "DATADIR = 'Data/clean/train'\n",
    "DATADIR2 = 'Data/clean/test'\n",
    "DATADIR3 = 'Data/clean/validation'\n",
    "\n",
    "# Identify the 3 classes/folders within each train/test/val folder\n",
    "CATEGORIES = ['explicit', 'neutral', 'sexy']"
   ]
  },
  {
   "cell_type": "code",
   "execution_count": 16,
   "metadata": {},
   "outputs": [],
   "source": [
    "# Resize all images\n",
    "img_size = 80"
   ]
  },
  {
   "cell_type": "code",
   "execution_count": 5,
   "metadata": {},
   "outputs": [
    {
     "name": "stdout",
     "output_type": "stream",
     "text": [
      "CPU times: user 5 µs, sys: 1e+03 ns, total: 6 µs\n",
      "Wall time: 10 µs\n",
      "Number of Photos in Training Data: 53951\n"
     ]
    }
   ],
   "source": [
    "# Resize, convert to grayscale, and label training data\n",
    "%time\n",
    "training_data = []\n",
    "\n",
    "def create_training_data():\n",
    "    for category in CATEGORIES:\n",
    "        path = os.path.join(DATADIR, category)\n",
    "        class_num = CATEGORIES.index(category) # create numerical values for the target\n",
    "        for img in os.listdir(path):\n",
    "            try:\n",
    "                img_array = cv2.imread(os.path.join(path,img), cv2.IMREAD_GRAYSCALE)\n",
    "                new_array = cv2.resize(img_array, (img_size, img_size)) # resize the images\n",
    "                training_data.append([new_array, class_num])\n",
    "            except Exception as e: # pass over any broken images\n",
    "                pass\n",
    "create_training_data()\n",
    "print(f'Number of Photos in Training Data: {len(training_data)}')"
   ]
  },
  {
   "cell_type": "code",
   "execution_count": 24,
   "metadata": {},
   "outputs": [
    {
     "data": {
      "text/plain": [
       "'Number of Photos in Test Data: 18481'"
      ]
     },
     "execution_count": 24,
     "metadata": {},
     "output_type": "execute_result"
    }
   ],
   "source": [
    "# Resize, convert to grayscale, and label test data\n",
    "test_data = []\n",
    "\n",
    "def create_test_data():\n",
    "    for category in CATEGORIES:\n",
    "        path = os.path.join(DATADIR2, category)\n",
    "        class_num = CATEGORIES.index(category)\n",
    "        for img in os.listdir(path):\n",
    "            try:\n",
    "                img_array2 = cv2.imread(os.path.join(path,img), cv2.IMREAD_GRAYSCALE)\n",
    "                new_array2 = cv2.resize(img_array2, (img_size, img_size))\n",
    "                test_data.append([new_array2, class_num])\n",
    "            except Exception as e:\n",
    "                pass\n",
    "create_test_data()\n",
    "(f'Number of Photos in Test Data: {len(test_data)}')"
   ]
  },
  {
   "cell_type": "code",
   "execution_count": 7,
   "metadata": {},
   "outputs": [
    {
     "data": {
      "text/plain": [
       "'Number of Photos in Validation Data: 9245'"
      ]
     },
     "execution_count": 7,
     "metadata": {},
     "output_type": "execute_result"
    }
   ],
   "source": [
    "# Resize, convert to grayscale, and label validation data\n",
    "val_data = []\n",
    "\n",
    "def create_val_data():\n",
    "    for category in CATEGORIES:\n",
    "        path = os.path.join(DATADIR3, category)\n",
    "        class_num = CATEGORIES.index(category)\n",
    "        for img in os.listdir(path):\n",
    "            try:\n",
    "                img_array3 = cv2.imread(os.path.join(path,img), cv2.IMREAD_GRAYSCALE)\n",
    "                new_array3 = cv2.resize(img_array3, (img_size, img_size))\n",
    "                val_data.append([new_array3, class_num])\n",
    "            except Exception as e:\n",
    "                pass\n",
    "create_val_data()\n",
    "(f'Number of Photos in Validation Data: {len(val_data)}')"
   ]
  },
  {
   "cell_type": "code",
   "execution_count": 8,
   "metadata": {},
   "outputs": [],
   "source": [
    "# Shuffle the images\n",
    "random.shuffle(training_data)\n",
    "random.shuffle(test_data)\n",
    "random.shuffle(val_data)"
   ]
  },
  {
   "cell_type": "code",
   "execution_count": 7,
   "metadata": {},
   "outputs": [],
   "source": [
    "# Seperate the features and the target variables into X and y\n",
    "X = []\n",
    "y = []\n",
    "\n",
    "for features, label in training_data:\n",
    "    X.append(features)\n",
    "    y.append(label)\n",
    "X = np.array(X).reshape(-1, img_size, img_size, 1)\n",
    "y = np.array(y)\n",
    "\n",
    "# Scale the data\n",
    "X = X/255."
   ]
  },
  {
   "cell_type": "code",
   "execution_count": null,
   "metadata": {},
   "outputs": [],
   "source": [
    "# Seperate the features and the target variables into X_test and y_test\n",
    "X_test = []\n",
    "y_test = []\n",
    "\n",
    "for features, label in test_data:\n",
    "    X_test.append(features)\n",
    "    y_test.append(label)\n",
    "X_test = np.array(X_test).reshape(-1, img_size, img_size, 1)\n",
    "y_test = np.array(y_test)\n",
    "\n",
    "# Scale the data\n",
    "X_test = X_test/255."
   ]
  },
  {
   "cell_type": "code",
   "execution_count": 9,
   "metadata": {},
   "outputs": [],
   "source": [
    "# Seperate the features and the target variables into X_val and y_val\n",
    "X_val = []\n",
    "y_val = []\n",
    "\n",
    "for features, label in val_data:\n",
    "    X_val.append(features)\n",
    "    y_val.append(label)\n",
    "X_val = np.array(X_val).reshape(-1, img_size, img_size, 1)\n",
    "y_val = np.array(y_val)\n",
    "\n",
    "# Scale the data\n",
    "X_val = X_val/255."
   ]
  },
  {
   "cell_type": "markdown",
   "metadata": {},
   "source": [
    "Now that my images are preprocessed I have decided to pickle the data, so I can remove the original images from storage."
   ]
  },
  {
   "cell_type": "code",
   "execution_count": null,
   "metadata": {},
   "outputs": [],
   "source": [
    "# Pickle training data\n",
    "pickle_out = open('X.pickle', 'wb')\n",
    "pickle.dump(X, pickle_out)\n",
    "pickle_out.close()\n",
    "\n",
    "pickle_out = open('y.pickle', 'wb')\n",
    "pickle.dump(y, pickle_out)\n",
    "pickle_out.close()"
   ]
  },
  {
   "cell_type": "code",
   "execution_count": 22,
   "metadata": {},
   "outputs": [],
   "source": [
    "# Pickle test data\n",
    "pickle_out = open('X_test.pickle', 'wb')\n",
    "pickle.dump(X_test, pickle_out)\n",
    "pickle_out.close()\n",
    "\n",
    "pickle_out = open('y_test.pickle', 'wb')\n",
    "pickle.dump(y_test, pickle_out)\n",
    "pickle_out.close()"
   ]
  },
  {
   "cell_type": "code",
   "execution_count": 12,
   "metadata": {},
   "outputs": [],
   "source": [
    "# Pickle validation data\n",
    "pickle_out = open('X_val.pickle', 'wb')\n",
    "pickle.dump(X_val, pickle_out)\n",
    "pickle_out.close()\n",
    "\n",
    "pickle_out = open('y_val.pickle', 'wb')\n",
    "pickle.dump(y_val, pickle_out)\n",
    "pickle_out.close()"
   ]
  },
  {
   "cell_type": "markdown",
   "metadata": {},
   "source": [
    "#### Preprocess and Clean `violent` and `breastfeeding` Image Classes "
   ]
  },
  {
   "cell_type": "code",
   "execution_count": 17,
   "metadata": {},
   "outputs": [],
   "source": [
    "# Specify data directories, the file path for my datasets\n",
    "DATADIR4 = 'Data/webscraped_images/new_train'\n",
    "DATADIR5 = 'Data/webscraped_images/new_val'\n",
    "\n",
    "# Identify the two additional classes\n",
    "CATEGORIES = ['breastfeeding', 'violence']\n",
    "img_size = 80"
   ]
  },
  {
   "cell_type": "code",
   "execution_count": 18,
   "metadata": {},
   "outputs": [
    {
     "name": "stdout",
     "output_type": "stream",
     "text": [
      "Number of Photos in Training Data: 569\n"
     ]
    }
   ],
   "source": [
    "# Resize, convert to grayscale, and label training data\n",
    "training_data_extra = []\n",
    "\n",
    "def create_training_data_extra():\n",
    "    for category in CATEGORIES:\n",
    "        path = os.path.join(DATADIR4, category)\n",
    "        class_num = CATEGORIES.index(category) # create numerical values for the target\n",
    "        for img in os.listdir(path):\n",
    "            try:\n",
    "                img_array = cv2.imread(os.path.join(path,img), cv2.IMREAD_GRAYSCALE)\n",
    "                new_array = cv2.resize(img_array, (img_size, img_size)) # resize the images\n",
    "                training_data_extra.append([new_array, class_num])\n",
    "            except Exception as e: # pass over any broken images\n",
    "                pass\n",
    "create_training_data_extra()\n",
    "print(f'Number of Photos in Training Data: {len(training_data_extra)}')"
   ]
  },
  {
   "cell_type": "code",
   "execution_count": 19,
   "metadata": {},
   "outputs": [
    {
     "data": {
      "text/plain": [
       "'Number of Photos in Validation Data: 50'"
      ]
     },
     "execution_count": 19,
     "metadata": {},
     "output_type": "execute_result"
    }
   ],
   "source": [
    "# Resize, convert to grayscale, and label validation data\n",
    "val_data_extra = []\n",
    "\n",
    "def create_val_data_extra():\n",
    "    for category in CATEGORIES:\n",
    "        path = os.path.join(DATADIR5, category)\n",
    "        class_num = CATEGORIES.index(category)\n",
    "        for img in os.listdir(path):\n",
    "            try:\n",
    "                img_array3 = cv2.imread(os.path.join(path,img), cv2.IMREAD_GRAYSCALE)\n",
    "                new_array3 = cv2.resize(img_array3, (img_size, img_size))\n",
    "                val_data_extra.append([new_array3, class_num])\n",
    "            except Exception as e:\n",
    "                pass\n",
    "create_val_data_extra()\n",
    "(f'Number of Photos in Validation Data: {len(val_data_extra)}')"
   ]
  },
  {
   "cell_type": "markdown",
   "metadata": {},
   "source": [
    "There are only between 200-300 photos in the `violent` and `breastfeeding` categories compared the the thousands in the `explicit`, `neutral`, and `sexy` image classes. There are no test images for `violent` and `breastfeeding` because I want to spare as few images as possible in the train category."
   ]
  },
  {
   "cell_type": "code",
   "execution_count": 20,
   "metadata": {},
   "outputs": [],
   "source": [
    "# Shuffle train and validation data\n",
    "random.shuffle(training_data_extra)\n",
    "random.shuffle(val_data_extra)"
   ]
  },
  {
   "cell_type": "code",
   "execution_count": 21,
   "metadata": {},
   "outputs": [],
   "source": [
    "# Seperate the features and the target variables into X_extra and y_extra\n",
    "X_extra = []\n",
    "y_extra = []\n",
    "\n",
    "for features, label in training_data_extra:\n",
    "    X_extra.append(features)\n",
    "    y_extra.append(label)\n",
    "X_extra = np.array(X_extra).reshape(-1, img_size, img_size, 1)\n",
    "y_extra = np.array(y_extra)\n",
    "\n",
    "# Scale the data\n",
    "X_extra = X_extra/255."
   ]
  },
  {
   "cell_type": "code",
   "execution_count": 22,
   "metadata": {},
   "outputs": [],
   "source": [
    "# Seperate the features and the target variables into X_val_extra and y_val_extra\n",
    "X_val_extra = []\n",
    "y_val_extra = []\n",
    "\n",
    "for features, label in val_data_extra:\n",
    "    X_val_extra.append(features)\n",
    "    y_val_extra.append(label)\n",
    "X_val_extra = np.array(X_val_extra).reshape(-1, img_size, img_size, 1)\n",
    "y_val_extra = np.array(y_val_extra)\n",
    "\n",
    "# Scale the data\n",
    "X_val_extra = X_val_extra/255."
   ]
  },
  {
   "cell_type": "code",
   "execution_count": 23,
   "metadata": {},
   "outputs": [],
   "source": [
    "# Pickle X_extra and y_extra\n",
    "pickle_out = open('X_extra.pickle', 'wb')\n",
    "pickle.dump(X_extra, pickle_out)\n",
    "pickle_out.close()\n",
    "\n",
    "pickle_out = open('y_extra.pickle', 'wb')\n",
    "pickle.dump(y_extra, pickle_out)\n",
    "pickle_out.close()"
   ]
  },
  {
   "cell_type": "code",
   "execution_count": 24,
   "metadata": {},
   "outputs": [],
   "source": [
    "# Pickle X_val_extra and y_val_extra\n",
    "pickle_out = open('X_val_extra.pickle', 'wb')\n",
    "pickle.dump(X_val_extra, pickle_out)\n",
    "pickle_out.close()\n",
    "\n",
    "pickle_out = open('y_val_extra.pickle', 'wb')\n",
    "pickle.dump(y_val_extra, pickle_out)\n",
    "pickle_out.close()"
   ]
  },
  {
   "cell_type": "markdown",
   "metadata": {},
   "source": [
    "### Downsampled 5-Class Image Data"
   ]
  },
  {
   "cell_type": "code",
   "execution_count": 25,
   "metadata": {},
   "outputs": [],
   "source": [
    "# Specify data directories, the file path for my datasets\n",
    "DATADIR6 = 'Data/clean/train_down'\n",
    "DATADIR7 = 'Data/clean/validation_down'\n",
    "\n",
    "# Identify five classes\n",
    "CATEGORIES = ['breastfeeding', 'explicit', 'neutral', 'sexy', 'violence']\n",
    "img_size = 80"
   ]
  },
  {
   "cell_type": "code",
   "execution_count": 27,
   "metadata": {},
   "outputs": [
    {
     "name": "stdout",
     "output_type": "stream",
     "text": [
      "Number of Photos in Training Data: 1451\n"
     ]
    }
   ],
   "source": [
    "# Resize, convert to grayscale, and label training data\n",
    "training_data_extra = []\n",
    "\n",
    "def create_training_data_extra():\n",
    "    for category in CATEGORIES:\n",
    "        path = os.path.join(DATADIR6, category)\n",
    "        class_num = CATEGORIES.index(category) # create numerical values for the target\n",
    "        for img in os.listdir(path):\n",
    "            try:\n",
    "                img_array = cv2.imread(os.path.join(path,img), cv2.IMREAD_GRAYSCALE)\n",
    "                new_array = cv2.resize(img_array, (img_size, img_size)) # resize the images\n",
    "                training_data_extra.append([new_array, class_num])\n",
    "            except Exception as e: # pass over any broken images\n",
    "                pass\n",
    "create_training_data_extra()\n",
    "print(f'Number of Photos in Training Data: {len(training_data_extra)}')"
   ]
  },
  {
   "cell_type": "code",
   "execution_count": 29,
   "metadata": {},
   "outputs": [
    {
     "data": {
      "text/plain": [
       "'Number of Photos in Validation Data: 110'"
      ]
     },
     "execution_count": 29,
     "metadata": {},
     "output_type": "execute_result"
    }
   ],
   "source": [
    "# Resize, convert to grayscale, and label validation data\n",
    "val_data_extra = []\n",
    "\n",
    "def create_val_data_extra():\n",
    "    for category in CATEGORIES:\n",
    "        path = os.path.join(DATADIR7, category)\n",
    "        class_num = CATEGORIES.index(category)\n",
    "        for img in os.listdir(path):\n",
    "            try:\n",
    "                img_array3 = cv2.imread(os.path.join(path,img), cv2.IMREAD_GRAYSCALE)\n",
    "                new_array3 = cv2.resize(img_array3, (img_size, img_size))\n",
    "                val_data_extra.append([new_array3, class_num])\n",
    "            except Exception as e:\n",
    "                pass\n",
    "create_val_data_extra()\n",
    "(f'Number of Photos in Validation Data: {len(val_data_extra)}')"
   ]
  },
  {
   "cell_type": "code",
   "execution_count": 30,
   "metadata": {},
   "outputs": [],
   "source": [
    "# Shuffle data\n",
    "random.shuffle(training_data_extra)\n",
    "random.shuffle(val_data_extra)"
   ]
  },
  {
   "cell_type": "code",
   "execution_count": 31,
   "metadata": {},
   "outputs": [],
   "source": [
    "# Seperate the features and the target variables into X and y\n",
    "X_extra = []\n",
    "y_extra = []\n",
    "\n",
    "for features, label in training_data_extra:\n",
    "    X_extra.append(features)\n",
    "    y_extra.append(label)\n",
    "X_extra = np.array(X_extra).reshape(-1, img_size, img_size, 1)\n",
    "y_extra = np.array(y_extra)\n",
    "\n",
    "# Scale the data\n",
    "X_extra = X_extra/255."
   ]
  },
  {
   "cell_type": "code",
   "execution_count": 32,
   "metadata": {},
   "outputs": [],
   "source": [
    "# Seperate the features and the target variables into X and y\n",
    "X_val_extra = []\n",
    "y_val_extra = []\n",
    "\n",
    "for features, label in val_data_extra:\n",
    "    X_val_extra.append(features)\n",
    "    y_val_extra.append(label)\n",
    "X_val_extra = np.array(X_val_extra).reshape(-1, img_size, img_size, 1)\n",
    "y_val_extra = np.array(y_val_extra)\n",
    "\n",
    "# Scale the data\n",
    "X_val_extra = X_val_extra/255."
   ]
  },
  {
   "cell_type": "code",
   "execution_count": 33,
   "metadata": {},
   "outputs": [],
   "source": [
    "# Pickle X_down and y_down\n",
    "pickle_out = open('X_down.pickle', 'wb')\n",
    "pickle.dump(X_extra, pickle_out)\n",
    "pickle_out.close()\n",
    "\n",
    "pickle_out = open('y_down.pickle', 'wb')\n",
    "pickle.dump(y_extra, pickle_out)\n",
    "pickle_out.close()"
   ]
  },
  {
   "cell_type": "code",
   "execution_count": 34,
   "metadata": {},
   "outputs": [],
   "source": [
    "# Pickle X_val_down and y_val_down\n",
    "pickle_out = open('X_val_down.pickle', 'wb')\n",
    "pickle.dump(X_val_extra, pickle_out)\n",
    "pickle_out.close()\n",
    "\n",
    "pickle_out = open('y_val_down.pickle', 'wb')\n",
    "pickle.dump(y_val_extra, pickle_out)\n",
    "pickle_out.close()"
   ]
  },
  {
   "cell_type": "markdown",
   "metadata": {},
   "source": [
    "### Increase Image Size in Downsized 5-Class Data"
   ]
  },
  {
   "cell_type": "code",
   "execution_count": 35,
   "metadata": {},
   "outputs": [],
   "source": [
    "# Larger image size\n",
    "img_size = 521"
   ]
  },
  {
   "cell_type": "code",
   "execution_count": 36,
   "metadata": {},
   "outputs": [
    {
     "name": "stdout",
     "output_type": "stream",
     "text": [
      "Number of Photos in Training Data: 1451\n"
     ]
    }
   ],
   "source": [
    "# Resize, convert to grayscale, and label validation data\n",
    "training_data_extra = []\n",
    "\n",
    "def create_training_data_extra():\n",
    "    for category in CATEGORIES:\n",
    "        path = os.path.join(DATADIR6, category)\n",
    "        class_num = CATEGORIES.index(category) # create numerical values for the target\n",
    "        for img in os.listdir(path):\n",
    "            try:\n",
    "                img_array = cv2.imread(os.path.join(path,img), cv2.IMREAD_GRAYSCALE)\n",
    "                new_array = cv2.resize(img_array, (img_size, img_size)) # resize the images\n",
    "                training_data_extra.append([new_array, class_num])\n",
    "            except Exception as e: # pass over any broken images\n",
    "                pass\n",
    "create_training_data_extra()\n",
    "print(f'Number of Photos in Training Data: {len(training_data_extra)}')"
   ]
  },
  {
   "cell_type": "code",
   "execution_count": 37,
   "metadata": {},
   "outputs": [
    {
     "data": {
      "text/plain": [
       "'Number of Photos in Validation Data: 110'"
      ]
     },
     "execution_count": 37,
     "metadata": {},
     "output_type": "execute_result"
    }
   ],
   "source": [
    "# Resize, convert to grayscale, and label validation data\n",
    "\n",
    "val_data_extra = []\n",
    "\n",
    "def create_val_data_extra():\n",
    "    for category in CATEGORIES:\n",
    "        path = os.path.join(DATADIR7, category)\n",
    "        class_num = CATEGORIES.index(category)\n",
    "        for img in os.listdir(path):\n",
    "            try:\n",
    "                img_array3 = cv2.imread(os.path.join(path,img), cv2.IMREAD_GRAYSCALE)\n",
    "                new_array3 = cv2.resize(img_array3, (img_size, img_size))\n",
    "                val_data_extra.append([new_array3, class_num])\n",
    "            except Exception as e:\n",
    "                pass\n",
    "create_val_data_extra()\n",
    "(f'Number of Photos in Validation Data: {len(val_data_extra)}')"
   ]
  },
  {
   "cell_type": "code",
   "execution_count": 38,
   "metadata": {},
   "outputs": [],
   "source": [
    "# Shuffle data\n",
    "random.shuffle(training_data_extra)\n",
    "random.shuffle(val_data_extra)"
   ]
  },
  {
   "cell_type": "code",
   "execution_count": 39,
   "metadata": {},
   "outputs": [],
   "source": [
    "# Seperate the features and the target variables into X and y\n",
    "X_extra = []\n",
    "y_extra = []\n",
    "\n",
    "for features, label in training_data_extra:\n",
    "    X_extra.append(features)\n",
    "    y_extra.append(label)\n",
    "X_extra = np.array(X_extra).reshape(-1, img_size, img_size, 1)\n",
    "y_extra = np.array(y_extra)\n",
    "\n",
    "# Scale the data\n",
    "X_extra = X_extra/255."
   ]
  },
  {
   "cell_type": "code",
   "execution_count": 40,
   "metadata": {},
   "outputs": [],
   "source": [
    "# Seperate the features and the target variables into X and y\n",
    "X_val_extra = []\n",
    "y_val_extra = []\n",
    "\n",
    "for features, label in val_data_extra:\n",
    "    X_val_extra.append(features)\n",
    "    y_val_extra.append(label)\n",
    "X_val_extra = np.array(X_val_extra).reshape(-1, img_size, img_size, 1)\n",
    "y_val_extra = np.array(y_val_extra)\n",
    "\n",
    "# Scale the data\n",
    "X_val_extra = X_val_extra/255."
   ]
  },
  {
   "cell_type": "code",
   "execution_count": 41,
   "metadata": {},
   "outputs": [],
   "source": [
    "# Pickle X_down_521 and y_down_521\n",
    "pickle_out = open('X_down_521.pickle', 'wb')\n",
    "pickle.dump(X_extra, pickle_out)\n",
    "pickle_out.close()\n",
    "\n",
    "pickle_out = open('y_down_521.pickle', 'wb')\n",
    "pickle.dump(y_extra, pickle_out)\n",
    "pickle_out.close()"
   ]
  },
  {
   "cell_type": "code",
   "execution_count": 42,
   "metadata": {},
   "outputs": [],
   "source": [
    "# Pickle X_val_down_521 and y_val_down_521\n",
    "pickle_out = open('X_val_down_521.pickle', 'wb')\n",
    "pickle.dump(X_val_extra, pickle_out)\n",
    "pickle_out.close()\n",
    "\n",
    "pickle_out = open('y_val_down_521.pickle', 'wb')\n",
    "pickle.dump(y_val_extra, pickle_out)\n",
    "pickle_out.close()"
   ]
  }
 ],
 "metadata": {
  "kernelspec": {
   "display_name": "Python (learn-env)",
   "language": "python",
   "name": "learn-env"
  },
  "language_info": {
   "codemirror_mode": {
    "name": "ipython",
    "version": 3
   },
   "file_extension": ".py",
   "mimetype": "text/x-python",
   "name": "python",
   "nbconvert_exporter": "python",
   "pygments_lexer": "ipython3",
   "version": "3.8.3"
  }
 },
 "nbformat": 4,
 "nbformat_minor": 4
}
