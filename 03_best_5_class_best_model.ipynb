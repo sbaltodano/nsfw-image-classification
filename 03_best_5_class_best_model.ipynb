{
  "nbformat": 4,
  "nbformat_minor": 0,
  "metadata": {
    "colab": {
      "name": "03_best_5_class_best_model.ipynb",
      "provenance": [],
      "machine_shape": "hm"
    },
    "kernelspec": {
      "name": "python3",
      "display_name": "Python 3"
    },
    "language_info": {
      "name": "python"
    }
  },
  "cells": [
    {
      "cell_type": "markdown",
      "metadata": {
        "id": "tLH3CEGIxiOn"
      },
      "source": [
        "# 5-Class CNN\n",
        "The following notebook reuses the best model from the 3-class CNN to predict classes in all five image categories, `explicit` `neutral`, `sexy`, `breastfeeding`, and `violent`."
      ]
    },
    {
      "cell_type": "code",
      "metadata": {
        "colab": {
          "base_uri": "https://localhost:8080/"
        },
        "id": "c7TGZrsGr4qj",
        "outputId": "d78fc50a-7a1c-4bbe-d9d4-0f6eababef4c"
      },
      "source": [
        "# Mount google drive to notebook to pull pickle files\n",
        "from google.colab import drive\n",
        "drive.mount('/content/drive')"
      ],
      "execution_count": 1,
      "outputs": [
        {
          "output_type": "stream",
          "name": "stdout",
          "text": [
            "Mounted at /content/drive\n"
          ]
        }
      ]
    },
    {
      "cell_type": "code",
      "metadata": {
        "id": "yIkGtaA9KGCA"
      },
      "source": [
        "# Import libraries\n",
        "import time, scipy\n",
        "import matplotlib.pyplot as plt\n",
        "import seaborn as sns\n",
        "import numpy as np\n",
        "import pandas as pd\n",
        "from sklearn.utils import shuffle\n",
        "from sklearn.metrics import confusion_matrix, plot_confusion_matrix, classification_report, recall_score, f1_score, precision_score, accuracy_score\n",
        " \n",
        "# Modeling libraries\n",
        "from keras import models\n",
        "from keras import layers\n",
        "import tensorflow as tf\n",
        "from tensorflow.keras.models import Sequential\n",
        "from tensorflow.keras.layers import Dense, Flatten, MaxPooling2D, Activation, Conv2D\n",
        "from tensorflow.keras import layers\n",
        "from tensorflow.keras.optimizers import SGD\n",
        "import pickle\n",
        "import keras"
      ],
      "execution_count": 40,
      "outputs": []
    },
    {
      "cell_type": "code",
      "metadata": {
        "id": "_YzcQVMEKObi"
      },
      "source": [
        "# Open Pickle files containing train, test, val data\n",
        "infile = open('/content/drive/MyDrive/nsfw_image_classification/Pickles/X.pickle','rb')\n",
        "X = pickle.load(infile)\n",
        "\n",
        "infile2 = open('/content/drive/MyDrive/nsfw_image_classification/Pickles/y.pickle','rb')\n",
        "y = pickle.load(infile2)\n",
        "\n",
        "infile5 = open('/content/drive/MyDrive/nsfw_image_classification/Pickles/X_val.pickle','rb')\n",
        "X_val = pickle.load(infile5)\n",
        "\n",
        "infile6 = open('/content/drive/MyDrive/nsfw_image_classification/Pickles/y_val.pickle','rb')\n",
        "y_val = pickle.load(infile6)\n",
        "\n",
        "\n",
        "# Import new classes to append to X and y\n",
        "infile3 = open('/content/drive/MyDrive/nsfw_image_classification/Pickles/X_extra.pickle','rb')\n",
        "X_extra = pickle.load(infile3)\n",
        "\n",
        "infile4 = open('/content/drive/MyDrive/nsfw_image_classification/Pickles/y_extra.pickle','rb')\n",
        "y_extra = pickle.load(infile4)\n",
        "\n",
        "infile7 = open('/content/drive/MyDrive/nsfw_image_classification/Pickles/X_val_extra.pickle','rb')\n",
        "X_val_extra = pickle.load(infile7)\n",
        "\n",
        "infile8 = open('/content/drive/MyDrive/nsfw_image_classification/Pickles/y_val_extra.pickle','rb')\n",
        "y_val_extra = pickle.load(infile8)"
      ],
      "execution_count": 18,
      "outputs": []
    },
    {
      "cell_type": "code",
      "metadata": {
        "colab": {
          "base_uri": "https://localhost:8080/"
        },
        "id": "rQvI-09fK6jH",
        "outputId": "4f74a2f9-ab15-49f8-ba97-599d4037d8e7"
      },
      "source": [
        "# Replace breastfeeding (0) with class number 3 and violence (1), with class number 4 before appending to y\n",
        "y_extra_num = np.where(y_extra == 0, 3, 4) \n",
        "y_extra_num[:5]"
      ],
      "execution_count": 24,
      "outputs": [
        {
          "output_type": "execute_result",
          "data": {
            "text/plain": [
              "array([3, 3, 4, 3, 3])"
            ]
          },
          "metadata": {},
          "execution_count": 24
        }
      ]
    },
    {
      "cell_type": "code",
      "metadata": {
        "colab": {
          "base_uri": "https://localhost:8080/"
        },
        "id": "pyf4zbj-LNFc",
        "outputId": "d4261d20-2d1d-4bf2-f200-812cb5c4f13e"
      },
      "source": [
        "# Replace breastfeeding (0) with class number 3 and violence (1), with class number 4 before appending to y\n",
        "y_val_extra_num = np.where(y_val_extra == 0, 3, 4) \n",
        "y_val_extra_num[:5]"
      ],
      "execution_count": 25,
      "outputs": [
        {
          "output_type": "execute_result",
          "data": {
            "text/plain": [
              "array([3, 3, 3, 4, 3])"
            ]
          },
          "metadata": {},
          "execution_count": 25
        }
      ]
    },
    {
      "cell_type": "code",
      "metadata": {
        "colab": {
          "base_uri": "https://localhost:8080/"
        },
        "id": "_vi84ynYMQU7",
        "outputId": "acb598ff-9b05-47f8-aba1-f1c2ea4a6f0c"
      },
      "source": [
        "# Concatenate X and y values for train and validation data to create new arrays\n",
        "X_new = np.concatenate((X, X_extra), axis=0)\n",
        "y_new = np.concatenate((y, y_extra_num), axis=0)\n",
        "\n",
        "X_val_new = np.concatenate((X_val, X_val_extra), axis=0)\n",
        "y_val_new = np.concatenate((y_val, y_val_extra_num), axis=0)\n",
        "\n",
        "print(f'X_new Size: {len(X_new)}')\n",
        "print(f'y_new Size: {len(y_new)}')\n",
        "print(f'X_val_new Size: {len(X_val_new)}')\n",
        "print(f'y_val_new Size: {len(y_val_new)}')"
      ],
      "execution_count": 26,
      "outputs": [
        {
          "output_type": "stream",
          "name": "stdout",
          "text": [
            "X_new Size: 65267\n",
            "y_new Size: 65267\n",
            "X_val_new Size: 9299\n",
            "y_val_new Size: 9299\n"
          ]
        }
      ]
    },
    {
      "cell_type": "code",
      "metadata": {
        "id": "eV5sMeexWw-m"
      },
      "source": [
        "# Shuffle X and y\n",
        "X, y = shuffle(X_new, y_new)\n",
        "X_val, y_val = shuffle(X_val_new, y_val_new)"
      ],
      "execution_count": 34,
      "outputs": []
    },
    {
      "cell_type": "code",
      "metadata": {
        "id": "jvMVTpK-Nubu"
      },
      "source": [
        "# Data Augmentation with horizonatal and vertical flips\n",
        "data_augmentation = Sequential([\n",
        "  layers.experimental.preprocessing.RandomFlip(\"horizontal_and_vertical\"),\n",
        "  layers.experimental.preprocessing.RandomRotation(0.2),\n",
        "])"
      ],
      "execution_count": 28,
      "outputs": []
    },
    {
      "cell_type": "code",
      "metadata": {
        "colab": {
          "base_uri": "https://localhost:8080/"
        },
        "id": "i-gvJJJtQEVq",
        "outputId": "90ab1b5a-be18-46f2-e8a4-ba28c4b5a9ac"
      },
      "source": [
        "model = Sequential([ # Model steps are performed one after another rather than at the same time\n",
        "  data_augmentation, # Apply data augmentation to the model\n",
        "  layers.Conv2D(filters=48, kernel_size=3, activation='relu', input_shape=X.shape[1:]),\n",
        "  layers.MaxPooling2D(pool_size=2, strides=2) \n",
        "]) # Max pooling to reduce noise and calculate the maximum value in each patch of each feature map\n",
        "\n",
        "model.add(layers.Conv2D(filters=48, kernel_size=3, activation='relu'))\n",
        "model.add(layers.MaxPool2D(pool_size=2, strides=1)) # More max pooling, decreased stride\n",
        "model.add(layers.Conv2D(filters=32, kernel_size=3, activation='relu'))\n",
        "model.add(layers.MaxPool2D(pool_size=2, strides=1)) # More max pooling, decreased stride\n",
        "model.add(layers.Conv2D(filters=32, kernel_size=3, activation='relu'))\n",
        "model.add(layers.MaxPool2D(pool_size=2, strides=1)) # More max pooling, decreased stride\n",
        "model.add(layers.Flatten()) # Transform features into a single column\n",
        "model.add(layers.Dense(128, activation='relu')) # First hidden layer\n",
        "model.add(layers.Dense(72, activation='relu')) # Second hidden layer\n",
        "model.add(layers.Dense(64, activation='relu')) # Third hidden layer\n",
        "model.add(layers.Dense(30, activation='relu')) # Fourth hidden layer\n",
        "model.add(layers.Dense(8, activation='relu')) # Fifth hidden layer\n",
        "model.add(layers.Dense(3, activation='softmax')) # Sixth hidden layer\n",
        "\n",
        "# Compile and train CNN\n",
        "opt = SGD(learning_rate=0.06) # Small learning rate to avoid overfitting\n",
        "model.compile(loss = 'sparse_categorical_crossentropy', # Sparse_categorical_crossentropy because the labels are not one hot encoded, and to reduce comp time\n",
        "               optimizer = opt, \n",
        "               metrics=['accuracy'])\n",
        "\n",
        "# Fit and score model performance\n",
        "model_score = model.fit(X,\n",
        "                        y, # Fit on training data\n",
        "                        epochs=50,\n",
        "                        validation_split=0.2) # Validation split of X and y to check for over/under fitting"
      ],
      "execution_count": 36,
      "outputs": [
        {
          "output_type": "stream",
          "name": "stdout",
          "text": [
            "Epoch 1/50\n",
            "1632/1632 [==============================] - 480s 294ms/step - loss: 1.0125 - accuracy: 0.5347 - val_loss: 0.9613 - val_accuracy: 0.5816\n",
            "Epoch 2/50\n",
            "1632/1632 [==============================] - 438s 269ms/step - loss: 0.9463 - accuracy: 0.5917 - val_loss: 0.9403 - val_accuracy: 0.6032\n",
            "Epoch 3/50\n",
            "1632/1632 [==============================] - 426s 261ms/step - loss: 0.9006 - accuracy: 0.6244 - val_loss: 0.8620 - val_accuracy: 0.6535\n",
            "Epoch 4/50\n",
            "1632/1632 [==============================] - 415s 254ms/step - loss: 0.8639 - accuracy: 0.6443 - val_loss: 0.8442 - val_accuracy: 0.6567\n",
            "Epoch 5/50\n",
            "1632/1632 [==============================] - 413s 253ms/step - loss: 0.8216 - accuracy: 0.6678 - val_loss: 0.7974 - val_accuracy: 0.6882\n",
            "Epoch 6/50\n",
            "1632/1632 [==============================] - 417s 255ms/step - loss: 0.7962 - accuracy: 0.6808 - val_loss: 0.8480 - val_accuracy: 0.6570\n",
            "Epoch 7/50\n",
            "1632/1632 [==============================] - 414s 254ms/step - loss: 0.7761 - accuracy: 0.6904 - val_loss: 0.9831 - val_accuracy: 0.6005\n",
            "Epoch 8/50\n",
            "1632/1632 [==============================] - 411s 252ms/step - loss: 0.7449 - accuracy: 0.7060 - val_loss: 0.7096 - val_accuracy: 0.7260\n",
            "Epoch 9/50\n",
            "1632/1632 [==============================] - 413s 253ms/step - loss: 0.7333 - accuracy: 0.7102 - val_loss: 0.7394 - val_accuracy: 0.7071\n",
            "Epoch 10/50\n",
            "1632/1632 [==============================] - 405s 248ms/step - loss: 0.7070 - accuracy: 0.7211 - val_loss: 0.6763 - val_accuracy: 0.7386\n",
            "Epoch 11/50\n",
            "1632/1632 [==============================] - 411s 252ms/step - loss: 0.6914 - accuracy: 0.7283 - val_loss: 0.6695 - val_accuracy: 0.7470\n",
            "Epoch 12/50\n",
            "1632/1632 [==============================] - 412s 253ms/step - loss: 0.6796 - accuracy: 0.7347 - val_loss: 0.6552 - val_accuracy: 0.7470\n",
            "Epoch 13/50\n",
            "1632/1632 [==============================] - 412s 252ms/step - loss: 0.6676 - accuracy: 0.7397 - val_loss: 0.6527 - val_accuracy: 0.7457\n",
            "Epoch 14/50\n",
            "1632/1632 [==============================] - 405s 248ms/step - loss: 0.6605 - accuracy: 0.7453 - val_loss: 0.6393 - val_accuracy: 0.7517\n",
            "Epoch 15/50\n",
            "1632/1632 [==============================] - 407s 250ms/step - loss: 0.6483 - accuracy: 0.7475 - val_loss: 0.6886 - val_accuracy: 0.7336\n",
            "Epoch 16/50\n",
            "1632/1632 [==============================] - 408s 250ms/step - loss: 0.6386 - accuracy: 0.7515 - val_loss: 0.6300 - val_accuracy: 0.7550\n",
            "Epoch 17/50\n",
            "1632/1632 [==============================] - 412s 252ms/step - loss: 0.6304 - accuracy: 0.7564 - val_loss: 0.7211 - val_accuracy: 0.7278\n",
            "Epoch 18/50\n",
            "1632/1632 [==============================] - 408s 250ms/step - loss: 0.6221 - accuracy: 0.7609 - val_loss: 0.6908 - val_accuracy: 0.7327\n",
            "Epoch 19/50\n",
            "1632/1632 [==============================] - 408s 250ms/step - loss: 0.6164 - accuracy: 0.7628 - val_loss: 0.6421 - val_accuracy: 0.7556\n",
            "Epoch 20/50\n",
            "1632/1632 [==============================] - 407s 249ms/step - loss: 0.6116 - accuracy: 0.7625 - val_loss: 0.5967 - val_accuracy: 0.7696\n",
            "Epoch 21/50\n",
            "1632/1632 [==============================] - 410s 251ms/step - loss: 0.6024 - accuracy: 0.7700 - val_loss: 0.6082 - val_accuracy: 0.7668\n",
            "Epoch 22/50\n",
            "1632/1632 [==============================] - 414s 254ms/step - loss: 0.5938 - accuracy: 0.7715 - val_loss: 0.6115 - val_accuracy: 0.7696\n",
            "Epoch 23/50\n",
            "1632/1632 [==============================] - 414s 254ms/step - loss: 0.5881 - accuracy: 0.7764 - val_loss: 0.6308 - val_accuracy: 0.7617\n",
            "Epoch 24/50\n",
            "1632/1632 [==============================] - 417s 255ms/step - loss: 0.5860 - accuracy: 0.7757 - val_loss: 0.6111 - val_accuracy: 0.7678\n",
            "Epoch 25/50\n",
            "1632/1632 [==============================] - 414s 254ms/step - loss: 0.5791 - accuracy: 0.7778 - val_loss: 0.6017 - val_accuracy: 0.7700\n",
            "Epoch 26/50\n",
            "1632/1632 [==============================] - 410s 251ms/step - loss: 0.5759 - accuracy: 0.7804 - val_loss: 0.6182 - val_accuracy: 0.7570\n",
            "Epoch 27/50\n",
            "1632/1632 [==============================] - 407s 249ms/step - loss: 0.5673 - accuracy: 0.7850 - val_loss: 0.6044 - val_accuracy: 0.7706\n",
            "Epoch 28/50\n",
            "1632/1632 [==============================] - 409s 250ms/step - loss: 0.5654 - accuracy: 0.7845 - val_loss: 0.5788 - val_accuracy: 0.7854\n",
            "Epoch 29/50\n",
            "1632/1632 [==============================] - 409s 251ms/step - loss: 0.5551 - accuracy: 0.7887 - val_loss: 0.5787 - val_accuracy: 0.7758\n",
            "Epoch 30/50\n",
            "1632/1632 [==============================] - 408s 250ms/step - loss: 0.5530 - accuracy: 0.7897 - val_loss: 0.5905 - val_accuracy: 0.7771\n",
            "Epoch 31/50\n",
            "1632/1632 [==============================] - 407s 250ms/step - loss: 0.5496 - accuracy: 0.7940 - val_loss: 0.5816 - val_accuracy: 0.7803\n",
            "Epoch 32/50\n",
            "1632/1632 [==============================] - 407s 249ms/step - loss: 0.5440 - accuracy: 0.7938 - val_loss: 0.6640 - val_accuracy: 0.7644\n",
            "Epoch 33/50\n",
            "1632/1632 [==============================] - 406s 249ms/step - loss: 0.5386 - accuracy: 0.7972 - val_loss: 0.5677 - val_accuracy: 0.7840\n",
            "Epoch 34/50\n",
            "1632/1632 [==============================] - 407s 250ms/step - loss: 0.5369 - accuracy: 0.7971 - val_loss: 0.8671 - val_accuracy: 0.6612\n",
            "Epoch 35/50\n",
            "1632/1632 [==============================] - 407s 249ms/step - loss: 0.5309 - accuracy: 0.7996 - val_loss: 0.6592 - val_accuracy: 0.7556\n",
            "Epoch 36/50\n",
            "1632/1632 [==============================] - 412s 252ms/step - loss: 0.5296 - accuracy: 0.8017 - val_loss: 0.5499 - val_accuracy: 0.7928\n",
            "Epoch 37/50\n",
            "1632/1632 [==============================] - 405s 248ms/step - loss: 0.5241 - accuracy: 0.8020 - val_loss: 0.6073 - val_accuracy: 0.7681\n",
            "Epoch 38/50\n",
            "1632/1632 [==============================] - 405s 248ms/step - loss: 0.5217 - accuracy: 0.8023 - val_loss: 0.5467 - val_accuracy: 0.7980\n",
            "Epoch 39/50\n",
            "1632/1632 [==============================] - 406s 249ms/step - loss: 0.5200 - accuracy: 0.8047 - val_loss: 0.5564 - val_accuracy: 0.7923\n",
            "Epoch 40/50\n",
            "1632/1632 [==============================] - 405s 248ms/step - loss: 0.5132 - accuracy: 0.8059 - val_loss: 0.5613 - val_accuracy: 0.7848\n",
            "Epoch 41/50\n",
            "1632/1632 [==============================] - 402s 246ms/step - loss: 0.5109 - accuracy: 0.8068 - val_loss: 0.5377 - val_accuracy: 0.8004\n",
            "Epoch 42/50\n",
            "1632/1632 [==============================] - 403s 247ms/step - loss: 0.5095 - accuracy: 0.8089 - val_loss: 0.5992 - val_accuracy: 0.7790\n",
            "Epoch 43/50\n",
            "1632/1632 [==============================] - 406s 249ms/step - loss: 0.5054 - accuracy: 0.8094 - val_loss: 0.5160 - val_accuracy: 0.8135\n",
            "Epoch 44/50\n",
            "1632/1632 [==============================] - 403s 247ms/step - loss: 0.5027 - accuracy: 0.8117 - val_loss: 0.5583 - val_accuracy: 0.7960\n",
            "Epoch 45/50\n",
            "1632/1632 [==============================] - 403s 247ms/step - loss: 0.4992 - accuracy: 0.8123 - val_loss: 0.6288 - val_accuracy: 0.7658\n",
            "Epoch 46/50\n",
            "1632/1632 [==============================] - 403s 247ms/step - loss: 0.4999 - accuracy: 0.8115 - val_loss: 0.6470 - val_accuracy: 0.7597\n",
            "Epoch 47/50\n",
            "1632/1632 [==============================] - 402s 246ms/step - loss: 0.4951 - accuracy: 0.8145 - val_loss: 0.5329 - val_accuracy: 0.8049\n",
            "Epoch 48/50\n",
            "1632/1632 [==============================] - 405s 248ms/step - loss: 0.4928 - accuracy: 0.8134 - val_loss: 0.5295 - val_accuracy: 0.8009\n",
            "Epoch 49/50\n",
            "1632/1632 [==============================] - 404s 248ms/step - loss: 0.4930 - accuracy: 0.8149 - val_loss: 0.5491 - val_accuracy: 0.7928\n",
            "Epoch 50/50\n",
            "1632/1632 [==============================] - 403s 247ms/step - loss: 0.4896 - accuracy: 0.8163 - val_loss: 0.5549 - val_accuracy: 0.7971\n"
          ]
        }
      ]
    },
    {
      "cell_type": "code",
      "metadata": {
        "colab": {
          "base_uri": "https://localhost:8080/"
        },
        "id": "qwmfUnjVQI8U",
        "outputId": "6c2793d6-35d6-46c7-beec-05e841274ca4"
      },
      "source": [
        "# Evaluate on unseen data\n",
        "model.evaluate(X_val, y_val)"
      ],
      "execution_count": 38,
      "outputs": [
        {
          "output_type": "stream",
          "name": "stdout",
          "text": [
            "291/291 [==============================] - 13s 43ms/step - loss: 0.5368 - accuracy: 0.8017\n"
          ]
        },
        {
          "output_type": "execute_result",
          "data": {
            "text/plain": [
              "[0.5368491411209106, 0.8016991019248962]"
            ]
          },
          "metadata": {},
          "execution_count": 38
        }
      ]
    },
    {
      "cell_type": "code",
      "metadata": {
        "colab": {
          "base_uri": "https://localhost:8080/"
        },
        "id": "oNdyEqEZx7Zp",
        "outputId": "6e5293a5-971d-4cc8-e240-413c593fd36a"
      },
      "source": [
        "print(f'This model has a 80.2% Accuracy')"
      ],
      "execution_count": 63,
      "outputs": [
        {
          "output_type": "stream",
          "name": "stdout",
          "text": [
            "This model has a 80.2% Accuracy\n"
          ]
        }
      ]
    },
    {
      "cell_type": "code",
      "metadata": {
        "colab": {
          "base_uri": "https://localhost:8080/",
          "height": 1000
        },
        "id": "HMJ9ZB2Z9RQ5",
        "outputId": "5f0bbd68-2448-40d9-ac16-92219c797f34"
      },
      "source": [
        "# View the change in accuracy and loss with each epoch\n",
        "\n",
        "# summarize history for accuracy\n",
        "plt.plot(model_score.history['accuracy'])\n",
        "plt.title('Model Accuracy')\n",
        "plt.ylabel('Accuracy')\n",
        "plt.xlabel('Epoch')\n",
        "plt.legend(['train', 'test'], loc='upper left')\n",
        "plt.show()\n",
        "# summarize history for loss\n",
        "plt.plot(model_score.history['loss'])\n",
        "plt.title('Model Loss')\n",
        "plt.ylabel('Loss')\n",
        "plt.xlabel('Epoch')\n",
        "plt.legend(['train', 'test'], loc='upper left')\n",
        "plt.show()\n",
        "\n",
        "# summarize history for accuracy\n",
        "plt.plot(model_score.history['accuracy'])\n",
        "plt.plot(model_score.history['val_accuracy'])\n",
        "plt.title('Model Accuracy')\n",
        "plt.ylabel('Accuracy')\n",
        "plt.xlabel('Epoch')\n",
        "plt.legend(['train', 'test'], loc='upper left')\n",
        "plt.show()\n",
        "# summarize history for loss\n",
        "plt.plot(model_score.history['loss'])\n",
        "plt.plot(model_score.history['val_loss'])\n",
        "plt.title('Model Loss')\n",
        "plt.ylabel('Loss')\n",
        "plt.xlabel('Epoch')\n",
        "plt.legend(['train', 'test'], loc='upper left')\n",
        "plt.show()"
      ],
      "execution_count": 48,
      "outputs": [
        {
          "output_type": "display_data",
          "data": {
            "image/png": "[encoded data removed]",
            "text/plain": [
              "<Figure size 432x288 with 1 Axes>"
            ]
          },
          "metadata": {
            "needs_background": "light"
          }
        },
        {
          "output_type": "display_data",
          "data": {
            "image/png": "[encoded data removed]",
            "text/plain": [
              "<Figure size 432x288 with 1 Axes>"
            ]
          },
          "metadata": {
            "needs_background": "light"
          }
        },
        {
          "output_type": "display_data",
          "data": {
            "image/png": "[encoded data removed]",
            "text/plain": [
              "<Figure size 432x288 with 1 Axes>"
            ]
          },
          "metadata": {
            "needs_background": "light"
          }
        },
        {
          "output_type": "display_data",
          "data": {
            "image/png": "[encoded data removed]",
            "text/plain": [
              "<Figure size 432x288 with 1 Axes>"
            ]
          },
          "metadata": {
            "needs_background": "light"
          }
        }
      ]
    },
    {
      "cell_type": "code",
      "metadata": {
        "colab": {
          "base_uri": "https://localhost:8080/"
        },
        "id": "Mi8HbE760asX",
        "outputId": "8a96a15f-3d98-4e0f-e491-910f22bf53c5"
      },
      "source": [
        "# Calculate predicted values\n",
        "y_pred = model.predict(X_val)\n",
        "# Convert predicted 3-d array into 1-d array\n",
        "y_pred = np.argmax(y_pred, axis=1)\n",
        "# Convert numpy arrays to pandas series\n",
        "y_actu = pd.Series(y_val, name='Actual')\n",
        "y_pred = pd.Series(y_pred, name='Predicted')\n",
        "\n",
        "\n",
        "# Print confusion matrix\n",
        "df_confusion = pd.crosstab(y_actu, y_pred, rownames=['Actual'], colnames=['Predicted'], margins=True)\n",
        "print(df_confusion)"
      ],
      "execution_count": 41,
      "outputs": [
        {
          "output_type": "stream",
          "name": "stdout",
          "text": [
            "Predicted     0     1     2  3   All\n",
            "Actual                              \n",
            "0          3697   452   319  0  4468\n",
            "1           315  3073   143  1  3532\n",
            "2           243   326   680  0  1249\n",
            "3            15     6     4  5    30\n",
            "4             2    14     4  0    20\n",
            "All        4272  3871  1150  6  9299\n"
          ]
        }
      ]
    },
    {
      "cell_type": "code",
      "metadata": {
        "colab": {
          "base_uri": "https://localhost:8080/",
          "height": 324
        },
        "id": "D2ZgtKaz0wlH",
        "outputId": "f4048c62-ce98-4d91-c8c5-9f91d4e8f620"
      },
      "source": [
        "# Plot confusion matrix\n",
        "conf = confusion_matrix(y_actu, y_pred)\n",
        "labels = ['explicit', 'neutral' ,'sexy', 'breastfeeding', 'violence']\n",
        "sns.heatmap(conf, annot=True, fmt=\"d\", cmap='Blues', xticklabels=labels, yticklabels=labels);"
      ],
      "execution_count": 42,
      "outputs": [
        {
          "output_type": "display_data",
          "data": {
            "image/png": "[encoded data removed]",
            "text/plain": [
              "<Figure size 432x288 with 2 Axes>"
            ]
          },
          "metadata": {
            "needs_background": "light"
          }
        }
      ]
    },
    {
      "cell_type": "code",
      "metadata": {
        "colab": {
          "base_uri": "https://localhost:8080/"
        },
        "id": "hISZWnel3ub4",
        "outputId": "1a30d87d-c3b7-4275-ab92-440042bb5884"
      },
      "source": [
        "# Print classification report\n",
        "print(classification_report(y_val ,y_pred, target_names=labels))"
      ],
      "execution_count": 46,
      "outputs": [
        {
          "output_type": "stream",
          "name": "stdout",
          "text": [
            "               precision    recall  f1-score   support\n",
            "\n",
            "     explicit       0.87      0.83      0.85      4468\n",
            "      neutral       0.79      0.87      0.83      3532\n",
            "         sexy       0.59      0.54      0.57      1249\n",
            "breastfeeding       0.83      0.17      0.28        30\n",
            "     violence       0.00      0.00      0.00        20\n",
            "\n",
            "     accuracy                           0.80      9299\n",
            "    macro avg       0.62      0.48      0.50      9299\n",
            " weighted avg       0.80      0.80      0.80      9299\n",
            "\n"
          ]
        },
        {
          "output_type": "stream",
          "name": "stderr",
          "text": [
            "/usr/local/lib/python3.7/dist-packages/sklearn/metrics/_classification.py:1272: UndefinedMetricWarning: Precision and F-score are ill-defined and being set to 0.0 in labels with no predicted samples. Use `zero_division` parameter to control this behavior.\n",
            "  _warn_prf(average, modifier, msg_start, len(result))\n"
          ]
        }
      ]
    },
    {
      "cell_type": "code",
      "metadata": {
        "colab": {
          "base_uri": "https://localhost:8080/"
        },
        "id": "vS82qzzm1ZHN",
        "outputId": "88e493cf-c3f1-4a8e-ccf9-a40b4a4ce00e"
      },
      "source": [
        "# Calculate predicted values\n",
        "y_pred2 = model.predict(X)\n",
        "# Convert predicted 3-d array into 1-d array\n",
        "y_pred2 = np.argmax(y_pred2, axis=1)\n",
        "# Convert numpy arrays to pandas series\n",
        "y_actu2 = pd.Series(y, name='Actual')\n",
        "y_pred2 = pd.Series(y_pred2, name='Predicted')\n",
        "\n",
        "\n",
        "# Print confusion matrix\n",
        "df_confusion2 = pd.crosstab(y_actu2, y_pred2, rownames=['Actual'], colnames=['Predicted'], margins=True)\n",
        "print(df_confusion2)"
      ],
      "execution_count": 43,
      "outputs": [
        {
          "output_type": "stream",
          "name": "stdout",
          "text": [
            "Predicted      0      1     2   3  4    All\n",
            "Actual                                     \n",
            "0          26019   3030  2208   0  0  31257\n",
            "1           1924  21898   875   1  1  24699\n",
            "2           1682   2372  4687   1  0   8742\n",
            "3            208     94    56  32  0    390\n",
            "4             28    149     1   1  0    179\n",
            "All        29861  27543  7827  35  1  65267\n"
          ]
        }
      ]
    },
    {
      "cell_type": "code",
      "metadata": {
        "colab": {
          "base_uri": "https://localhost:8080/",
          "height": 324
        },
        "id": "mj77EKHW2Tig",
        "outputId": "1d8fcac2-4365-43d8-aa0a-1ca68e10ce95"
      },
      "source": [
        "# Plot confusion matrix\n",
        "conf2 = confusion_matrix(y_actu2, y_pred2)\n",
        "sns.heatmap(conf2, annot=True, fmt=\"d\", cmap='Blues', xticklabels=labels, yticklabels=labels);"
      ],
      "execution_count": 44,
      "outputs": [
        {
          "output_type": "display_data",
          "data": {
            "image/png": "[encoded data removed]",
            "text/plain": [
              "<Figure size 432x288 with 2 Axes>"
            ]
          },
          "metadata": {
            "needs_background": "light"
          }
        }
      ]
    },
    {
      "cell_type": "code",
      "metadata": {
        "colab": {
          "base_uri": "https://localhost:8080/"
        },
        "id": "tmIXrv_69Wi7",
        "outputId": "0eb8f23f-3fea-4b03-e39f-2693f0d9427c"
      },
      "source": [
        "model.summary()"
      ],
      "execution_count": 49,
      "outputs": [
        {
          "output_type": "stream",
          "name": "stdout",
          "text": [
            "Model: \"sequential_5\"\n",
            "_________________________________________________________________\n",
            "Layer (type)                 Output Shape              Param #   \n",
            "=================================================================\n",
            "sequential (Sequential)      (None, 90, 90, 1)         0         \n",
            "_________________________________________________________________\n",
            "conv2d_16 (Conv2D)           (None, 88, 88, 48)        480       \n",
            "_________________________________________________________________\n",
            "max_pooling2d_16 (MaxPooling (None, 44, 44, 48)        0         \n",
            "_________________________________________________________________\n",
            "conv2d_17 (Conv2D)           (None, 42, 42, 48)        20784     \n",
            "_________________________________________________________________\n",
            "max_pooling2d_17 (MaxPooling (None, 41, 41, 48)        0         \n",
            "_________________________________________________________________\n",
            "conv2d_18 (Conv2D)           (None, 39, 39, 32)        13856     \n",
            "_________________________________________________________________\n",
            "max_pooling2d_18 (MaxPooling (None, 38, 38, 32)        0         \n",
            "_________________________________________________________________\n",
            "conv2d_19 (Conv2D)           (None, 36, 36, 32)        9248      \n",
            "_________________________________________________________________\n",
            "max_pooling2d_19 (MaxPooling (None, 35, 35, 32)        0         \n",
            "_________________________________________________________________\n",
            "flatten_4 (Flatten)          (None, 39200)             0         \n",
            "_________________________________________________________________\n",
            "dense_24 (Dense)             (None, 128)               5017728   \n",
            "_________________________________________________________________\n",
            "dense_25 (Dense)             (None, 72)                9288      \n",
            "_________________________________________________________________\n",
            "dense_26 (Dense)             (None, 64)                4672      \n",
            "_________________________________________________________________\n",
            "dense_27 (Dense)             (None, 30)                1950      \n",
            "_________________________________________________________________\n",
            "dense_28 (Dense)             (None, 8)                 248       \n",
            "_________________________________________________________________\n",
            "dense_29 (Dense)             (None, 5)                 45        \n",
            "=================================================================\n",
            "Total params: 5,078,299\n",
            "Trainable params: 5,078,299\n",
            "Non-trainable params: 0\n",
            "_________________________________________________________________\n"
          ]
        }
      ]
    },
    {
      "cell_type": "markdown",
      "metadata": {
        "id": "igQncDF6yi82"
      },
      "source": [
        "### Model Analysis\n",
        "Model accuracy has decreased by only 1% from the [3-class model]('02_best_3_class_model.ipynb'), but when you take a closer look nearly every `violent` and `breastfeeding`. `Breastfeeding` photos are being primarily missclasified because many of them show the mothers nipple while nursing. The `violent` images are primarily missclassified as `neutral`, which is alarming because having scraped the images myself, I know that they depict violent crime scenes and deceased bodies which is not something that a normal person would want to see on their newsfeed on any given day. I will need to better account for the massive class imbalance in future models."
      ]
    },
    {
      "cell_type": "markdown",
      "metadata": {
        "id": "GycQ8roLybyS"
      },
      "source": [
        "# Modeling On Downsampled Data\n",
        "The images have been downsampled, ranging from 200-300 per class to better account for the imbalanced data. The datset in the following models uses only 2% of all photos."
      ]
    },
    {
      "cell_type": "code",
      "metadata": {
        "id": "Ep-1SU-P3kiK"
      },
      "source": [
        "# Open Pickle files containing downsampled data\n",
        "infile9 = open('/content/drive/MyDrive/nsfw_image_classification/Pickles/X_down.pickle','rb')\n",
        "X_down = pickle.load(infile9)\n",
        "\n",
        "infile10 = open('/content/drive/MyDrive/nsfw_image_classification/Pickles/y_down.pickle','rb')\n",
        "y_down = pickle.load(infile10)\n",
        "\n",
        "infile11 = open('/content/drive/MyDrive/nsfw_image_classification/Pickles/X_val_down.pickle','rb')\n",
        "X_val_down = pickle.load(infile11)\n",
        "\n",
        "infile12 = open('/content/drive/MyDrive/nsfw_image_classification/Pickles/y_val_down.pickle','rb')\n",
        "y_val_down = pickle.load(infile12)"
      ],
      "execution_count": 51,
      "outputs": []
    },
    {
      "cell_type": "code",
      "metadata": {
        "colab": {
          "base_uri": "https://localhost:8080/"
        },
        "id": "gUjkVEKx4UBk",
        "outputId": "07b32af4-24d2-4541-f32c-d8323aacd650"
      },
      "source": [
        "# Reused best CNN model\n",
        "model2 = Sequential([ # Model steps are performed one after another rather than at the same time\n",
        "  data_augmentation,\n",
        "  layers.Conv2D(filters=48, kernel_size=3, activation='relu', input_shape=X.shape[1:]),\n",
        "  layers.MaxPooling2D(pool_size=2, strides=2)\n",
        "])\n",
        "\n",
        "model2.add(layers.Conv2D(filters=48, kernel_size=3, activation='relu'))\n",
        "model2.add(layers.MaxPool2D(pool_size=2, strides=1))\n",
        "model2.add(layers.Conv2D(filters=32, kernel_size=3, activation='relu'))\n",
        "model2.add(layers.MaxPool2D(pool_size=2, strides=1))\n",
        "model2.add(layers.Conv2D(filters=32, kernel_size=3, activation='relu'))\n",
        "model2.add(layers.MaxPool2D(pool_size=2, strides=1))\n",
        "model2.add(layers.Flatten())\n",
        "model2.add(layers.Dense(128, activation='relu')) # First hidden layer\n",
        "model2.add(layers.Dense(72, activation='relu')) # Second hidden layer\n",
        "model2.add(layers.Dense(64, activation='relu')) # Third hidden layer\n",
        "model2.add(layers.Dense(30, activation='relu')) # Fourth hidden layer\n",
        "model2.add(layers.Dense(8, activation='relu')) # Fifth hidden layer\n",
        "model2.add(layers.Dense(5, activation='softmax')) # Sixth hidden layer\n",
        "\n",
        "# Compile and train CNN\n",
        "model2.compile(loss = 'sparse_categorical_crossentropy',\n",
        "               optimizer = opt,\n",
        "               metrics=['accuracy'])\n",
        "\n",
        "# Fit and score model performance\n",
        "model_score2 = model2.fit(X_down,\n",
        "                          y_down,\n",
        "                          epochs=50,\n",
        "                          validation_split=0.2)"
      ],
      "execution_count": 52,
      "outputs": [
        {
          "output_type": "stream",
          "name": "stdout",
          "text": [
            "Epoch 1/50\n",
            "37/37 [==============================] - 11s 263ms/step - loss: 1.5950 - accuracy: 0.2431 - val_loss: 1.5922 - val_accuracy: 0.2131\n",
            "Epoch 2/50\n",
            "37/37 [==============================] - 10s 261ms/step - loss: 1.5841 - accuracy: 0.2422 - val_loss: 1.5723 - val_accuracy: 0.3127\n",
            "Epoch 3/50\n",
            "37/37 [==============================] - 10s 258ms/step - loss: 1.5733 - accuracy: 0.2681 - val_loss: 1.5964 - val_accuracy: 0.2062\n",
            "Epoch 4/50\n",
            "37/37 [==============================] - 10s 258ms/step - loss: 1.5705 - accuracy: 0.2759 - val_loss: 1.5857 - val_accuracy: 0.2062\n",
            "Epoch 5/50\n",
            "37/37 [==============================] - 10s 258ms/step - loss: 1.5610 - accuracy: 0.2940 - val_loss: 1.5596 - val_accuracy: 0.3368\n",
            "Epoch 6/50\n",
            "37/37 [==============================] - 9s 256ms/step - loss: 1.5695 - accuracy: 0.2767 - val_loss: 1.5717 - val_accuracy: 0.3299\n",
            "Epoch 7/50\n",
            "37/37 [==============================] - 9s 254ms/step - loss: 1.5658 - accuracy: 0.2664 - val_loss: 1.5620 - val_accuracy: 0.3230\n",
            "Epoch 8/50\n",
            "37/37 [==============================] - 9s 256ms/step - loss: 1.5748 - accuracy: 0.2759 - val_loss: 1.5755 - val_accuracy: 0.3127\n",
            "Epoch 9/50\n",
            "37/37 [==============================] - 9s 254ms/step - loss: 1.5705 - accuracy: 0.2845 - val_loss: 1.5723 - val_accuracy: 0.2612\n",
            "Epoch 10/50\n",
            "37/37 [==============================] - 9s 253ms/step - loss: 1.5547 - accuracy: 0.3121 - val_loss: 1.5622 - val_accuracy: 0.3162\n",
            "Epoch 11/50\n",
            "37/37 [==============================] - 9s 255ms/step - loss: 1.5678 - accuracy: 0.2664 - val_loss: 1.5503 - val_accuracy: 0.3711\n",
            "Epoch 12/50\n",
            "37/37 [==============================] - 10s 259ms/step - loss: 1.5416 - accuracy: 0.3259 - val_loss: 1.5133 - val_accuracy: 0.3540\n",
            "Epoch 13/50\n",
            "37/37 [==============================] - 9s 252ms/step - loss: 1.5527 - accuracy: 0.3190 - val_loss: 1.5462 - val_accuracy: 0.3711\n",
            "Epoch 14/50\n",
            "37/37 [==============================] - 9s 252ms/step - loss: 1.5239 - accuracy: 0.3293 - val_loss: 1.5985 - val_accuracy: 0.3265\n",
            "Epoch 15/50\n",
            "37/37 [==============================] - 9s 255ms/step - loss: 1.5315 - accuracy: 0.3284 - val_loss: 1.5781 - val_accuracy: 0.3162\n",
            "Epoch 16/50\n",
            "37/37 [==============================] - 9s 253ms/step - loss: 1.5509 - accuracy: 0.2879 - val_loss: 1.5305 - val_accuracy: 0.3299\n",
            "Epoch 17/50\n",
            "37/37 [==============================] - 9s 252ms/step - loss: 1.5334 - accuracy: 0.3069 - val_loss: 1.6430 - val_accuracy: 0.2268\n",
            "Epoch 18/50\n",
            "37/37 [==============================] - 9s 254ms/step - loss: 1.5222 - accuracy: 0.3233 - val_loss: 1.6307 - val_accuracy: 0.3299\n",
            "Epoch 19/50\n",
            "37/37 [==============================] - 9s 254ms/step - loss: 1.5044 - accuracy: 0.3500 - val_loss: 1.7210 - val_accuracy: 0.2165\n",
            "Epoch 20/50\n",
            "37/37 [==============================] - 9s 252ms/step - loss: 1.5112 - accuracy: 0.3328 - val_loss: 1.7731 - val_accuracy: 0.2131\n",
            "Epoch 21/50\n",
            "37/37 [==============================] - 9s 253ms/step - loss: 1.4902 - accuracy: 0.3414 - val_loss: 1.5712 - val_accuracy: 0.3471\n",
            "Epoch 22/50\n",
            "37/37 [==============================] - 9s 255ms/step - loss: 1.4724 - accuracy: 0.3621 - val_loss: 1.5016 - val_accuracy: 0.3299\n",
            "Epoch 23/50\n",
            "37/37 [==============================] - 9s 255ms/step - loss: 1.4790 - accuracy: 0.3586 - val_loss: 1.5016 - val_accuracy: 0.3540\n",
            "Epoch 24/50\n",
            "37/37 [==============================] - 9s 255ms/step - loss: 1.4692 - accuracy: 0.3672 - val_loss: 1.5387 - val_accuracy: 0.3952\n",
            "Epoch 25/50\n",
            "37/37 [==============================] - 9s 257ms/step - loss: 1.4654 - accuracy: 0.3690 - val_loss: 1.6272 - val_accuracy: 0.3196\n",
            "Epoch 26/50\n",
            "37/37 [==============================] - 9s 255ms/step - loss: 1.4471 - accuracy: 0.3569 - val_loss: 1.5609 - val_accuracy: 0.3230\n",
            "Epoch 27/50\n",
            "37/37 [==============================] - 10s 261ms/step - loss: 1.4429 - accuracy: 0.3595 - val_loss: 1.4828 - val_accuracy: 0.3196\n",
            "Epoch 28/50\n",
            "37/37 [==============================] - 10s 260ms/step - loss: 1.4363 - accuracy: 0.3690 - val_loss: 1.4491 - val_accuracy: 0.4021\n",
            "Epoch 29/50\n",
            "37/37 [==============================] - 9s 257ms/step - loss: 1.4112 - accuracy: 0.3828 - val_loss: 1.5029 - val_accuracy: 0.3608\n",
            "Epoch 30/50\n",
            "37/37 [==============================] - 10s 257ms/step - loss: 1.4161 - accuracy: 0.3853 - val_loss: 1.7441 - val_accuracy: 0.3436\n",
            "Epoch 31/50\n",
            "37/37 [==============================] - 10s 259ms/step - loss: 1.4409 - accuracy: 0.3914 - val_loss: 2.2166 - val_accuracy: 0.2199\n",
            "Epoch 32/50\n",
            "37/37 [==============================] - 9s 255ms/step - loss: 1.4356 - accuracy: 0.3578 - val_loss: 1.4822 - val_accuracy: 0.3436\n",
            "Epoch 33/50\n",
            "37/37 [==============================] - 9s 255ms/step - loss: 1.4060 - accuracy: 0.3991 - val_loss: 2.8443 - val_accuracy: 0.2027\n",
            "Epoch 34/50\n",
            "37/37 [==============================] - 9s 252ms/step - loss: 1.4355 - accuracy: 0.3690 - val_loss: 1.4946 - val_accuracy: 0.3471\n",
            "Epoch 35/50\n",
            "37/37 [==============================] - 9s 254ms/step - loss: 1.4133 - accuracy: 0.3914 - val_loss: 1.4694 - val_accuracy: 0.3677\n",
            "Epoch 36/50\n",
            "37/37 [==============================] - 9s 253ms/step - loss: 1.3700 - accuracy: 0.4138 - val_loss: 1.5414 - val_accuracy: 0.3230\n",
            "Epoch 37/50\n",
            "37/37 [==============================] - 9s 257ms/step - loss: 1.3949 - accuracy: 0.3974 - val_loss: 1.4606 - val_accuracy: 0.3986\n",
            "Epoch 38/50\n",
            "37/37 [==============================] - 9s 253ms/step - loss: 1.5748 - accuracy: 0.2733 - val_loss: 1.5655 - val_accuracy: 0.3127\n",
            "Epoch 39/50\n",
            "37/37 [==============================] - 9s 254ms/step - loss: 1.4295 - accuracy: 0.3759 - val_loss: 1.6406 - val_accuracy: 0.2371\n",
            "Epoch 40/50\n",
            "37/37 [==============================] - 9s 256ms/step - loss: 1.4047 - accuracy: 0.4095 - val_loss: 1.4703 - val_accuracy: 0.3918\n",
            "Epoch 41/50\n",
            "37/37 [==============================] - 9s 254ms/step - loss: 1.3603 - accuracy: 0.4224 - val_loss: 1.5711 - val_accuracy: 0.3574\n",
            "Epoch 42/50\n",
            "37/37 [==============================] - 9s 254ms/step - loss: 1.3761 - accuracy: 0.4103 - val_loss: 1.6347 - val_accuracy: 0.2887\n",
            "Epoch 43/50\n",
            "37/37 [==============================] - 9s 255ms/step - loss: 1.3639 - accuracy: 0.4121 - val_loss: 1.6322 - val_accuracy: 0.2646\n",
            "Epoch 44/50\n",
            "37/37 [==============================] - 9s 253ms/step - loss: 1.3572 - accuracy: 0.4207 - val_loss: 1.4209 - val_accuracy: 0.3952\n",
            "Epoch 45/50\n",
            "37/37 [==============================] - 10s 257ms/step - loss: 1.3930 - accuracy: 0.4086 - val_loss: 2.1764 - val_accuracy: 0.2027\n",
            "Epoch 46/50\n",
            "37/37 [==============================] - 9s 253ms/step - loss: 1.3821 - accuracy: 0.4095 - val_loss: 1.4491 - val_accuracy: 0.3883\n",
            "Epoch 47/50\n",
            "37/37 [==============================] - 10s 262ms/step - loss: 1.3748 - accuracy: 0.4026 - val_loss: 1.4899 - val_accuracy: 0.3574\n",
            "Epoch 48/50\n",
            "37/37 [==============================] - 9s 252ms/step - loss: 1.3664 - accuracy: 0.4112 - val_loss: 1.5178 - val_accuracy: 0.3608\n",
            "Epoch 49/50\n",
            "37/37 [==============================] - 9s 254ms/step - loss: 1.3179 - accuracy: 0.4414 - val_loss: 1.4454 - val_accuracy: 0.3814\n",
            "Epoch 50/50\n",
            "37/37 [==============================] - 9s 254ms/step - loss: 1.3302 - accuracy: 0.4276 - val_loss: 1.6359 - val_accuracy: 0.3333\n"
          ]
        }
      ]
    },
    {
      "cell_type": "markdown",
      "metadata": {
        "id": "ug8kMs0N0htZ"
      },
      "source": [
        "### Model Analysis\n",
        "The same neural netwrok model on a much smaller dataset reaches an accuracy of only 43% and is still overfitting. I will try the same model with decreased dense layers to guage performance"
      ]
    },
    {
      "cell_type": "code",
      "metadata": {
        "colab": {
          "base_uri": "https://localhost:8080/"
        },
        "id": "SqFwnnbzENza",
        "outputId": "299ee719-1a26-4bcd-a67f-8a1ff65fe168"
      },
      "source": [
        "# Reused model with 3 less dense layers\n",
        "model3 = Sequential([\n",
        "  data_augmentation,\n",
        "  layers.Conv2D(filters=48, kernel_size=3, activation='relu', input_shape=X_down.shape[1:]),\n",
        "  layers.MaxPooling2D(pool_size=2, strides=2)\n",
        "])\n",
        "\n",
        "model3.add(layers.Conv2D(filters=48, kernel_size=3, activation='relu'))\n",
        "model3.add(layers.MaxPool2D(pool_size=2, strides=2))\n",
        "model3.add(layers.Conv2D(filters=32, kernel_size=3, activation='relu'))\n",
        "model3.add(layers.MaxPool2D(pool_size=2, strides=2))\n",
        "model3.add(layers.Conv2D(filters=32, kernel_size=3, activation='relu'))\n",
        "model3.add(layers.MaxPool2D(pool_size=2, strides=2))\n",
        "model3.add(layers.Flatten())\n",
        "model3.add(layers.Dense(64, activation='relu')) # Third hidden layer\n",
        "model3.add(layers.Dense(30, activation='relu')) # Fourth hidden layer\n",
        "model3.add(layers.Dense(5, activation='softmax')) # Sixth hidden layer\n",
        "\n",
        "# Compile and train CNN\n",
        "model3.compile(loss = 'sparse_categorical_crossentropy',\n",
        "               optimizer = opt,\n",
        "               metrics=['accuracy'])\n",
        "\n",
        "# Fit and score model performance\n",
        "model_score3 = model3.fit(X_down,\n",
        "                          y_down,\n",
        "                          epochs=50,\n",
        "                          validation_split=0.2)"
      ],
      "execution_count": 53,
      "outputs": [
        {
          "output_type": "stream",
          "name": "stdout",
          "text": [
            "Epoch 1/50\n",
            "37/37 [==============================] - 7s 159ms/step - loss: 1.5891 - accuracy: 0.2509 - val_loss: 1.5680 - val_accuracy: 0.3127\n",
            "Epoch 2/50\n",
            "37/37 [==============================] - 6s 152ms/step - loss: 1.5715 - accuracy: 0.2698 - val_loss: 1.5592 - val_accuracy: 0.3127\n",
            "Epoch 3/50\n",
            "37/37 [==============================] - 6s 155ms/step - loss: 1.5617 - accuracy: 0.2845 - val_loss: 1.5437 - val_accuracy: 0.3127\n",
            "Epoch 4/50\n",
            "37/37 [==============================] - 6s 156ms/step - loss: 1.5540 - accuracy: 0.2948 - val_loss: 1.6208 - val_accuracy: 0.2062\n",
            "Epoch 5/50\n",
            "37/37 [==============================] - 6s 157ms/step - loss: 1.5547 - accuracy: 0.2862 - val_loss: 1.6465 - val_accuracy: 0.2062\n",
            "Epoch 6/50\n",
            "37/37 [==============================] - 6s 157ms/step - loss: 1.5597 - accuracy: 0.2802 - val_loss: 1.5625 - val_accuracy: 0.3162\n",
            "Epoch 7/50\n",
            "37/37 [==============================] - 6s 159ms/step - loss: 1.5438 - accuracy: 0.2948 - val_loss: 1.6515 - val_accuracy: 0.2027\n",
            "Epoch 8/50\n",
            "37/37 [==============================] - 6s 161ms/step - loss: 1.5417 - accuracy: 0.3069 - val_loss: 1.5198 - val_accuracy: 0.3918\n",
            "Epoch 9/50\n",
            "37/37 [==============================] - 6s 162ms/step - loss: 1.5231 - accuracy: 0.3198 - val_loss: 1.5302 - val_accuracy: 0.3505\n",
            "Epoch 10/50\n",
            "37/37 [==============================] - 6s 163ms/step - loss: 1.5361 - accuracy: 0.3181 - val_loss: 1.5560 - val_accuracy: 0.3333\n",
            "Epoch 11/50\n",
            "37/37 [==============================] - 6s 157ms/step - loss: 1.5178 - accuracy: 0.3276 - val_loss: 1.5133 - val_accuracy: 0.3574\n",
            "Epoch 12/50\n",
            "37/37 [==============================] - 6s 155ms/step - loss: 1.5307 - accuracy: 0.3302 - val_loss: 1.4978 - val_accuracy: 0.3711\n",
            "Epoch 13/50\n",
            "37/37 [==============================] - 6s 157ms/step - loss: 1.5165 - accuracy: 0.3293 - val_loss: 1.5542 - val_accuracy: 0.3333\n",
            "Epoch 14/50\n",
            "37/37 [==============================] - 6s 170ms/step - loss: 1.5136 - accuracy: 0.3353 - val_loss: 1.5016 - val_accuracy: 0.3711\n",
            "Epoch 15/50\n",
            "37/37 [==============================] - 6s 169ms/step - loss: 1.5018 - accuracy: 0.3414 - val_loss: 1.5818 - val_accuracy: 0.3265\n",
            "Epoch 16/50\n",
            "37/37 [==============================] - 6s 154ms/step - loss: 1.5065 - accuracy: 0.3534 - val_loss: 2.1628 - val_accuracy: 0.3230\n",
            "Epoch 17/50\n",
            "37/37 [==============================] - 6s 154ms/step - loss: 1.5407 - accuracy: 0.3267 - val_loss: 1.5375 - val_accuracy: 0.3711\n",
            "Epoch 18/50\n",
            "37/37 [==============================] - 6s 154ms/step - loss: 1.4831 - accuracy: 0.3517 - val_loss: 1.6210 - val_accuracy: 0.2852\n",
            "Epoch 19/50\n",
            "37/37 [==============================] - 6s 154ms/step - loss: 1.5024 - accuracy: 0.3319 - val_loss: 1.5012 - val_accuracy: 0.4055\n",
            "Epoch 20/50\n",
            "37/37 [==============================] - 6s 154ms/step - loss: 1.4921 - accuracy: 0.3371 - val_loss: 1.4775 - val_accuracy: 0.3952\n",
            "Epoch 21/50\n",
            "37/37 [==============================] - 6s 153ms/step - loss: 1.4823 - accuracy: 0.3500 - val_loss: 1.5298 - val_accuracy: 0.3265\n",
            "Epoch 22/50\n",
            "37/37 [==============================] - 6s 151ms/step - loss: 1.4874 - accuracy: 0.3422 - val_loss: 1.4924 - val_accuracy: 0.3643\n",
            "Epoch 23/50\n",
            "37/37 [==============================] - 6s 154ms/step - loss: 1.4761 - accuracy: 0.3534 - val_loss: 1.4740 - val_accuracy: 0.3883\n",
            "Epoch 24/50\n",
            "37/37 [==============================] - 6s 155ms/step - loss: 1.4749 - accuracy: 0.3586 - val_loss: 1.5674 - val_accuracy: 0.3299\n",
            "Epoch 25/50\n",
            "37/37 [==============================] - 6s 153ms/step - loss: 1.4634 - accuracy: 0.3845 - val_loss: 1.4945 - val_accuracy: 0.3436\n",
            "Epoch 26/50\n",
            "37/37 [==============================] - 6s 151ms/step - loss: 1.4642 - accuracy: 0.3836 - val_loss: 1.4529 - val_accuracy: 0.4021\n",
            "Epoch 27/50\n",
            "37/37 [==============================] - 6s 150ms/step - loss: 1.4697 - accuracy: 0.3672 - val_loss: 1.4937 - val_accuracy: 0.3849\n",
            "Epoch 28/50\n",
            "37/37 [==============================] - 6s 151ms/step - loss: 1.4519 - accuracy: 0.3672 - val_loss: 1.4657 - val_accuracy: 0.4158\n",
            "Epoch 29/50\n",
            "37/37 [==============================] - 6s 153ms/step - loss: 1.4277 - accuracy: 0.3853 - val_loss: 1.4518 - val_accuracy: 0.4021\n",
            "Epoch 30/50\n",
            "37/37 [==============================] - 6s 151ms/step - loss: 1.4518 - accuracy: 0.3741 - val_loss: 1.4474 - val_accuracy: 0.4227\n",
            "Epoch 31/50\n",
            "37/37 [==============================] - 6s 152ms/step - loss: 1.4347 - accuracy: 0.3897 - val_loss: 1.5074 - val_accuracy: 0.3780\n",
            "Epoch 32/50\n",
            "37/37 [==============================] - 6s 150ms/step - loss: 1.4373 - accuracy: 0.3810 - val_loss: 1.5133 - val_accuracy: 0.3677\n",
            "Epoch 33/50\n",
            "37/37 [==============================] - 6s 150ms/step - loss: 1.4288 - accuracy: 0.3940 - val_loss: 1.5267 - val_accuracy: 0.3608\n",
            "Epoch 34/50\n",
            "37/37 [==============================] - 6s 150ms/step - loss: 1.4369 - accuracy: 0.3741 - val_loss: 1.4657 - val_accuracy: 0.3746\n",
            "Epoch 35/50\n",
            "37/37 [==============================] - 6s 151ms/step - loss: 1.4121 - accuracy: 0.4009 - val_loss: 1.4376 - val_accuracy: 0.4021\n",
            "Epoch 36/50\n",
            "37/37 [==============================] - 5s 148ms/step - loss: 1.4075 - accuracy: 0.4009 - val_loss: 1.3960 - val_accuracy: 0.4433\n",
            "Epoch 37/50\n",
            "37/37 [==============================] - 6s 157ms/step - loss: 1.4121 - accuracy: 0.4043 - val_loss: 1.4397 - val_accuracy: 0.4055\n",
            "Epoch 38/50\n",
            "37/37 [==============================] - 5s 148ms/step - loss: 1.3992 - accuracy: 0.4155 - val_loss: 1.4525 - val_accuracy: 0.3746\n",
            "Epoch 39/50\n",
            "37/37 [==============================] - 5s 148ms/step - loss: 1.3902 - accuracy: 0.4078 - val_loss: 1.5914 - val_accuracy: 0.3196\n",
            "Epoch 40/50\n",
            "37/37 [==============================] - 5s 148ms/step - loss: 1.3953 - accuracy: 0.4207 - val_loss: 1.4759 - val_accuracy: 0.4158\n",
            "Epoch 41/50\n",
            "37/37 [==============================] - 6s 150ms/step - loss: 1.3773 - accuracy: 0.4267 - val_loss: 1.5598 - val_accuracy: 0.3918\n",
            "Epoch 42/50\n",
            "37/37 [==============================] - 5s 148ms/step - loss: 1.3903 - accuracy: 0.4121 - val_loss: 1.9341 - val_accuracy: 0.2474\n",
            "Epoch 43/50\n",
            "37/37 [==============================] - 5s 148ms/step - loss: 1.3697 - accuracy: 0.4379 - val_loss: 1.7607 - val_accuracy: 0.3402\n",
            "Epoch 44/50\n",
            "37/37 [==============================] - 5s 148ms/step - loss: 1.3942 - accuracy: 0.4233 - val_loss: 1.4748 - val_accuracy: 0.3952\n",
            "Epoch 45/50\n",
            "37/37 [==============================] - 6s 149ms/step - loss: 1.3834 - accuracy: 0.4129 - val_loss: 1.4422 - val_accuracy: 0.3711\n",
            "Epoch 46/50\n",
            "37/37 [==============================] - 6s 150ms/step - loss: 1.3675 - accuracy: 0.4259 - val_loss: 1.4620 - val_accuracy: 0.4330\n",
            "Epoch 47/50\n",
            "37/37 [==============================] - 6s 150ms/step - loss: 1.3638 - accuracy: 0.4328 - val_loss: 1.3954 - val_accuracy: 0.4192\n",
            "Epoch 48/50\n",
            "37/37 [==============================] - 6s 151ms/step - loss: 1.3555 - accuracy: 0.4198 - val_loss: 1.4714 - val_accuracy: 0.3746\n",
            "Epoch 49/50\n",
            "37/37 [==============================] - 6s 150ms/step - loss: 1.3306 - accuracy: 0.4371 - val_loss: 1.8840 - val_accuracy: 0.2440\n",
            "Epoch 50/50\n",
            "37/37 [==============================] - 6s 151ms/step - loss: 1.3351 - accuracy: 0.4388 - val_loss: 1.4896 - val_accuracy: 0.3746\n"
          ]
        }
      ]
    },
    {
      "cell_type": "markdown",
      "metadata": {
        "id": "cUpU7LkN1DZs"
      },
      "source": [
        "### Model Analysis\n",
        "The above model with decreased hidden layers performs about the same as the prio model in 50 epochs and is still overfitting. Because it is learning so slowly, the next model will increase the learning rate to 0.09."
      ]
    },
    {
      "cell_type": "code",
      "metadata": {
        "colab": {
          "base_uri": "https://localhost:8080/"
        },
        "id": "nMd9s_GLFR0_",
        "outputId": "96ca2c0a-6dac-4725-eace-b99b6063f6f9"
      },
      "source": [
        "# Reused model with increased learning rate\n",
        "model4 = Sequential([\n",
        "  data_augmentation,\n",
        "  layers.Conv2D(filters=48, kernel_size=3, activation='relu', input_shape=X_down.shape[1:]),\n",
        "  layers.MaxPooling2D(pool_size=2, strides=2)\n",
        "])\n",
        "\n",
        "model4.add(layers.Conv2D(filters=48, kernel_size=3, activation='relu'))\n",
        "model4.add(layers.MaxPool2D(pool_size=2, strides=2))\n",
        "model4.add(layers.Conv2D(filters=32, kernel_size=3, activation='relu'))\n",
        "model4.add(layers.MaxPool2D(pool_size=2, strides=2))\n",
        "model4.add(layers.Conv2D(filters=32, kernel_size=3, activation='relu'))\n",
        "model4.add(layers.MaxPool2D(pool_size=2, strides=2))\n",
        "model4.add(layers.Flatten())\n",
        "model.add(layers.Dense(64, activation='relu')) # Third hidden layer\n",
        "model.add(layers.Dense(30, activation='relu')) # Fourth hidden layer\n",
        "model.add(layers.Dense(5, activation='softmax')) # Sixth hidden layer\n",
        "\n",
        "# Compile and train CNN\n",
        "opt2 = SGD(learning_rate=0.09) \n",
        "model4.compile(loss = 'sparse_categorical_crossentropy',\n",
        "               optimizer = opt2,\n",
        "               metrics=['accuracy'])\n",
        "\n",
        "# Fit and score model performance\n",
        "model_score4 = model4.fit(X_down,\n",
        "                          y_down,\n",
        "                          epochs=50,\n",
        "                          validation_split=0.05)"
      ],
      "execution_count": 58,
      "outputs": [
        {
          "output_type": "stream",
          "name": "stdout",
          "text": [
            "Epoch 1/50\n",
            "44/44 [==============================] - 7s 142ms/step - loss: 3.9500 - accuracy: 0.0319 - val_loss: 3.8067 - val_accuracy: 0.0000e+00\n",
            "Epoch 2/50\n",
            "44/44 [==============================] - 6s 137ms/step - loss: 3.8068 - accuracy: 0.0269 - val_loss: 3.8067 - val_accuracy: 0.0000e+00\n",
            "Epoch 3/50\n",
            "44/44 [==============================] - 6s 137ms/step - loss: 3.8066 - accuracy: 0.0247 - val_loss: 3.8067 - val_accuracy: 0.0000e+00\n",
            "Epoch 4/50\n",
            "44/44 [==============================] - 6s 137ms/step - loss: 3.8065 - accuracy: 0.0305 - val_loss: 3.8060 - val_accuracy: 0.0000e+00\n",
            "Epoch 5/50\n",
            "44/44 [==============================] - 6s 139ms/step - loss: 3.8072 - accuracy: 0.0254 - val_loss: 3.8066 - val_accuracy: 0.0000e+00\n",
            "Epoch 6/50\n",
            "44/44 [==============================] - 6s 139ms/step - loss: 3.8067 - accuracy: 0.0269 - val_loss: 3.8064 - val_accuracy: 0.0000e+00\n",
            "Epoch 7/50\n",
            "44/44 [==============================] - 6s 139ms/step - loss: 3.8060 - accuracy: 0.0254 - val_loss: 3.8049 - val_accuracy: 0.0000e+00\n",
            "Epoch 8/50\n",
            "44/44 [==============================] - 6s 140ms/step - loss: 3.8066 - accuracy: 0.0247 - val_loss: 3.8066 - val_accuracy: 0.0000e+00\n",
            "Epoch 9/50\n",
            "44/44 [==============================] - 6s 139ms/step - loss: 3.8065 - accuracy: 0.0225 - val_loss: 3.8065 - val_accuracy: 0.0000e+00\n",
            "Epoch 10/50\n",
            "44/44 [==============================] - 6s 139ms/step - loss: 3.8067 - accuracy: 0.0261 - val_loss: 3.8066 - val_accuracy: 0.0000e+00\n",
            "Epoch 11/50\n",
            "44/44 [==============================] - 6s 138ms/step - loss: 3.8067 - accuracy: 0.0225 - val_loss: 3.8067 - val_accuracy: 0.0000e+00\n",
            "Epoch 12/50\n",
            "44/44 [==============================] - 6s 137ms/step - loss: 3.8066 - accuracy: 0.0276 - val_loss: 3.8066 - val_accuracy: 0.0000e+00\n",
            "Epoch 13/50\n",
            "44/44 [==============================] - 6s 136ms/step - loss: 3.8066 - accuracy: 0.0269 - val_loss: 3.8067 - val_accuracy: 0.0000e+00\n",
            "Epoch 14/50\n",
            "44/44 [==============================] - 6s 138ms/step - loss: 3.8067 - accuracy: 0.0232 - val_loss: 3.8066 - val_accuracy: 0.0000e+00\n",
            "Epoch 15/50\n",
            "44/44 [==============================] - 6s 138ms/step - loss: 3.8065 - accuracy: 0.0232 - val_loss: 3.8065 - val_accuracy: 0.0000e+00\n",
            "Epoch 16/50\n",
            "44/44 [==============================] - 6s 139ms/step - loss: 3.8067 - accuracy: 0.0203 - val_loss: 3.8066 - val_accuracy: 0.0000e+00\n",
            "Epoch 17/50\n",
            "44/44 [==============================] - 6s 138ms/step - loss: 3.8066 - accuracy: 0.0225 - val_loss: 3.8066 - val_accuracy: 0.0000e+00\n",
            "Epoch 18/50\n",
            "44/44 [==============================] - 6s 138ms/step - loss: 3.8066 - accuracy: 0.0196 - val_loss: 3.8067 - val_accuracy: 0.0000e+00\n",
            "Epoch 19/50\n",
            "44/44 [==============================] - 6s 137ms/step - loss: 3.8065 - accuracy: 0.0290 - val_loss: 3.8066 - val_accuracy: 0.0000e+00\n",
            "Epoch 20/50\n",
            "44/44 [==============================] - 6s 138ms/step - loss: 3.8064 - accuracy: 0.0254 - val_loss: 3.8064 - val_accuracy: 0.0000e+00\n",
            "Epoch 21/50\n",
            "44/44 [==============================] - 6s 137ms/step - loss: 3.8065 - accuracy: 0.0305 - val_loss: 3.8064 - val_accuracy: 0.0000e+00\n",
            "Epoch 22/50\n",
            "44/44 [==============================] - 6s 137ms/step - loss: 3.8068 - accuracy: 0.0305 - val_loss: 3.8066 - val_accuracy: 0.0000e+00\n",
            "Epoch 23/50\n",
            "44/44 [==============================] - 6s 138ms/step - loss: 3.8065 - accuracy: 0.0283 - val_loss: 3.8066 - val_accuracy: 0.0000e+00\n",
            "Epoch 24/50\n",
            "44/44 [==============================] - 6s 137ms/step - loss: 3.8067 - accuracy: 0.0276 - val_loss: 3.8064 - val_accuracy: 0.0000e+00\n",
            "Epoch 25/50\n",
            "44/44 [==============================] - 6s 137ms/step - loss: 3.8063 - accuracy: 0.0319 - val_loss: 3.8054 - val_accuracy: 0.0000e+00\n",
            "Epoch 26/50\n",
            "44/44 [==============================] - 6s 137ms/step - loss: 3.8067 - accuracy: 0.0283 - val_loss: 3.8066 - val_accuracy: 0.0000e+00\n",
            "Epoch 27/50\n",
            "44/44 [==============================] - 6s 146ms/step - loss: 3.8064 - accuracy: 0.0232 - val_loss: 3.8066 - val_accuracy: 0.0000e+00\n",
            "Epoch 28/50\n",
            "44/44 [==============================] - 6s 138ms/step - loss: 3.8064 - accuracy: 0.0218 - val_loss: 3.8060 - val_accuracy: 0.0000e+00\n",
            "Epoch 29/50\n",
            "44/44 [==============================] - 6s 139ms/step - loss: 3.8070 - accuracy: 0.0276 - val_loss: 3.8066 - val_accuracy: 0.0000e+00\n",
            "Epoch 30/50\n",
            "44/44 [==============================] - 6s 137ms/step - loss: 3.8067 - accuracy: 0.0290 - val_loss: 3.8066 - val_accuracy: 0.0000e+00\n",
            "Epoch 31/50\n",
            "44/44 [==============================] - 6s 138ms/step - loss: 3.8067 - accuracy: 0.0247 - val_loss: 3.8066 - val_accuracy: 0.0000e+00\n",
            "Epoch 32/50\n",
            "44/44 [==============================] - 6s 137ms/step - loss: 3.8067 - accuracy: 0.0203 - val_loss: 3.8026 - val_accuracy: 0.0000e+00\n",
            "Epoch 33/50\n",
            "44/44 [==============================] - 6s 138ms/step - loss: 3.8073 - accuracy: 0.0261 - val_loss: 3.8066 - val_accuracy: 0.0000e+00\n",
            "Epoch 34/50\n",
            "44/44 [==============================] - 6s 138ms/step - loss: 3.8067 - accuracy: 0.0247 - val_loss: 3.8066 - val_accuracy: 0.0000e+00\n",
            "Epoch 35/50\n",
            "44/44 [==============================] - 6s 141ms/step - loss: 3.8066 - accuracy: 0.0218 - val_loss: 3.8067 - val_accuracy: 0.0000e+00\n",
            "Epoch 36/50\n",
            "44/44 [==============================] - 6s 138ms/step - loss: 3.8064 - accuracy: 0.0261 - val_loss: 3.8064 - val_accuracy: 0.0000e+00\n",
            "Epoch 37/50\n",
            "44/44 [==============================] - 6s 138ms/step - loss: 3.8070 - accuracy: 0.0312 - val_loss: 3.8065 - val_accuracy: 0.0000e+00\n",
            "Epoch 38/50\n",
            "44/44 [==============================] - 6s 138ms/step - loss: 3.8069 - accuracy: 0.0247 - val_loss: 3.8066 - val_accuracy: 0.0000e+00\n",
            "Epoch 39/50\n",
            "44/44 [==============================] - 6s 138ms/step - loss: 3.8060 - accuracy: 0.0276 - val_loss: 3.7976 - val_accuracy: 0.0000e+00\n",
            "Epoch 40/50\n",
            "44/44 [==============================] - 6s 138ms/step - loss: 3.8067 - accuracy: 0.0283 - val_loss: 3.7967 - val_accuracy: 0.0000e+00\n",
            "Epoch 41/50\n",
            "44/44 [==============================] - 6s 137ms/step - loss: 3.8044 - accuracy: 0.0239 - val_loss: 3.8067 - val_accuracy: 0.0000e+00\n",
            "Epoch 42/50\n",
            "44/44 [==============================] - 6s 137ms/step - loss: 3.8067 - accuracy: 0.0269 - val_loss: 3.8067 - val_accuracy: 0.0000e+00\n",
            "Epoch 43/50\n",
            "44/44 [==============================] - 6s 137ms/step - loss: 3.8067 - accuracy: 0.0341 - val_loss: 3.8067 - val_accuracy: 0.0000e+00\n",
            "Epoch 44/50\n",
            "44/44 [==============================] - 6s 137ms/step - loss: 3.8067 - accuracy: 0.0247 - val_loss: 3.8067 - val_accuracy: 0.0000e+00\n",
            "Epoch 45/50\n",
            "44/44 [==============================] - 6s 137ms/step - loss: 3.8067 - accuracy: 0.0312 - val_loss: 3.8067 - val_accuracy: 0.0000e+00\n",
            "Epoch 46/50\n",
            "44/44 [==============================] - 6s 136ms/step - loss: 3.8067 - accuracy: 0.0210 - val_loss: 3.8067 - val_accuracy: 0.0000e+00\n",
            "Epoch 47/50\n",
            "44/44 [==============================] - 6s 137ms/step - loss: 3.8067 - accuracy: 0.0305 - val_loss: 3.8067 - val_accuracy: 0.0000e+00\n",
            "Epoch 48/50\n",
            "44/44 [==============================] - 6s 136ms/step - loss: 3.8067 - accuracy: 0.0290 - val_loss: 3.8067 - val_accuracy: 0.0000e+00\n",
            "Epoch 49/50\n",
            "44/44 [==============================] - 6s 137ms/step - loss: 3.8067 - accuracy: 0.0239 - val_loss: 3.8067 - val_accuracy: 0.0000e+00\n",
            "Epoch 50/50\n",
            "44/44 [==============================] - 6s 137ms/step - loss: 3.8067 - accuracy: 0.0225 - val_loss: 3.8067 - val_accuracy: 0.0000e+00\n"
          ]
        }
      ]
    },
    {
      "cell_type": "markdown",
      "metadata": {
        "id": "6Hn7I1wV1rB-"
      },
      "source": [
        "### Model Accuracy\n",
        "The increased learning rate had the opposite effect, and the model is not matching any of the unseen validation data correctly. I will increase the image size up to (521 x 521) to see if this has any impact on learning."
      ]
    },
    {
      "cell_type": "code",
      "metadata": {
        "id": "kfr7mOl7Kklc"
      },
      "source": [
        "# Open Pickle files containing downsampled data with larger image size\n",
        "infile13 = open('/content/drive/MyDrive/nsfw_image_classification/Pickles/X_down_521.pickle','rb')\n",
        "X_down_521 = pickle.load(infile13)\n",
        "\n",
        "infile14 = open('/content/drive/MyDrive/nsfw_image_classification/Pickles/y_down_521.pickle','rb')\n",
        "y_down_521 = pickle.load(infile14)\n",
        "\n",
        "infile15 = open('/content/drive/MyDrive/nsfw_image_classification/Pickles/X_val_down_521.pickle','rb')\n",
        "X_val_down_521 = pickle.load(infile15)\n",
        "\n",
        "infile16 = open('/content/drive/MyDrive/nsfw_image_classification/Pickles/y_val_down_521.pickle','rb')\n",
        "y_val_down_521 = pickle.load(infile16)"
      ],
      "execution_count": 61,
      "outputs": []
    },
    {
      "cell_type": "code",
      "metadata": {
        "colab": {
          "base_uri": "https://localhost:8080/"
        },
        "id": "iKysi80KNrV4",
        "outputId": "bfb1806d-4676-4722-e4c6-80fb6a3cf6bb"
      },
      "source": [
        "# Reused model with increased image size\n",
        "model2 = Sequential([\n",
        "  data_augmentation,\n",
        "  layers.Conv2D(filters=48, kernel_size=3, activation='relu', input_shape=X.shape[1:]),\n",
        "  layers.MaxPooling2D(pool_size=2, strides=2)\n",
        "])\n",
        "\n",
        "model2.add(layers.Conv2D(filters=48, kernel_size=3, activation='relu'))\n",
        "model2.add(layers.MaxPool2D(pool_size=2, strides=1))\n",
        "model2.add(layers.Conv2D(filters=32, kernel_size=3, activation='relu'))\n",
        "model2.add(layers.MaxPool2D(pool_size=2, strides=1))\n",
        "model2.add(layers.Conv2D(filters=32, kernel_size=3, activation='relu'))\n",
        "model2.add(layers.MaxPool2D(pool_size=2, strides=1))\n",
        "model2.add(layers.Flatten())\n",
        "model2.add(layers.Dense(128, activation='relu')) # First hidden layer\n",
        "model2.add(layers.Dense(72, activation='relu')) # Second hidden layer\n",
        "model2.add(layers.Dense(64, activation='relu')) # Third hidden layer\n",
        "model2.add(layers.Dense(30, activation='relu')) # Fourth hidden layer\n",
        "model2.add(layers.Dense(8, activation='relu')) # Fifth hidden layer\n",
        "model2.add(layers.Dense(5, activation='softmax')) # Sixth hidden layer\n",
        "\n",
        "# Compile and train CNN\n",
        "model2.compile(loss = 'sparse_categorical_crossentropy',\n",
        "               optimizer = opt,\n",
        "               metrics=['accuracy'])\n",
        "\n",
        "# Fit and score model performance\n",
        "model_score2 = model2.fit(X_down_521,\n",
        "                          y_down_521,\n",
        "                          epochs=50,\n",
        "                          validation_split=0.2)"
      ],
      "execution_count": 62,
      "outputs": [
        {
          "output_type": "stream",
          "name": "stdout",
          "text": [
            "Epoch 1/50\n",
            "37/37 [==============================] - 342s 9s/step - loss: 1.6079 - accuracy: 0.2397 - val_loss: 1.5916 - val_accuracy: 0.2715\n",
            "Epoch 2/50\n",
            "37/37 [==============================] - 349s 9s/step - loss: 1.5782 - accuracy: 0.2457 - val_loss: 1.5840 - val_accuracy: 0.2715\n",
            "Epoch 3/50\n",
            "37/37 [==============================] - 334s 9s/step - loss: 1.5739 - accuracy: 0.2690 - val_loss: 1.5912 - val_accuracy: 0.2234\n",
            "Epoch 4/50\n",
            "37/37 [==============================] - 345s 9s/step - loss: 1.5712 - accuracy: 0.2534 - val_loss: 1.5869 - val_accuracy: 0.2715\n",
            "Epoch 5/50\n",
            "37/37 [==============================] - 333s 9s/step - loss: 1.5716 - accuracy: 0.2750 - val_loss: 1.5859 - val_accuracy: 0.2715\n",
            "Epoch 6/50\n",
            "37/37 [==============================] - 337s 9s/step - loss: 1.5712 - accuracy: 0.2681 - val_loss: 1.6259 - val_accuracy: 0.2715\n",
            "Epoch 7/50\n",
            "37/37 [==============================] - 333s 9s/step - loss: 1.5718 - accuracy: 0.2681 - val_loss: 1.5870 - val_accuracy: 0.2715\n",
            "Epoch 8/50\n",
            "37/37 [==============================] - 343s 9s/step - loss: 1.5618 - accuracy: 0.2991 - val_loss: 1.6801 - val_accuracy: 0.2680\n",
            "Epoch 9/50\n",
            "37/37 [==============================] - 333s 9s/step - loss: 1.5743 - accuracy: 0.2759 - val_loss: 1.5843 - val_accuracy: 0.2715\n",
            "Epoch 10/50\n",
            "37/37 [==============================] - 341s 9s/step - loss: 1.5570 - accuracy: 0.2966 - val_loss: 1.5807 - val_accuracy: 0.2715\n",
            "Epoch 11/50\n",
            "37/37 [==============================] - 330s 9s/step - loss: 1.5667 - accuracy: 0.2940 - val_loss: 1.5808 - val_accuracy: 0.2715\n",
            "Epoch 12/50\n",
            "37/37 [==============================] - 335s 9s/step - loss: 1.5590 - accuracy: 0.3069 - val_loss: 1.5831 - val_accuracy: 0.2715\n",
            "Epoch 13/50\n",
            "37/37 [==============================] - 331s 9s/step - loss: 1.5742 - accuracy: 0.2690 - val_loss: 1.5901 - val_accuracy: 0.3093\n",
            "Epoch 14/50\n",
            "37/37 [==============================] - 338s 9s/step - loss: 1.5655 - accuracy: 0.3043 - val_loss: 1.5899 - val_accuracy: 0.2543\n",
            "Epoch 15/50\n",
            "37/37 [==============================] - 328s 9s/step - loss: 1.5601 - accuracy: 0.2983 - val_loss: 1.5711 - val_accuracy: 0.3265\n",
            "Epoch 16/50\n",
            "37/37 [==============================] - 330s 9s/step - loss: 1.5463 - accuracy: 0.3198 - val_loss: 1.5988 - val_accuracy: 0.2680\n",
            "Epoch 17/50\n",
            "37/37 [==============================] - 327s 9s/step - loss: 1.5584 - accuracy: 0.3078 - val_loss: 1.5521 - val_accuracy: 0.3093\n",
            "Epoch 18/50\n",
            "37/37 [==============================] - 340s 9s/step - loss: 1.5559 - accuracy: 0.3207 - val_loss: 1.5462 - val_accuracy: 0.3368\n",
            "Epoch 19/50\n",
            "37/37 [==============================] - 331s 9s/step - loss: 1.5374 - accuracy: 0.3190 - val_loss: 1.5420 - val_accuracy: 0.3265\n",
            "Epoch 20/50\n",
            "37/37 [==============================] - 329s 9s/step - loss: 1.5287 - accuracy: 0.3336 - val_loss: 1.5478 - val_accuracy: 0.3333\n",
            "Epoch 21/50\n",
            "37/37 [==============================] - 330s 9s/step - loss: 1.5535 - accuracy: 0.2974 - val_loss: 1.5556 - val_accuracy: 0.3299\n",
            "Epoch 22/50\n",
            "37/37 [==============================] - 337s 9s/step - loss: 1.5468 - accuracy: 0.3293 - val_loss: 1.5292 - val_accuracy: 0.3402\n",
            "Epoch 23/50\n",
            "37/37 [==============================] - 329s 9s/step - loss: 1.5260 - accuracy: 0.3345 - val_loss: 1.5374 - val_accuracy: 0.3574\n",
            "Epoch 24/50\n",
            "37/37 [==============================] - 330s 9s/step - loss: 1.5180 - accuracy: 0.3474 - val_loss: 1.5296 - val_accuracy: 0.3196\n",
            "Epoch 25/50\n",
            "37/37 [==============================] - 337s 9s/step - loss: 1.5111 - accuracy: 0.3405 - val_loss: 2.3274 - val_accuracy: 0.2234\n",
            "Epoch 26/50\n",
            "37/37 [==============================] - 325s 9s/step - loss: 1.5782 - accuracy: 0.2810 - val_loss: 1.5550 - val_accuracy: 0.3162\n",
            "Epoch 27/50\n",
            "37/37 [==============================] - 325s 9s/step - loss: 1.5328 - accuracy: 0.3250 - val_loss: 1.5698 - val_accuracy: 0.2784\n",
            "Epoch 28/50\n",
            "37/37 [==============================] - 324s 9s/step - loss: 1.5736 - accuracy: 0.2888 - val_loss: 1.5977 - val_accuracy: 0.2715\n",
            "Epoch 29/50\n",
            "37/37 [==============================] - 324s 9s/step - loss: 1.5680 - accuracy: 0.2690 - val_loss: 1.5766 - val_accuracy: 0.2715\n",
            "Epoch 30/50\n",
            "37/37 [==============================] - 323s 9s/step - loss: 1.5603 - accuracy: 0.3060 - val_loss: 1.5741 - val_accuracy: 0.3024\n",
            "Epoch 31/50\n",
            "37/37 [==============================] - 323s 9s/step - loss: 1.5485 - accuracy: 0.3284 - val_loss: 1.6696 - val_accuracy: 0.2749\n",
            "Epoch 32/50\n",
            "37/37 [==============================] - 324s 9s/step - loss: 1.5354 - accuracy: 0.3328 - val_loss: 1.5714 - val_accuracy: 0.3058\n",
            "Epoch 33/50\n",
            "37/37 [==============================] - 324s 9s/step - loss: 1.5317 - accuracy: 0.3276 - val_loss: 1.8535 - val_accuracy: 0.2199\n",
            "Epoch 34/50\n",
            "37/37 [==============================] - 324s 9s/step - loss: 1.5224 - accuracy: 0.3457 - val_loss: 1.6028 - val_accuracy: 0.2818\n",
            "Epoch 35/50\n",
            "37/37 [==============================] - 325s 9s/step - loss: 1.5057 - accuracy: 0.3612 - val_loss: 1.5296 - val_accuracy: 0.3333\n",
            "Epoch 36/50\n",
            "37/37 [==============================] - 326s 9s/step - loss: 1.5642 - accuracy: 0.3009 - val_loss: 1.5569 - val_accuracy: 0.2921\n",
            "Epoch 37/50\n",
            "37/37 [==============================] - 326s 9s/step - loss: 1.5000 - accuracy: 0.3569 - val_loss: 1.6325 - val_accuracy: 0.2852\n",
            "Epoch 38/50\n",
            "37/37 [==============================] - 330s 9s/step - loss: 1.5215 - accuracy: 0.3371 - val_loss: 1.5716 - val_accuracy: 0.2990\n",
            "Epoch 39/50\n",
            "37/37 [==============================] - 325s 9s/step - loss: 1.5004 - accuracy: 0.3612 - val_loss: 1.9609 - val_accuracy: 0.2165\n",
            "Epoch 40/50\n",
            "37/37 [==============================] - 325s 9s/step - loss: 1.5265 - accuracy: 0.3250 - val_loss: 1.5531 - val_accuracy: 0.2784\n",
            "Epoch 41/50\n",
            "37/37 [==============================] - 325s 9s/step - loss: 1.4695 - accuracy: 0.3569 - val_loss: 1.5476 - val_accuracy: 0.2612\n",
            "Epoch 42/50\n",
            "37/37 [==============================] - 324s 9s/step - loss: 1.4972 - accuracy: 0.3371 - val_loss: 1.5245 - val_accuracy: 0.3024\n",
            "Epoch 43/50\n",
            "37/37 [==============================] - 324s 9s/step - loss: 1.5546 - accuracy: 0.3371 - val_loss: 1.5625 - val_accuracy: 0.3024\n",
            "Epoch 44/50\n",
            "37/37 [==============================] - 325s 9s/step - loss: 1.4967 - accuracy: 0.3569 - val_loss: 1.5676 - val_accuracy: 0.2680\n",
            "Epoch 45/50\n",
            "37/37 [==============================] - 325s 9s/step - loss: 1.4820 - accuracy: 0.3578 - val_loss: 1.6648 - val_accuracy: 0.3024\n",
            "Epoch 46/50\n",
            "37/37 [==============================] - 325s 9s/step - loss: 1.5111 - accuracy: 0.3302 - val_loss: 1.5856 - val_accuracy: 0.2680\n",
            "Epoch 47/50\n",
            "37/37 [==============================] - 325s 9s/step - loss: 1.4692 - accuracy: 0.3491 - val_loss: 1.5640 - val_accuracy: 0.3299\n",
            "Epoch 48/50\n",
            "37/37 [==============================] - 326s 9s/step - loss: 1.4836 - accuracy: 0.3414 - val_loss: 1.5445 - val_accuracy: 0.3127\n",
            "Epoch 49/50\n",
            "37/37 [==============================] - 325s 9s/step - loss: 1.5124 - accuracy: 0.3345 - val_loss: 1.5906 - val_accuracy: 0.2715\n",
            "Epoch 50/50\n",
            "37/37 [==============================] - 325s 9s/step - loss: 1.5818 - accuracy: 0.2966 - val_loss: 1.5712 - val_accuracy: 0.2784\n"
          ]
        }
      ]
    },
    {
      "cell_type": "markdown",
      "metadata": {
        "id": "1rYeImggRd7G"
      },
      "source": [
        "#### Model Analysis\n",
        "Increasing the image size to (521 x 521) did not counteract the effects the downsampling had on model performance. Further modeling will be needed outside the scope of this project to better account for the class imbalance."
      ]
    },
    {
      "cell_type": "markdown",
      "metadata": {
        "id": "YL5n5FYQXXjZ"
      },
      "source": [
        "### Downsampling Analysis\n",
        "It is possible that with continued modeling and trial and error that the downsampled dataset could perform as well as the imbalanced dataset. It is also possible that there is just not enough data overall to differentiate between the 5 classes. Based on my understanding of the images and the model performance on the imbalanced dataset I'd hypothesize that the latter is true due to the similarities between image classes.\n",
        "\n",
        "#### Next Steps\n",
        "\n",
        "1) Oversampling: This will likley cause the greatest increase in my models accuracy, but it will be difficult to source the `violent` and `breastfeeding` image classes online.\n",
        "\n",
        "2) Adjust Class Weights: This will require some trial and error to find optimal class weights in the `breastfeeding` and `violent` categories."
      ]
    }
  ]
}