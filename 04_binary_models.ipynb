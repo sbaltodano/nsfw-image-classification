{
 "cells": [
  {
   "cell_type": "markdown",
   "metadata": {
    "id": "VLYo5gn_2_HO"
   },
   "source": [
    "# Binary Image Classifier\n",
    "This notebook takes the `explicit`, `neutral`, and `sexy` image classes and splits them into 2 new classes `SFW` and `NSFW`. `Neutral`, and `sexy` images will be considered `SFW`, because they will not be banned from social media platforms and `explicit` will be reclassified as `NSFW` due to its inappropriate content."
   ]
  },
  {
   "cell_type": "code",
   "execution_count": 1,
   "metadata": {
    "colab": {
     "base_uri": "https://localhost:8080/"
    },
    "id": "l-gDbH8sAMRm",
    "outputId": "289f5be5-96cd-4358-ff44-902258d74179"
   },
   "outputs": [
    {
     "name": "stdout",
     "output_type": "stream",
     "text": [
      "Mounted at /content/drive\n"
     ]
    }
   ],
   "source": [
    "# Mount google drive to notebook to pull pickle files\n",
    "from google.colab import drive\n",
    "drive.mount('/content/drive')"
   ]
  },
  {
   "cell_type": "code",
   "execution_count": 18,
   "metadata": {
    "colab": {
     "base_uri": "https://localhost:8080/",
     "height": 73,
     "resources": {
      "http://localhost:8080/nbextensions/google.colab/files.js": {
       "data": "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",
       "headers": [
        [
         "content-type",
         "application/javascript"
        ]
       ],
       "ok": true,
       "status": 200,
       "status_text": ""
      }
     }
    },
    "id": "Yn47W7h4AaFD",
    "outputId": "3ba1840e-9ac2-4d51-cde4-e79b4f908f69"
   },
   "outputs": [
    {
     "data": {
      "text/html": [
       "\n",
       "     <input type=\"file\" id=\"files-1ed8d895-1b80-48ac-9afc-5cd2fc5cc54d\" name=\"files[]\" multiple disabled\n",
       "        style=\"border:none\" />\n",
       "     <output id=\"result-1ed8d895-1b80-48ac-9afc-5cd2fc5cc54d\">\n",
       "      Upload widget is only available when the cell has been executed in the\n",
       "      current browser session. Please rerun this cell to enable.\n",
       "      </output>\n",
       "      <script src=\"/nbextensions/google.colab/files.js\"></script> "
      ],
      "text/plain": [
       "<IPython.core.display.HTML object>"
      ]
     },
     "metadata": {},
     "output_type": "display_data"
    },
    {
     "name": "stdout",
     "output_type": "stream",
     "text": [
      "Saving helpers_py.py to helpers_py.py\n"
     ]
    }
   ],
   "source": [
    "# Import libraries\n",
    "import time, scipy\n",
    "import matplotlib.pyplot as plt\n",
    "import seaborn as sns\n",
    "import numpy as np\n",
    "import pandas as pd\n",
    "from sklearn.metrics import confusion_matrix, plot_confusion_matrix, classification_report, recall_score, f1_score, precision_score, accuracy_score\n",
    " \n",
    "# Modeling libraries\n",
    "from keras import models\n",
    "from keras import layers\n",
    "import tensorflow as tf\n",
    "from tensorflow.keras.models import Sequential\n",
    "from tensorflow.keras.layers import Dense, Flatten, MaxPooling2D, Activation, Conv2D\n",
    "from tensorflow.keras import layers\n",
    "from tensorflow.keras.optimizers import SGD\n",
    "import pickle\n",
    "import keras\n",
    "\n",
    "# Import 'helpers.py' file\n",
    "from google.colab import files\n",
    "src = list(files.upload().values())[0]\n",
    "open('helpers.py','wb').write(src)\n",
    "import helpers as hp"
   ]
  },
  {
   "cell_type": "code",
   "execution_count": 3,
   "metadata": {
    "id": "SWMLsU-qAkmy"
   },
   "outputs": [],
   "source": [
    "# Open Pickle files containing train, test, val data\n",
    "infile = open('/content/drive/MyDrive/nsfw_image_classification/Pickles/X.pickle','rb')\n",
    "X = pickle.load(infile)\n",
    "\n",
    "infile2 = open('/content/drive/MyDrive/nsfw_image_classification/Pickles/y.pickle','rb')\n",
    "y = pickle.load(infile2)\n",
    "\n",
    "infile3 = open('/content/drive/MyDrive/nsfw_image_classification/Pickles/X_test.pickle','rb')\n",
    "X_test = pickle.load(infile3)\n",
    "\n",
    "infile4 = open('/content/drive/MyDrive/nsfw_image_classification/Pickles/y_test.pickle','rb')\n",
    "y_test = pickle.load(infile4)\n",
    "\n",
    "infile5 = open('/content/drive/MyDrive/nsfw_image_classification/Pickles/X_val.pickle','rb')\n",
    "X_val = pickle.load(infile5)\n",
    "\n",
    "infile6 = open('/content/drive/MyDrive/nsfw_image_classification/Pickles/y_val.pickle','rb')\n",
    "y_val = pickle.load(infile6)"
   ]
  },
  {
   "cell_type": "code",
   "execution_count": 4,
   "metadata": {
    "colab": {
     "base_uri": "https://localhost:8080/"
    },
    "id": "-lMx3Zx8AvBn",
    "outputId": "34013c4b-1beb-4c57-fb94-bcb65768fc75"
   },
   "outputs": [
    {
     "name": "stdout",
     "output_type": "stream",
     "text": [
      "Explicit Images In y train: 31257\n",
      "NSFW Images In y_train_binary: 31257\n"
     ]
    }
   ],
   "source": [
    "# Relabel explicit data to 1 for 'NSFW' and sexy and neutral data to 0 for 'SFW'\n",
    "print(f'Explicit Images In y train: {sum(y==0)}')\n",
    "y_train_binary = np.where(y > 0, 0, 1)\n",
    "print(f'NSFW Images In y_train_binary: {sum(y_train_binary==1)}')"
   ]
  },
  {
   "cell_type": "code",
   "execution_count": 5,
   "metadata": {
    "colab": {
     "base_uri": "https://localhost:8080/"
    },
    "id": "ypBhZX09CMnb",
    "outputId": "39399fcd-55ff-4fbe-d298-e3e264f2e49f"
   },
   "outputs": [
    {
     "name": "stdout",
     "output_type": "stream",
     "text": [
      "Explicit Images In y_test: 8929\n",
      "NSFW Images In y_test_binary: 8929\n",
      "\n",
      "Explicit Images In y_val: 4468\n",
      "NSFW Images In y_val_binary: 4468\n"
     ]
    }
   ],
   "source": [
    "# Repeat the process for y_test and y_val\n",
    "print(f'Explicit Images In y_test: {sum(y_test==0)}')\n",
    "y_test_binary = np.where(y_test > 0, 0, 1)\n",
    "print(f'NSFW Images In y_test_binary: {sum(y_test_binary==1)}\\n')\n",
    "\n",
    "print(f'Explicit Images In y_val: {sum(y_val==0)}')\n",
    "y_val_binary = np.where(y_val > 0, 0, 1)\n",
    "print(f'NSFW Images In y_val_binary: {sum(y_val_binary==1)}')"
   ]
  },
  {
   "cell_type": "code",
   "execution_count": 6,
   "metadata": {
    "id": "8s2Hc8RnAtEq"
   },
   "outputs": [],
   "source": [
    "# Data Augmentation with horizonatal and vertical flips\n",
    "data_augmentation = Sequential([\n",
    "  layers.experimental.preprocessing.RandomFlip(\"horizontal_and_vertical\"),\n",
    "  layers.experimental.preprocessing.RandomRotation(0.2),\n",
    "])"
   ]
  },
  {
   "cell_type": "code",
   "execution_count": 7,
   "metadata": {
    "colab": {
     "base_uri": "https://localhost:8080/"
    },
    "id": "j-2gc-w5DX44",
    "outputId": "54e1a7ff-310a-43a7-99dc-5a610626d548"
   },
   "outputs": [
    {
     "name": "stdout",
     "output_type": "stream",
     "text": [
      "Epoch 1/50\n",
      "1618/1618 [==============================] - 435s 268ms/step - loss: 0.6854 - accuracy: 0.5742 - val_loss: 0.6464 - val_accuracy: 0.6412\n",
      "Epoch 2/50\n",
      "1618/1618 [==============================] - 408s 252ms/step - loss: 0.6287 - accuracy: 0.6548 - val_loss: 0.6461 - val_accuracy: 0.6365\n",
      "Epoch 3/50\n",
      "1618/1618 [==============================] - 409s 253ms/step - loss: 0.6022 - accuracy: 0.6850 - val_loss: 0.5535 - val_accuracy: 0.7243\n",
      "Epoch 4/50\n",
      "1618/1618 [==============================] - 421s 260ms/step - loss: 0.5695 - accuracy: 0.7100 - val_loss: 0.5200 - val_accuracy: 0.7419\n",
      "Epoch 5/50\n",
      "1618/1618 [==============================] - 409s 253ms/step - loss: 0.5389 - accuracy: 0.7330 - val_loss: 0.4965 - val_accuracy: 0.7596\n",
      "Epoch 6/50\n",
      "1618/1618 [==============================] - 402s 249ms/step - loss: 0.5198 - accuracy: 0.7456 - val_loss: 0.4885 - val_accuracy: 0.7597\n",
      "Epoch 7/50\n",
      "1618/1618 [==============================] - 405s 251ms/step - loss: 0.5018 - accuracy: 0.7558 - val_loss: 0.4808 - val_accuracy: 0.7709\n",
      "Epoch 8/50\n",
      "1618/1618 [==============================] - 403s 249ms/step - loss: 0.4894 - accuracy: 0.7664 - val_loss: 0.4704 - val_accuracy: 0.7781\n",
      "Epoch 9/50\n",
      "1618/1618 [==============================] - 405s 250ms/step - loss: 0.4710 - accuracy: 0.7767 - val_loss: 0.4282 - val_accuracy: 0.8007\n",
      "Epoch 10/50\n",
      "1618/1618 [==============================] - 408s 252ms/step - loss: 0.4543 - accuracy: 0.7872 - val_loss: 0.5061 - val_accuracy: 0.7628\n",
      "Epoch 11/50\n",
      "1618/1618 [==============================] - 406s 251ms/step - loss: 0.4412 - accuracy: 0.7954 - val_loss: 0.4860 - val_accuracy: 0.7617\n",
      "Epoch 12/50\n",
      "1618/1618 [==============================] - 406s 251ms/step - loss: 0.4290 - accuracy: 0.8031 - val_loss: 0.3993 - val_accuracy: 0.8203\n",
      "Epoch 13/50\n",
      "1618/1618 [==============================] - 406s 251ms/step - loss: 0.4225 - accuracy: 0.8063 - val_loss: 0.4044 - val_accuracy: 0.8179\n",
      "Epoch 14/50\n",
      "1618/1618 [==============================] - 410s 253ms/step - loss: 0.4137 - accuracy: 0.8111 - val_loss: 0.3999 - val_accuracy: 0.8236\n",
      "Epoch 15/50\n",
      "1618/1618 [==============================] - 411s 254ms/step - loss: 0.4065 - accuracy: 0.8163 - val_loss: 0.4290 - val_accuracy: 0.8051\n",
      "Epoch 16/50\n",
      "1618/1618 [==============================] - 411s 254ms/step - loss: 0.4011 - accuracy: 0.8194 - val_loss: 0.3941 - val_accuracy: 0.8202\n",
      "Epoch 17/50\n",
      "1618/1618 [==============================] - 407s 251ms/step - loss: 0.3945 - accuracy: 0.8229 - val_loss: 0.4174 - val_accuracy: 0.8066\n",
      "Epoch 18/50\n",
      "1618/1618 [==============================] - 408s 252ms/step - loss: 0.3924 - accuracy: 0.8225 - val_loss: 0.4182 - val_accuracy: 0.8144\n",
      "Epoch 19/50\n",
      "1618/1618 [==============================] - 406s 251ms/step - loss: 0.3852 - accuracy: 0.8273 - val_loss: 0.3925 - val_accuracy: 0.8264\n",
      "Epoch 20/50\n",
      "1618/1618 [==============================] - 406s 251ms/step - loss: 0.3814 - accuracy: 0.8299 - val_loss: 0.3678 - val_accuracy: 0.8332\n",
      "Epoch 21/50\n",
      "1618/1618 [==============================] - 405s 250ms/step - loss: 0.3782 - accuracy: 0.8317 - val_loss: 0.3783 - val_accuracy: 0.8304\n",
      "Epoch 22/50\n",
      "1618/1618 [==============================] - 407s 251ms/step - loss: 0.3729 - accuracy: 0.8338 - val_loss: 0.4034 - val_accuracy: 0.8197\n",
      "Epoch 23/50\n",
      "1618/1618 [==============================] - 409s 253ms/step - loss: 0.3703 - accuracy: 0.8367 - val_loss: 0.3636 - val_accuracy: 0.8390\n",
      "Epoch 24/50\n",
      "1618/1618 [==============================] - 409s 253ms/step - loss: 0.3672 - accuracy: 0.8380 - val_loss: 0.3731 - val_accuracy: 0.8359\n",
      "Epoch 25/50\n",
      "1618/1618 [==============================] - 406s 251ms/step - loss: 0.3646 - accuracy: 0.8382 - val_loss: 0.3555 - val_accuracy: 0.8454\n",
      "Epoch 26/50\n",
      "1618/1618 [==============================] - 404s 250ms/step - loss: 0.3634 - accuracy: 0.8395 - val_loss: 0.3489 - val_accuracy: 0.8437\n",
      "Epoch 27/50\n",
      "1618/1618 [==============================] - 405s 250ms/step - loss: 0.3576 - accuracy: 0.8417 - val_loss: 0.3607 - val_accuracy: 0.8411\n",
      "Epoch 28/50\n",
      "1618/1618 [==============================] - 405s 250ms/step - loss: 0.3557 - accuracy: 0.8427 - val_loss: 0.3772 - val_accuracy: 0.8359\n",
      "Epoch 29/50\n",
      "1618/1618 [==============================] - 406s 251ms/step - loss: 0.3520 - accuracy: 0.8457 - val_loss: 0.6095 - val_accuracy: 0.7505\n",
      "Epoch 30/50\n",
      "1618/1618 [==============================] - 408s 252ms/step - loss: 0.3499 - accuracy: 0.8478 - val_loss: 0.3645 - val_accuracy: 0.8403\n",
      "Epoch 31/50\n",
      "1618/1618 [==============================] - 415s 257ms/step - loss: 0.3476 - accuracy: 0.8481 - val_loss: 0.3661 - val_accuracy: 0.8424\n",
      "Epoch 32/50\n",
      "1618/1618 [==============================] - 415s 257ms/step - loss: 0.3472 - accuracy: 0.8476 - val_loss: 0.4290 - val_accuracy: 0.8117\n",
      "Epoch 33/50\n",
      "1618/1618 [==============================] - 415s 256ms/step - loss: 0.3442 - accuracy: 0.8483 - val_loss: 0.4195 - val_accuracy: 0.8256\n",
      "Epoch 34/50\n",
      "1618/1618 [==============================] - 415s 257ms/step - loss: 0.3410 - accuracy: 0.8521 - val_loss: 0.3809 - val_accuracy: 0.8378\n",
      "Epoch 35/50\n",
      "1618/1618 [==============================] - 416s 257ms/step - loss: 0.3377 - accuracy: 0.8535 - val_loss: 0.4009 - val_accuracy: 0.8200\n",
      "Epoch 36/50\n",
      "1618/1618 [==============================] - 414s 256ms/step - loss: 0.3378 - accuracy: 0.8539 - val_loss: 0.3470 - val_accuracy: 0.8497\n",
      "Epoch 37/50\n",
      "1618/1618 [==============================] - 413s 255ms/step - loss: 0.3375 - accuracy: 0.8542 - val_loss: 0.3811 - val_accuracy: 0.8364\n",
      "Epoch 38/50\n",
      "1618/1618 [==============================] - 414s 256ms/step - loss: 0.3318 - accuracy: 0.8566 - val_loss: 0.4239 - val_accuracy: 0.8210\n",
      "Epoch 39/50\n",
      "1618/1618 [==============================] - 415s 256ms/step - loss: 0.3321 - accuracy: 0.8568 - val_loss: 0.3373 - val_accuracy: 0.8554\n",
      "Epoch 40/50\n",
      "1618/1618 [==============================] - 420s 259ms/step - loss: 0.3305 - accuracy: 0.8558 - val_loss: 0.3517 - val_accuracy: 0.8471\n",
      "Epoch 41/50\n",
      "1618/1618 [==============================] - 416s 257ms/step - loss: 0.3269 - accuracy: 0.8599 - val_loss: 0.4199 - val_accuracy: 0.8141\n",
      "Epoch 42/50\n",
      "1618/1618 [==============================] - 416s 257ms/step - loss: 0.3265 - accuracy: 0.8587 - val_loss: 0.3456 - val_accuracy: 0.8509\n",
      "Epoch 43/50\n",
      "1618/1618 [==============================] - 412s 255ms/step - loss: 0.3268 - accuracy: 0.8569 - val_loss: 0.3302 - val_accuracy: 0.8560\n",
      "Epoch 44/50\n",
      "1618/1618 [==============================] - 412s 254ms/step - loss: 0.3212 - accuracy: 0.8619 - val_loss: 0.3980 - val_accuracy: 0.8280\n",
      "Epoch 45/50\n",
      "1618/1618 [==============================] - 411s 254ms/step - loss: 0.3185 - accuracy: 0.8611 - val_loss: 0.3531 - val_accuracy: 0.8490\n",
      "Epoch 46/50\n",
      "1618/1618 [==============================] - 410s 253ms/step - loss: 0.3181 - accuracy: 0.8649 - val_loss: 0.3941 - val_accuracy: 0.8367\n",
      "Epoch 47/50\n",
      "1618/1618 [==============================] - 413s 255ms/step - loss: 0.3185 - accuracy: 0.8622 - val_loss: 0.5086 - val_accuracy: 0.7982\n",
      "Epoch 48/50\n",
      "1618/1618 [==============================] - 413s 255ms/step - loss: 0.3150 - accuracy: 0.8638 - val_loss: 0.3506 - val_accuracy: 0.8457\n",
      "Epoch 49/50\n",
      "1618/1618 [==============================] - 414s 256ms/step - loss: 0.3119 - accuracy: 0.8669 - val_loss: 0.3566 - val_accuracy: 0.8513\n",
      "Epoch 50/50\n",
      "1618/1618 [==============================] - 413s 255ms/step - loss: 0.3129 - accuracy: 0.8654 - val_loss: 0.3637 - val_accuracy: 0.8447\n"
     ]
    }
   ],
   "source": [
    "# Reuse best model from 3-class CNN\n",
    "model = Sequential([ # Model steps are performed one after another rather than at the same time\n",
    "  data_augmentation, # Apply data augmentation to the model\n",
    "  layers.Conv2D(filters=48, kernel_size=3, activation='relu', input_shape=X.shape[1:]),\n",
    "  layers.MaxPooling2D(pool_size=2, strides=2) \n",
    "]) # Max pooling to reduce noise and calculate the maximum value in each patch of each feature map\n",
    "\n",
    "\n",
    "model.add(layers.Conv2D(filters=48, kernel_size=3, activation='relu'))\n",
    "model.add(layers.MaxPool2D(pool_size=2, strides=1)) # More max pooling, decreased stride\n",
    "model.add(layers.Conv2D(filters=32, kernel_size=3, activation='relu'))\n",
    "model.add(layers.MaxPool2D(pool_size=2, strides=1)) # More max pooling, decreased stride\n",
    "model.add(layers.Conv2D(filters=32, kernel_size=3, activation='relu'))\n",
    "model.add(layers.MaxPool2D(pool_size=2, strides=1)) # More max pooling, decreased stride\n",
    "model.add(layers.Flatten()) # Transform features into a single column\n",
    "model.add(layers.Dense(128, activation='relu')) # First hidden layer\n",
    "model.add(layers.Dense(72, activation='relu')) # Second hidden layer\n",
    "model.add(layers.Dense(64, activation='relu')) # Third hidden layer\n",
    "model.add(layers.Dense(30, activation='relu')) # Fourth hidden layer\n",
    "model.add(layers.Dense(8, activation='relu')) # Fifth hidden layer\n",
    "model.add(layers.Dense(3, activation='softmax')) # Sixth hidden layer\n",
    "\n",
    "# Compile and train CNN\n",
    "opt = SGD(learning_rate=0.06) # Small learning rate to avoid overfitting\n",
    "model.compile(loss = 'sparse_categorical_crossentropy', # Sparse_categorical_crossentropy because the labels are not one hot encoded, and to reduce comp time\n",
    "               optimizer = opt, \n",
    "               metrics=['accuracy'])\n",
    "\n",
    "# Fit and score model performance\n",
    "model_score = model.fit(X,\n",
    "                        y_train_binary,\n",
    "                        epochs=50,\n",
    "                        validation_split=0.2)"
   ]
  },
  {
   "cell_type": "code",
   "execution_count": 21,
   "metadata": {
    "colab": {
     "base_uri": "https://localhost:8080/"
    },
    "id": "PG_xE5vBDf0B",
    "outputId": "05891e0a-ed26-4fb7-d90a-289d3fa74aa5"
   },
   "outputs": [
    {
     "name": "stdout",
     "output_type": "stream",
     "text": [
      "578/578 [==============================] - 25s 43ms/step - loss: 0.3638 - accuracy: 0.8448\n"
     ]
    }
   ],
   "source": [
    "val_score = model.evaluate(X_test, y_test_binary)"
   ]
  },
  {
   "cell_type": "code",
   "execution_count": 25,
   "metadata": {
    "colab": {
     "base_uri": "https://localhost:8080/"
    },
    "id": "mXt-2vUDS-MA",
    "outputId": "7f1fe663-898f-4e07-cda4-ddff6c615b6f"
   },
   "outputs": [
    {
     "name": "stdout",
     "output_type": "stream",
     "text": [
      "This model has a 84.5% Accuracy\n"
     ]
    }
   ],
   "source": [
    "print(f'This model has a {round(((val_score[1])* 100),1)}% Accuracy')"
   ]
  },
  {
   "cell_type": "markdown",
   "metadata": {
    "id": "9ma6B5fr3rfo"
   },
   "source": [
    "### Model Analysis\n",
    "Once the model was changed to a binary classifier, model performance increased by 3 perecent. This is because hundreds of `sexy` images were misclassified as `neutral` and vice versa in the 3-class model."
   ]
  },
  {
   "cell_type": "code",
   "execution_count": 19,
   "metadata": {
    "colab": {
     "base_uri": "https://localhost:8080/",
     "height": 573
    },
    "id": "bt46BhOwGM4Z",
    "outputId": "937bc5ea-f125-40ec-cbbe-f21aac3b9809"
   },
   "outputs": [
    {
     "data": {
      "image/png": "[encoded data removed]",
      "text/plain": [
       "<Figure size 432x288 with 1 Axes>"
      ]
     },
     "metadata": {
      "needs_background": "light"
     },
     "output_type": "display_data"
    },
    {
     "data": {
      "image/png": "[encoded data removed]",
      "text/plain": [
       "<Figure size 432x288 with 1 Axes>"
      ]
     },
     "metadata": {
      "needs_background": "light"
     },
     "output_type": "display_data"
    }
   ],
   "source": [
    "# View change in accuracy and loss with each epoch\n",
    "hp.plot_model_train_val_accuracy_loss(model_score)"
   ]
  },
  {
   "cell_type": "code",
   "execution_count": 14,
   "metadata": {
    "colab": {
     "base_uri": "https://localhost:8080/"
    },
    "id": "Iy0r8ch5ceoj",
    "outputId": "46b09838-8dae-4c7d-93ae-c433603a80ff"
   },
   "outputs": [
    {
     "name": "stdout",
     "output_type": "stream",
     "text": [
      "Predicted     0     1   All\n",
      "Actual                     \n",
      "0          4055   726  4781\n",
      "1           703  3765  4468\n",
      "All        4758  4491  9249\n"
     ]
    }
   ],
   "source": [
    "# Calculate predicted values\n",
    "y_pred = model.predict(X_val)\n",
    "# Convert predicted 3-d array into 1-d array\n",
    "y_pred = np.argmax(y_pred, axis=1)\n",
    "# Convert numpy arrays to pandas series\n",
    "y_actu = pd.Series(y_val_binary, name='Actual')\n",
    "y_pred = pd.Series(y_pred, name='Predicted')\n",
    "\n",
    "\n",
    "# Print confusion matrix\n",
    "df_confusion = pd.crosstab(y_actu, y_pred, rownames=['Actual'], colnames=['Predicted'], margins=True)\n",
    "print(df_confusion)"
   ]
  },
  {
   "cell_type": "code",
   "execution_count": 15,
   "metadata": {
    "colab": {
     "base_uri": "https://localhost:8080/",
     "height": 265
    },
    "id": "3TDo0NHzc6f0",
    "outputId": "7fa35aff-8298-4631-b496-5d6127f106c1"
   },
   "outputs": [
    {
     "data": {
      "image/png": "[encoded data removed]",
      "text/plain": [
       "<Figure size 432x288 with 2 Axes>"
      ]
     },
     "metadata": {
      "needs_background": "light"
     },
     "output_type": "display_data"
    }
   ],
   "source": [
    "# Plot confusion matrix\n",
    "conf = confusion_matrix(y_actu, y_pred)\n",
    "labels = ['SFW', 'NSFW']\n",
    "sns.heatmap(conf, annot=True, fmt=\"d\", cmap='Blues', xticklabels=labels, yticklabels=labels);"
   ]
  },
  {
   "cell_type": "code",
   "execution_count": 16,
   "metadata": {
    "colab": {
     "base_uri": "https://localhost:8080/"
    },
    "id": "PAQ2txeZdsqa",
    "outputId": "942135f7-0f4a-4883-994b-dd1b2642da19"
   },
   "outputs": [
    {
     "name": "stdout",
     "output_type": "stream",
     "text": [
      "              precision    recall  f1-score   support\n",
      "\n",
      "         SFW       0.85      0.85      0.85      4781\n",
      "        NSFW       0.84      0.84      0.84      4468\n",
      "\n",
      "    accuracy                           0.85      9249\n",
      "   macro avg       0.85      0.85      0.85      9249\n",
      "weighted avg       0.85      0.85      0.85      9249\n",
      "\n"
     ]
    }
   ],
   "source": [
    "# Print classification report\n",
    "print(classification_report(y_val_binary, y_pred, target_names=labels))"
   ]
  },
  {
   "cell_type": "code",
   "execution_count": 17,
   "metadata": {
    "colab": {
     "base_uri": "https://localhost:8080/"
    },
    "id": "ZnlRvs6Hd_sJ",
    "outputId": "d08a2abb-a036-4940-e927-5f12d0cc00b4"
   },
   "outputs": [
    {
     "name": "stdout",
     "output_type": "stream",
     "text": [
      "Model: \"sequential_1\"\n",
      "_________________________________________________________________\n",
      "Layer (type)                 Output Shape              Param #   \n",
      "=================================================================\n",
      "sequential (Sequential)      (None, 90, 90, 1)         0         \n",
      "_________________________________________________________________\n",
      "conv2d (Conv2D)              (None, 88, 88, 48)        480       \n",
      "_________________________________________________________________\n",
      "max_pooling2d (MaxPooling2D) (None, 44, 44, 48)        0         \n",
      "_________________________________________________________________\n",
      "conv2d_1 (Conv2D)            (None, 42, 42, 48)        20784     \n",
      "_________________________________________________________________\n",
      "max_pooling2d_1 (MaxPooling2 (None, 41, 41, 48)        0         \n",
      "_________________________________________________________________\n",
      "conv2d_2 (Conv2D)            (None, 39, 39, 32)        13856     \n",
      "_________________________________________________________________\n",
      "max_pooling2d_2 (MaxPooling2 (None, 38, 38, 32)        0         \n",
      "_________________________________________________________________\n",
      "conv2d_3 (Conv2D)            (None, 36, 36, 32)        9248      \n",
      "_________________________________________________________________\n",
      "max_pooling2d_3 (MaxPooling2 (None, 35, 35, 32)        0         \n",
      "_________________________________________________________________\n",
      "flatten (Flatten)            (None, 39200)             0         \n",
      "_________________________________________________________________\n",
      "dense (Dense)                (None, 128)               5017728   \n",
      "_________________________________________________________________\n",
      "dense_1 (Dense)              (None, 72)                9288      \n",
      "_________________________________________________________________\n",
      "dense_2 (Dense)              (None, 64)                4672      \n",
      "_________________________________________________________________\n",
      "dense_3 (Dense)              (None, 30)                1950      \n",
      "_________________________________________________________________\n",
      "dense_4 (Dense)              (None, 8)                 248       \n",
      "_________________________________________________________________\n",
      "dense_5 (Dense)              (None, 3)                 27        \n",
      "=================================================================\n",
      "Total params: 5,078,281\n",
      "Trainable params: 5,078,281\n",
      "Non-trainable params: 0\n",
      "_________________________________________________________________\n"
     ]
    }
   ],
   "source": [
    "# View model summary\n",
    "model.summary()"
   ]
  }
 ],
 "metadata": {
  "colab": {
   "machine_shape": "hm",
   "name": "04_binary_models.ipynb",
   "provenance": []
  },
  "kernelspec": {
   "display_name": "Python 3",
   "name": "python3"
  },
  "language_info": {
   "name": "python"
  }
 },
 "nbformat": 4,
 "nbformat_minor": 0
}
