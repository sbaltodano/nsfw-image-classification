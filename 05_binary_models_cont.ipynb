{
 "cells": [
  {
   "cell_type": "markdown",
   "metadata": {
    "id": "TyYr72VvvOUD"
   },
   "source": [
    "# Final Binary Image Classifier, Part 2\n",
    "The previous `SFW` and `NSFW` image classifier only included the photos from the `explicit`, `neutral`, and `sexy` classes. This image classifier will include the additional `breastfeeding` and `violent` categories as well. The `violent` photos will be considered `NSFW` while the `breastfeeding` photos will be categorized as `SFW`."
   ]
  },
  {
   "cell_type": "code",
   "execution_count": 1,
   "metadata": {
    "colab": {
     "base_uri": "https://localhost:8080/"
    },
    "id": "2Em8FXhlQMmB",
    "outputId": "61fd5ac4-d30f-499f-9545-5b966f08cfe9"
   },
   "outputs": [
    {
     "name": "stdout",
     "output_type": "stream",
     "text": [
      "Mounted at /content/drive\n"
     ]
    }
   ],
   "source": [
    "# Mount google drive to notebook to pull pickle files\n",
    "from google.colab import drive\n",
    "drive.mount('/content/drive')"
   ]
  },
  {
   "cell_type": "code",
   "execution_count": 26,
   "metadata": {
    "colab": {
     "base_uri": "https://localhost:8080/",
     "height": 73,
     "resources": {
      "http://localhost:8080/nbextensions/google.colab/files.js": {
       "data": "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",
       "headers": [
        [
         "content-type",
         "application/javascript"
        ]
       ],
       "ok": true,
       "status": 200,
       "status_text": ""
      }
     }
    },
    "id": "g8Tkyg7GQR8C",
    "outputId": "b218328b-dd45-4dda-bdbc-a19ebc4119af"
   },
   "outputs": [
    {
     "data": {
      "text/html": [
       "\n",
       "     <input type=\"file\" id=\"files-42272d7f-54cf-414c-88a0-4397ca97d2e0\" name=\"files[]\" multiple disabled\n",
       "        style=\"border:none\" />\n",
       "     <output id=\"result-42272d7f-54cf-414c-88a0-4397ca97d2e0\">\n",
       "      Upload widget is only available when the cell has been executed in the\n",
       "      current browser session. Please rerun this cell to enable.\n",
       "      </output>\n",
       "      <script src=\"/nbextensions/google.colab/files.js\"></script> "
      ],
      "text/plain": [
       "<IPython.core.display.HTML object>"
      ]
     },
     "metadata": {},
     "output_type": "display_data"
    },
    {
     "name": "stdout",
     "output_type": "stream",
     "text": [
      "Saving helpers_py.py to helpers_py (1).py\n"
     ]
    }
   ],
   "source": [
    "# Import libraries\n",
    "import time, scipy\n",
    "import matplotlib.pyplot as plt\n",
    "import seaborn as sns\n",
    "import numpy as np\n",
    "import pandas as pd\n",
    "from sklearn.metrics import confusion_matrix, plot_confusion_matrix, classification_report, recall_score, f1_score, precision_score, accuracy_score\n",
    " \n",
    "# Modeling libraries\n",
    "from keras import models\n",
    "from keras import layers\n",
    "import tensorflow as tf\n",
    "from tensorflow.keras.models import Sequential\n",
    "from tensorflow.keras.layers import Dense, Flatten, MaxPooling2D, Activation, Conv2D\n",
    "from tensorflow.keras import layers\n",
    "from tensorflow.keras.optimizers import SGD\n",
    "import pickle\n",
    "import keras\n",
    "\n",
    "# Import 'helpers.py' file\n",
    "from google.colab import files\n",
    "src = list(files.upload().values())[0]\n",
    "open('helpers.py','wb').write(src)\n",
    "import helpers as hp"
   ]
  },
  {
   "cell_type": "code",
   "execution_count": 3,
   "metadata": {
    "id": "NbXA3aXaQgNB"
   },
   "outputs": [],
   "source": [
    "# Open Pickle files containing train, test, val data\n",
    "infile = open('/content/drive/MyDrive/nsfw_image_classification/Pickles/X.pickle','rb')\n",
    "X = pickle.load(infile)\n",
    "\n",
    "infile2 = open('/content/drive/MyDrive/nsfw_image_classification/Pickles/y.pickle','rb')\n",
    "y = pickle.load(infile2)\n",
    "\n",
    "infile5 = open('/content/drive/MyDrive/nsfw_image_classification/Pickles/X_val.pickle','rb')\n",
    "X_val = pickle.load(infile5)\n",
    "\n",
    "infile6 = open('/content/drive/MyDrive/nsfw_image_classification/Pickles/y_val.pickle','rb')\n",
    "y_val = pickle.load(infile6)\n",
    "\n",
    "\n",
    "# Import new classes to append to X and y\n",
    "infile3 = open('/content/drive/MyDrive/nsfw_image_classification/Pickles/X_extra.pickle','rb')\n",
    "X_extra = pickle.load(infile3)\n",
    "\n",
    "infile4 = open('/content/drive/MyDrive/nsfw_image_classification/Pickles/y_extra.pickle','rb')\n",
    "y_extra = pickle.load(infile4)\n",
    "\n",
    "infile7 = open('/content/drive/MyDrive/nsfw_image_classification/Pickles/X_val_extra.pickle','rb')\n",
    "X_val_extra = pickle.load(infile7)\n",
    "\n",
    "infile8 = open('/content/drive/MyDrive/nsfw_image_classification/Pickles/y_val_extra.pickle','rb')\n",
    "y_val_extra = pickle.load(infile8)"
   ]
  },
  {
   "cell_type": "code",
   "execution_count": 6,
   "metadata": {
    "colab": {
     "base_uri": "https://localhost:8080/"
    },
    "id": "qHCqX51cQiR5",
    "outputId": "bebc03ae-a67f-42ec-f566-33497e403102"
   },
   "outputs": [
    {
     "data": {
      "text/plain": [
       "array([1, 1, 0, 1, 1])"
      ]
     },
     "execution_count": 6,
     "metadata": {},
     "output_type": "execute_result"
    }
   ],
   "source": [
    "# Replace breastfeeding (0) with class number 1 and violence (1), with class number 0 before appending to y\n",
    "y_extra_num = np.where(y_extra == 0, 1, 0) \n",
    "y_extra_num[:5]"
   ]
  },
  {
   "cell_type": "code",
   "execution_count": 7,
   "metadata": {
    "colab": {
     "base_uri": "https://localhost:8080/"
    },
    "id": "92Vet_U8Qj-S",
    "outputId": "e5f494c8-8b25-46a9-b911-c494a222f8d8"
   },
   "outputs": [
    {
     "data": {
      "text/plain": [
       "array([1, 1, 1, 0, 1])"
      ]
     },
     "execution_count": 7,
     "metadata": {},
     "output_type": "execute_result"
    }
   ],
   "source": [
    "# Replace breastfeeding (0) with class number 1 and violence (1), with class number 0 before appending to y\n",
    "y_val_extra_num = np.where(y_val_extra == 0, 1, 0) \n",
    "y_val_extra_num[:5]"
   ]
  },
  {
   "cell_type": "code",
   "execution_count": 8,
   "metadata": {
    "colab": {
     "base_uri": "https://localhost:8080/"
    },
    "id": "uTUD7aIlQlh9",
    "outputId": "04efbb74-dbaa-4a7a-940f-2cb824a3dcd4"
   },
   "outputs": [
    {
     "name": "stdout",
     "output_type": "stream",
     "text": [
      "X_new Size: 65267\n",
      "y_new Size: 65267\n",
      "X_val_new Size: 9299\n",
      "y_val_new Size: 9299\n"
     ]
    }
   ],
   "source": [
    "# Concatenate X and y values for train and validation data to create new arrays\n",
    "X_new = np.concatenate((X, X_extra), axis=0)\n",
    "y_new = np.concatenate((y, y_extra_num), axis=0)\n",
    "\n",
    "X_val_new = np.concatenate((X_val, X_val_extra), axis=0)\n",
    "y_val_new = np.concatenate((y_val, y_val_extra_num), axis=0)\n",
    "\n",
    "print(f'X_new Size: {len(X_new)}')\n",
    "print(f'y_new Size: {len(y_new)}')\n",
    "print(f'X_val_new Size: {len(X_val_new)}')\n",
    "print(f'y_val_new Size: {len(y_val_new)}')"
   ]
  },
  {
   "cell_type": "code",
   "execution_count": 9,
   "metadata": {
    "colab": {
     "base_uri": "https://localhost:8080/"
    },
    "id": "jDB-yjPqRD0e",
    "outputId": "ce9f2cf8-5607-4cf2-c4f4-a56337ab84bd"
   },
   "outputs": [
    {
     "name": "stdout",
     "output_type": "stream",
     "text": [
      "Explicit Images In y train: 31436\n",
      "NSFW Images In y_train_binary: 31436\n"
     ]
    }
   ],
   "source": [
    "# Relabel explicit data to 1 for 'NSFW' and sexy and neutral data to 0 for 'SFW'\n",
    "print(f'Explicit Images In y train: {sum(y_new==0)}')\n",
    "y_train_binary = np.where(y_new > 0, 0, 1)\n",
    "print(f'NSFW Images In y_train_binary: {sum(y_train_binary==1)}')"
   ]
  },
  {
   "cell_type": "code",
   "execution_count": 11,
   "metadata": {
    "colab": {
     "base_uri": "https://localhost:8080/"
    },
    "id": "EGLewTOERTzG",
    "outputId": "df7fe394-802b-426c-bc66-baa223ac4d8f"
   },
   "outputs": [
    {
     "name": "stdout",
     "output_type": "stream",
     "text": [
      "Explicit Images In y_val: 4488\n",
      "NSFW Images In y_val_binary: 4488\n"
     ]
    }
   ],
   "source": [
    "# Repeat the process for y_val\n",
    "print(f'Explicit Images In y_val: {sum(y_val_new==0)}')\n",
    "y_val_binary = np.where(y_val_new > 0, 0, 1)\n",
    "print(f'NSFW Images In y_val_binary: {sum(y_val_binary==1)}')"
   ]
  },
  {
   "cell_type": "code",
   "execution_count": 12,
   "metadata": {
    "id": "Jwa8Hx-XRWH8"
   },
   "outputs": [],
   "source": [
    "# Data Augmentation with horizonatal and vertical flips\n",
    "data_augmentation = Sequential([\n",
    "  layers.experimental.preprocessing.RandomFlip(\"horizontal_and_vertical\"),\n",
    "  layers.experimental.preprocessing.RandomRotation(0.2),\n",
    "])"
   ]
  },
  {
   "cell_type": "markdown",
   "metadata": {
    "id": "HODfG2qwwQcU"
   },
   "source": [
    "I have reused the best model from the [3-class CNN model]('02_best_3_class_model.ipynb') to build this binary model."
   ]
  },
  {
   "cell_type": "code",
   "execution_count": 14,
   "metadata": {
    "colab": {
     "base_uri": "https://localhost:8080/"
    },
    "id": "vxrx8mazRpMd",
    "outputId": "5b9b3e14-6928-48b0-a53c-a1a10715f57f"
   },
   "outputs": [
    {
     "name": "stdout",
     "output_type": "stream",
     "text": [
      "Epoch 1/50\n",
      "1632/1632 [==============================] - 400s 244ms/step - loss: 0.6757 - accuracy: 0.5859 - val_loss: 0.6480 - val_accuracy: 0.6288\n",
      "Epoch 2/50\n",
      "1632/1632 [==============================] - 401s 245ms/step - loss: 0.6177 - accuracy: 0.6687 - val_loss: 0.5960 - val_accuracy: 0.6922\n",
      "Epoch 3/50\n",
      "1632/1632 [==============================] - 400s 245ms/step - loss: 0.5845 - accuracy: 0.6956 - val_loss: 0.5721 - val_accuracy: 0.7009\n",
      "Epoch 4/50\n",
      "1632/1632 [==============================] - 404s 248ms/step - loss: 0.5553 - accuracy: 0.7225 - val_loss: 0.6752 - val_accuracy: 0.6462\n",
      "Epoch 5/50\n",
      "1632/1632 [==============================] - 398s 244ms/step - loss: 0.5393 - accuracy: 0.7342 - val_loss: 0.5310 - val_accuracy: 0.7395\n",
      "Epoch 6/50\n",
      "1632/1632 [==============================] - 400s 245ms/step - loss: 0.5271 - accuracy: 0.7422 - val_loss: 0.6583 - val_accuracy: 0.6213\n",
      "Epoch 7/50\n",
      "1632/1632 [==============================] - 400s 245ms/step - loss: 0.5117 - accuracy: 0.7496 - val_loss: 0.5239 - val_accuracy: 0.7448\n",
      "Epoch 8/50\n",
      "1632/1632 [==============================] - 396s 243ms/step - loss: 0.4877 - accuracy: 0.7661 - val_loss: 0.4962 - val_accuracy: 0.7586\n",
      "Epoch 9/50\n",
      "1632/1632 [==============================] - 401s 246ms/step - loss: 0.4722 - accuracy: 0.7769 - val_loss: 0.4863 - val_accuracy: 0.7757\n",
      "Epoch 10/50\n",
      "1632/1632 [==============================] - 402s 246ms/step - loss: 0.4583 - accuracy: 0.7844 - val_loss: 0.4723 - val_accuracy: 0.7793\n",
      "Epoch 11/50\n",
      "1632/1632 [==============================] - 405s 248ms/step - loss: 0.4501 - accuracy: 0.7902 - val_loss: 0.4807 - val_accuracy: 0.7677\n",
      "Epoch 12/50\n",
      "1632/1632 [==============================] - 399s 244ms/step - loss: 0.4364 - accuracy: 0.7987 - val_loss: 0.4506 - val_accuracy: 0.7919\n",
      "Epoch 13/50\n",
      "1632/1632 [==============================] - 403s 247ms/step - loss: 0.4308 - accuracy: 0.7994 - val_loss: 0.5673 - val_accuracy: 0.7402\n",
      "Epoch 14/50\n",
      "1632/1632 [==============================] - 404s 247ms/step - loss: 0.4206 - accuracy: 0.8064 - val_loss: 0.4461 - val_accuracy: 0.7963\n",
      "Epoch 15/50\n",
      "1632/1632 [==============================] - 404s 247ms/step - loss: 0.4120 - accuracy: 0.8124 - val_loss: 0.4731 - val_accuracy: 0.7850\n",
      "Epoch 16/50\n",
      "1632/1632 [==============================] - 402s 246ms/step - loss: 0.4060 - accuracy: 0.8148 - val_loss: 0.4646 - val_accuracy: 0.7906\n",
      "Epoch 17/50\n",
      "1632/1632 [==============================] - 398s 244ms/step - loss: 0.3992 - accuracy: 0.8194 - val_loss: 0.4397 - val_accuracy: 0.7927\n",
      "Epoch 18/50\n",
      "1632/1632 [==============================] - 403s 247ms/step - loss: 0.3967 - accuracy: 0.8214 - val_loss: 0.4880 - val_accuracy: 0.7863\n",
      "Epoch 19/50\n",
      "1632/1632 [==============================] - 400s 245ms/step - loss: 0.3905 - accuracy: 0.8245 - val_loss: 0.4692 - val_accuracy: 0.7932\n",
      "Epoch 20/50\n",
      "1632/1632 [==============================] - 401s 246ms/step - loss: 0.3876 - accuracy: 0.8268 - val_loss: 0.4248 - val_accuracy: 0.8082\n",
      "Epoch 21/50\n",
      "1632/1632 [==============================] - 402s 246ms/step - loss: 0.3831 - accuracy: 0.8280 - val_loss: 0.4659 - val_accuracy: 0.7776\n",
      "Epoch 22/50\n",
      "1632/1632 [==============================] - 399s 245ms/step - loss: 0.3822 - accuracy: 0.8277 - val_loss: 0.4226 - val_accuracy: 0.8095\n",
      "Epoch 23/50\n",
      "1632/1632 [==============================] - 399s 245ms/step - loss: 0.3784 - accuracy: 0.8309 - val_loss: 0.4279 - val_accuracy: 0.8057\n",
      "Epoch 24/50\n",
      "1632/1632 [==============================] - 400s 245ms/step - loss: 0.3730 - accuracy: 0.8337 - val_loss: 0.4492 - val_accuracy: 0.8087\n",
      "Epoch 25/50\n",
      "1632/1632 [==============================] - 402s 246ms/step - loss: 0.3689 - accuracy: 0.8357 - val_loss: 0.4506 - val_accuracy: 0.8045\n",
      "Epoch 26/50\n",
      "1632/1632 [==============================] - 403s 247ms/step - loss: 0.3671 - accuracy: 0.8377 - val_loss: 0.5977 - val_accuracy: 0.7371\n",
      "Epoch 27/50\n",
      "1632/1632 [==============================] - 403s 247ms/step - loss: 0.3621 - accuracy: 0.8398 - val_loss: 0.4890 - val_accuracy: 0.7950\n",
      "Epoch 28/50\n",
      "1632/1632 [==============================] - 399s 245ms/step - loss: 0.3601 - accuracy: 0.8415 - val_loss: 0.4695 - val_accuracy: 0.7928\n",
      "Epoch 29/50\n",
      "1632/1632 [==============================] - 399s 244ms/step - loss: 0.3585 - accuracy: 0.8410 - val_loss: 0.4100 - val_accuracy: 0.8183\n",
      "Epoch 30/50\n",
      "1632/1632 [==============================] - 396s 243ms/step - loss: 0.3543 - accuracy: 0.8438 - val_loss: 0.4079 - val_accuracy: 0.8187\n",
      "Epoch 31/50\n",
      "1632/1632 [==============================] - 401s 246ms/step - loss: 0.3542 - accuracy: 0.8434 - val_loss: 0.4061 - val_accuracy: 0.8262\n",
      "Epoch 32/50\n",
      "1632/1632 [==============================] - 399s 244ms/step - loss: 0.3503 - accuracy: 0.8466 - val_loss: 0.4109 - val_accuracy: 0.8164\n",
      "Epoch 33/50\n",
      "1632/1632 [==============================] - 397s 244ms/step - loss: 0.3496 - accuracy: 0.8465 - val_loss: 0.4222 - val_accuracy: 0.8158\n",
      "Epoch 34/50\n",
      "1632/1632 [==============================] - 392s 240ms/step - loss: 0.3476 - accuracy: 0.8477 - val_loss: 0.7709 - val_accuracy: 0.7133\n",
      "Epoch 35/50\n",
      "1632/1632 [==============================] - 396s 243ms/step - loss: 0.3421 - accuracy: 0.8503 - val_loss: 0.4151 - val_accuracy: 0.8209\n",
      "Epoch 36/50\n",
      "1632/1632 [==============================] - 396s 242ms/step - loss: 0.3414 - accuracy: 0.8508 - val_loss: 0.4081 - val_accuracy: 0.8253\n",
      "Epoch 37/50\n",
      "1632/1632 [==============================] - 395s 242ms/step - loss: 0.3398 - accuracy: 0.8521 - val_loss: 0.3925 - val_accuracy: 0.8338\n",
      "Epoch 38/50\n",
      "1632/1632 [==============================] - 399s 244ms/step - loss: 0.3377 - accuracy: 0.8525 - val_loss: 0.4668 - val_accuracy: 0.8077\n",
      "Epoch 39/50\n",
      "1632/1632 [==============================] - 398s 244ms/step - loss: 0.3366 - accuracy: 0.8550 - val_loss: 0.5224 - val_accuracy: 0.7867\n",
      "Epoch 40/50\n",
      "1632/1632 [==============================] - 396s 243ms/step - loss: 0.3336 - accuracy: 0.8549 - val_loss: 0.4803 - val_accuracy: 0.8006\n",
      "Epoch 41/50\n",
      "1632/1632 [==============================] - 395s 242ms/step - loss: 0.3362 - accuracy: 0.8539 - val_loss: 0.4279 - val_accuracy: 0.8142\n",
      "Epoch 42/50\n",
      "1632/1632 [==============================] - 393s 241ms/step - loss: 0.3305 - accuracy: 0.8555 - val_loss: 0.4073 - val_accuracy: 0.8299\n",
      "Epoch 43/50\n",
      "1632/1632 [==============================] - 393s 241ms/step - loss: 0.3273 - accuracy: 0.8575 - val_loss: 0.4045 - val_accuracy: 0.8286\n",
      "Epoch 44/50\n",
      "1632/1632 [==============================] - 399s 245ms/step - loss: 0.3281 - accuracy: 0.8576 - val_loss: 0.3949 - val_accuracy: 0.8289\n",
      "Epoch 45/50\n",
      "1632/1632 [==============================] - 396s 242ms/step - loss: 0.3281 - accuracy: 0.8593 - val_loss: 0.4090 - val_accuracy: 0.8148\n",
      "Epoch 46/50\n",
      "1632/1632 [==============================] - 397s 243ms/step - loss: 0.3240 - accuracy: 0.8597 - val_loss: 0.4123 - val_accuracy: 0.8134\n",
      "Epoch 47/50\n",
      "1632/1632 [==============================] - 398s 244ms/step - loss: 0.3235 - accuracy: 0.8613 - val_loss: 0.4343 - val_accuracy: 0.8230\n",
      "Epoch 48/50\n",
      "1632/1632 [==============================] - 395s 242ms/step - loss: 0.3220 - accuracy: 0.8623 - val_loss: 0.4382 - val_accuracy: 0.8119\n",
      "Epoch 49/50\n",
      "1632/1632 [==============================] - 399s 245ms/step - loss: 0.3208 - accuracy: 0.8601 - val_loss: 0.4194 - val_accuracy: 0.8308\n",
      "Epoch 50/50\n",
      "1632/1632 [==============================] - 394s 241ms/step - loss: 0.3186 - accuracy: 0.8630 - val_loss: 0.4459 - val_accuracy: 0.8156\n"
     ]
    }
   ],
   "source": [
    "model = Sequential([ # Model steps are performed one after another rather than at the same time\n",
    "  data_augmentation, # Apply data augmentation to the model\n",
    "  layers.Conv2D(filters=48, kernel_size=3, activation='relu', input_shape=X.shape[1:]),\n",
    "  layers.MaxPooling2D(pool_size=2, strides=2) \n",
    "]) # Max pooling to reduce noise and calculate the maximum value in each patch of each feature map\n",
    "\n",
    "model.add(layers.Conv2D(filters=48, kernel_size=3, activation='relu'))\n",
    "model.add(layers.MaxPool2D(pool_size=2, strides=1)) # More max pooling, decreased stride\n",
    "model.add(layers.Conv2D(filters=32, kernel_size=3, activation='relu'))\n",
    "model.add(layers.MaxPool2D(pool_size=2, strides=1)) # More max pooling, decreased stride\n",
    "model.add(layers.Conv2D(filters=32, kernel_size=3, activation='relu'))\n",
    "model.add(layers.MaxPool2D(pool_size=2, strides=1)) # More max pooling, decreased stride\n",
    "model.add(layers.Flatten()) # Transform features into a single column\n",
    "model.add(layers.Dense(128, activation='relu')) # First hidden layer\n",
    "model.add(layers.Dense(72, activation='relu')) # Second hidden layer\n",
    "model.add(layers.Dense(64, activation='relu')) # Third hidden layer\n",
    "model.add(layers.Dense(30, activation='relu')) # Fourth hidden layer\n",
    "model.add(layers.Dense(8, activation='relu')) # Fifth hidden layer\n",
    "model.add(layers.Dense(3, activation='softmax')) # Sixth hidden layer\n",
    "\n",
    "# Compile and train CNN\n",
    "opt = SGD(learning_rate=0.06) # Small learning rate to avoid overfitting\n",
    "model.compile(loss = 'sparse_categorical_crossentropy', # Sparse_categorical_crossentropy because the labels are not one hot encoded, and to reduce comp time\n",
    "               optimizer = opt, \n",
    "               metrics=['accuracy'])\n",
    "\n",
    "# Fit and score model performance\n",
    "model_score = model.fit(X_new,\n",
    "                        y_train_binary,\n",
    "                        epochs=50,\n",
    "                        validation_split=0.2)"
   ]
  },
  {
   "cell_type": "code",
   "execution_count": null,
   "metadata": {
    "id": "XvT2vJTfRr0i"
   },
   "outputs": [],
   "source": [
    "# Score perofmance on unseen data\n",
    "val_score = model.evaluate(X_val_new, y_val_binary)"
   ]
  },
  {
   "cell_type": "code",
   "execution_count": 29,
   "metadata": {
    "colab": {
     "base_uri": "https://localhost:8080/"
    },
    "id": "-YfIPA-MThqH",
    "outputId": "7f063fe0-7d52-45ee-f9cc-3aef54b1dd8a"
   },
   "outputs": [
    {
     "name": "stdout",
     "output_type": "stream",
     "text": [
      "This model has a 83.2% Accuracy\n"
     ]
    }
   ],
   "source": [
    "# Print accuracy\n",
    "print(f'This model has a {round(((val_score[1])* 100),1)}% Accuracy')"
   ]
  },
  {
   "cell_type": "code",
   "execution_count": 27,
   "metadata": {
    "colab": {
     "base_uri": "https://localhost:8080/",
     "height": 573
    },
    "id": "k_1h2D4X8-_k",
    "outputId": "47a730f0-2b92-4555-e510-3ad2b0037b55"
   },
   "outputs": [
    {
     "data": {
      "image/png": "[encoded data removed]",
      "text/plain": [
       "<Figure size 432x288 with 1 Axes>"
      ]
     },
     "metadata": {
      "needs_background": "light"
     },
     "output_type": "display_data"
    },
    {
     "data": {
      "image/png": "[encoded data removed]",
      "text/plain": [
       "<Figure size 432x288 with 1 Axes>"
      ]
     },
     "metadata": {
      "needs_background": "light"
     },
     "output_type": "display_data"
    }
   ],
   "source": [
    "# View change in accuracy and loss with each epoch\n",
    "hp.plot_model_train_val_accuracy_loss(model_score)"
   ]
  },
  {
   "cell_type": "code",
   "execution_count": 19,
   "metadata": {
    "colab": {
     "base_uri": "https://localhost:8080/"
    },
    "id": "zocMFoV4eTje",
    "outputId": "b22cd346-39ed-4e53-98a0-b604c4470161"
   },
   "outputs": [
    {
     "name": "stdout",
     "output_type": "stream",
     "text": [
      "Predicted     0     1   All\n",
      "Actual                     \n",
      "0          4401   410  4811\n",
      "1          1148  3340  4488\n",
      "All        5549  3750  9299\n"
     ]
    }
   ],
   "source": [
    "# Calculate predicted values\n",
    "y_pred = model.predict(X_val_new)\n",
    "# Convert predicted 3-d array into 1-d array\n",
    "y_pred = np.argmax(y_pred, axis=1)\n",
    "# Convert numpy arrays to pandas series\n",
    "y_actu = pd.Series(y_val_binary, name='Actual')\n",
    "y_pred = pd.Series(y_pred, name='Predicted')\n",
    "\n",
    "\n",
    "# Print confusion matrix\n",
    "df_confusion = pd.crosstab(y_actu, y_pred, rownames=['Actual'], colnames=['Predicted'], margins=True)\n",
    "print(df_confusion)"
   ]
  },
  {
   "cell_type": "code",
   "execution_count": 20,
   "metadata": {
    "colab": {
     "base_uri": "https://localhost:8080/",
     "height": 264
    },
    "id": "MZ2JfQZ0ekfJ",
    "outputId": "d6c64f52-13b8-4e4c-c3f8-00a3228c8b5e"
   },
   "outputs": [
    {
     "data": {
      "image/png": "[encoded data removed]",
      "text/plain": [
       "<Figure size 432x288 with 2 Axes>"
      ]
     },
     "metadata": {
      "needs_background": "light"
     },
     "output_type": "display_data"
    }
   ],
   "source": [
    "# Plot confusion matrix\n",
    "conf = confusion_matrix(y_actu, y_pred)\n",
    "labels = ['SFW', 'NSFW']\n",
    "sns.heatmap(conf, annot=True, fmt=\"d\", cmap='Blues', xticklabels=labels, yticklabels=labels);"
   ]
  },
  {
   "cell_type": "code",
   "execution_count": 21,
   "metadata": {
    "colab": {
     "base_uri": "https://localhost:8080/"
    },
    "id": "YwJf932LewTu",
    "outputId": "9fffd658-abe8-46d5-c6cc-e0bd9a57ae5f"
   },
   "outputs": [
    {
     "name": "stdout",
     "output_type": "stream",
     "text": [
      "              precision    recall  f1-score   support\n",
      "\n",
      "         SFW       0.79      0.91      0.85      4811\n",
      "        NSFW       0.89      0.74      0.81      4488\n",
      "\n",
      "    accuracy                           0.83      9299\n",
      "   macro avg       0.84      0.83      0.83      9299\n",
      "weighted avg       0.84      0.83      0.83      9299\n",
      "\n"
     ]
    }
   ],
   "source": [
    "# Print classification report\n",
    "print(classification_report(y_val_binary, y_pred, target_names=labels))"
   ]
  },
  {
   "cell_type": "code",
   "execution_count": 22,
   "metadata": {
    "colab": {
     "base_uri": "https://localhost:8080/"
    },
    "id": "41o3y-Fje6TS",
    "outputId": "845c361a-0dac-4850-e5e9-ebb5dc6061c1"
   },
   "outputs": [
    {
     "name": "stdout",
     "output_type": "stream",
     "text": [
      "Model: \"sequential_2\"\n",
      "_________________________________________________________________\n",
      "Layer (type)                 Output Shape              Param #   \n",
      "=================================================================\n",
      "sequential (Sequential)      (None, 90, 90, 1)         0         \n",
      "_________________________________________________________________\n",
      "conv2d_4 (Conv2D)            (None, 88, 88, 48)        480       \n",
      "_________________________________________________________________\n",
      "max_pooling2d_4 (MaxPooling2 (None, 44, 44, 48)        0         \n",
      "_________________________________________________________________\n",
      "conv2d_5 (Conv2D)            (None, 42, 42, 48)        20784     \n",
      "_________________________________________________________________\n",
      "max_pooling2d_5 (MaxPooling2 (None, 41, 41, 48)        0         \n",
      "_________________________________________________________________\n",
      "conv2d_6 (Conv2D)            (None, 39, 39, 32)        13856     \n",
      "_________________________________________________________________\n",
      "max_pooling2d_6 (MaxPooling2 (None, 38, 38, 32)        0         \n",
      "_________________________________________________________________\n",
      "conv2d_7 (Conv2D)            (None, 36, 36, 32)        9248      \n",
      "_________________________________________________________________\n",
      "max_pooling2d_7 (MaxPooling2 (None, 35, 35, 32)        0         \n",
      "_________________________________________________________________\n",
      "flatten_1 (Flatten)          (None, 39200)             0         \n",
      "_________________________________________________________________\n",
      "dense_6 (Dense)              (None, 128)               5017728   \n",
      "_________________________________________________________________\n",
      "dense_7 (Dense)              (None, 72)                9288      \n",
      "_________________________________________________________________\n",
      "dense_8 (Dense)              (None, 64)                4672      \n",
      "_________________________________________________________________\n",
      "dense_9 (Dense)              (None, 30)                1950      \n",
      "_________________________________________________________________\n",
      "dense_10 (Dense)             (None, 8)                 248       \n",
      "_________________________________________________________________\n",
      "dense_11 (Dense)             (None, 3)                 27        \n",
      "=================================================================\n",
      "Total params: 5,078,281\n",
      "Trainable params: 5,078,281\n",
      "Non-trainable params: 0\n",
      "_________________________________________________________________\n"
     ]
    }
   ],
   "source": [
    "# View model summary\n",
    "model.summary()"
   ]
  },
  {
   "cell_type": "markdown",
   "metadata": {
    "id": "sef0t7_oxY8M"
   },
   "source": [
    "### Model Analysis"
   ]
  }
 ],
 "metadata": {
  "colab": {
   "machine_shape": "hm",
   "name": "05_binary_models_cont.ipynb",
   "provenance": []
  },
  "kernelspec": {
   "display_name": "Python 3",
   "name": "python3"
  },
  "language_info": {
   "name": "python"
  }
 },
 "nbformat": 4,
 "nbformat_minor": 0
}
