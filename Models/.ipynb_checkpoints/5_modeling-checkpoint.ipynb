{
 "cells": [
  {
   "cell_type": "markdown",
   "metadata": {},
   "source": [
    "### Modeling Continued"
   ]
  },
  {
   "cell_type": "code",
   "execution_count": null,
   "metadata": {
    "id": "pn1an5ZRKQ8x"
   },
   "outputs": [],
   "source": [
    "# Mount google drive to notebook to pull pickle files\n",
    "from google.colab import drive\n",
    "drive.mount('/content/drive')"
   ]
  },
  {
   "cell_type": "code",
   "execution_count": null,
   "metadata": {
    "id": "ZkbD-77vKbP_"
   },
   "outputs": [],
   "source": [
    "# import libraries\n",
    "import time, scipy\n",
    "import matplotlib.pyplot as plt\n",
    "from keras import models\n",
    "from keras import layers\n",
    "import tensorflow as tf\n",
    "from tensorflow.keras.models import Sequential\n",
    "from tensorflow.keras.layers import Dense, Flatten, MaxPooling2D, Activation, Conv2D\n",
    "from tensorflow.keras import layers\n",
    "import pickle\n",
    "import keras"
   ]
  },
  {
   "cell_type": "code",
   "execution_count": null,
   "metadata": {
    "id": "ekHXkPLrKfhz"
   },
   "outputs": [],
   "source": [
    "# Open Pickle files containing train and test data\n",
    "infile = open('/content/drive/MyDrive/nsfw_image_classification/Pickles/X.pickle','rb')\n",
    "X = pickle.load(infile)\n",
    "\n",
    "infile2 = open('/content/drive/MyDrive/nsfw_image_classification/Pickles/y.pickle','rb')\n",
    "y = pickle.load(infile2)\n",
    "\n",
    "infile3 = open('/content/drive/MyDrive/nsfw_image_classification/Pickles/X_test.pickle','rb')\n",
    "X_test = pickle.load(infile3)\n",
    "\n",
    "infile4 = open('/content/drive/MyDrive/nsfw_image_classification/Pickles/y_test.pickle','rb')\n",
    "y_test = pickle.load(infile4)"
   ]
  },
  {
   "cell_type": "code",
   "execution_count": 4,
   "metadata": {
    "id": "gUPI4xYEFYWr"
   },
   "outputs": [],
   "source": [
    "# Revert to 0.2 rotation\n",
    "data_augmentation = Sequential([\n",
    "  layers.experimental.preprocessing.RandomFlip(\"horizontal_and_vertical\"),\n",
    "  layers.experimental.preprocessing.RandomRotation(0.2),\n",
    "])"
   ]
  },
  {
   "cell_type": "code",
   "execution_count": 11,
   "metadata": {
    "colab": {
     "base_uri": "https://localhost:8080/"
    },
    "id": "fDHqAiUiFd4p",
    "outputId": "0c2ab606-e2c4-4e00-82e0-818e86b0077b"
   },
   "outputs": [
    {
     "name": "stdout",
     "output_type": "stream",
     "text": [
      "Epoch 1/50\n",
      "1618/1618 [==============================] - 764s 472ms/step - loss: 0.9407 - accuracy: 0.5609 - val_loss: 0.8983 - val_accuracy: 0.5953\n",
      "Epoch 2/50\n",
      "1618/1618 [==============================] - 735s 454ms/step - loss: 0.9098 - accuracy: 0.5930 - val_loss: 0.8862 - val_accuracy: 0.6068\n",
      "Epoch 3/50\n",
      "1618/1618 [==============================] - 737s 456ms/step - loss: 0.8934 - accuracy: 0.5989 - val_loss: 0.8750 - val_accuracy: 0.6104\n",
      "Epoch 4/50\n",
      "1618/1618 [==============================] - 744s 460ms/step - loss: 0.8777 - accuracy: 0.6128 - val_loss: 0.8764 - val_accuracy: 0.6112\n",
      "Epoch 5/50\n",
      "1618/1618 [==============================] - 745s 461ms/step - loss: 0.8588 - accuracy: 0.6274 - val_loss: 0.9936 - val_accuracy: 0.5546\n",
      "Epoch 6/50\n",
      "1618/1618 [==============================] - 734s 454ms/step - loss: 0.8409 - accuracy: 0.6384 - val_loss: 0.8641 - val_accuracy: 0.6287\n",
      "Epoch 7/50\n",
      "1618/1618 [==============================] - 728s 450ms/step - loss: 0.8223 - accuracy: 0.6507 - val_loss: 0.7870 - val_accuracy: 0.6675\n",
      "Epoch 8/50\n",
      "1618/1618 [==============================] - 713s 440ms/step - loss: 0.8037 - accuracy: 0.6597 - val_loss: 0.7753 - val_accuracy: 0.6715\n",
      "Epoch 9/50\n",
      "1618/1618 [==============================] - 709s 438ms/step - loss: 0.7841 - accuracy: 0.6723 - val_loss: 0.7930 - val_accuracy: 0.6711\n",
      "Epoch 10/50\n",
      "1618/1618 [==============================] - 709s 439ms/step - loss: 0.7693 - accuracy: 0.6789 - val_loss: 0.7681 - val_accuracy: 0.6718\n",
      "Epoch 11/50\n",
      "1618/1618 [==============================] - 709s 438ms/step - loss: 0.7543 - accuracy: 0.6856 - val_loss: 0.8329 - val_accuracy: 0.6454\n",
      "Epoch 12/50\n",
      "1618/1618 [==============================] - 710s 439ms/step - loss: 0.7458 - accuracy: 0.6912 - val_loss: 0.7304 - val_accuracy: 0.6945\n",
      "Epoch 13/50\n",
      "1618/1618 [==============================] - 711s 440ms/step - loss: 0.7362 - accuracy: 0.6952 - val_loss: 0.7117 - val_accuracy: 0.7066\n",
      "Epoch 14/50\n",
      "1618/1618 [==============================] - 711s 439ms/step - loss: 0.7253 - accuracy: 0.7010 - val_loss: 0.7178 - val_accuracy: 0.7058\n",
      "Epoch 15/50\n",
      "1618/1618 [==============================] - 733s 453ms/step - loss: 0.7185 - accuracy: 0.7035 - val_loss: 0.7070 - val_accuracy: 0.7100\n",
      "Epoch 16/50\n",
      "1618/1618 [==============================] - 732s 452ms/step - loss: 0.7096 - accuracy: 0.7081 - val_loss: 0.7054 - val_accuracy: 0.7090\n",
      "Epoch 17/50\n",
      "1618/1618 [==============================] - 729s 450ms/step - loss: 0.7005 - accuracy: 0.7120 - val_loss: 1.0833 - val_accuracy: 0.5373\n",
      "Epoch 18/50\n",
      "1618/1618 [==============================] - 728s 450ms/step - loss: 0.6959 - accuracy: 0.7131 - val_loss: 0.7481 - val_accuracy: 0.6913\n",
      "Epoch 19/50\n",
      "1618/1618 [==============================] - 731s 452ms/step - loss: 0.6890 - accuracy: 0.7173 - val_loss: 0.9110 - val_accuracy: 0.6118\n",
      "Epoch 20/50\n",
      "1618/1618 [==============================] - 728s 450ms/step - loss: 0.6846 - accuracy: 0.7192 - val_loss: 0.9479 - val_accuracy: 0.6062\n",
      "Epoch 21/50\n",
      "1618/1618 [==============================] - 734s 454ms/step - loss: 0.6787 - accuracy: 0.7228 - val_loss: 0.6875 - val_accuracy: 0.7149\n",
      "Epoch 22/50\n",
      "1618/1618 [==============================] - 732s 452ms/step - loss: 0.6720 - accuracy: 0.7252 - val_loss: 0.7501 - val_accuracy: 0.6896\n",
      "Epoch 23/50\n",
      "1618/1618 [==============================] - 731s 452ms/step - loss: 0.6670 - accuracy: 0.7280 - val_loss: 0.8085 - val_accuracy: 0.6693\n",
      "Epoch 24/50\n",
      "1618/1618 [==============================] - 733s 453ms/step - loss: 0.6624 - accuracy: 0.7304 - val_loss: 0.6634 - val_accuracy: 0.7304\n",
      "Epoch 25/50\n",
      "1618/1618 [==============================] - 736s 455ms/step - loss: 0.6593 - accuracy: 0.7321 - val_loss: 0.9882 - val_accuracy: 0.5923\n",
      "Epoch 26/50\n",
      "1618/1618 [==============================] - 734s 454ms/step - loss: 0.6523 - accuracy: 0.7364 - val_loss: 0.8770 - val_accuracy: 0.6317\n",
      "Epoch 27/50\n",
      "1618/1618 [==============================] - 720s 445ms/step - loss: 0.6452 - accuracy: 0.7360 - val_loss: 0.6365 - val_accuracy: 0.7405\n",
      "Epoch 28/50\n",
      "1618/1618 [==============================] - 718s 444ms/step - loss: 0.6438 - accuracy: 0.7390 - val_loss: 0.6766 - val_accuracy: 0.7258\n",
      "Epoch 29/50\n",
      "1618/1618 [==============================] - 729s 451ms/step - loss: 0.6360 - accuracy: 0.7432 - val_loss: 0.6604 - val_accuracy: 0.7332\n",
      "Epoch 30/50\n",
      "1618/1618 [==============================] - 726s 449ms/step - loss: 0.6324 - accuracy: 0.7438 - val_loss: 0.6338 - val_accuracy: 0.7423\n",
      "Epoch 31/50\n",
      "1618/1618 [==============================] - 740s 458ms/step - loss: 0.6274 - accuracy: 0.7466 - val_loss: 0.6789 - val_accuracy: 0.7274\n",
      "Epoch 32/50\n",
      "1618/1618 [==============================] - 741s 458ms/step - loss: 0.6239 - accuracy: 0.7460 - val_loss: 0.6644 - val_accuracy: 0.7290\n",
      "Epoch 33/50\n",
      "1618/1618 [==============================] - 737s 456ms/step - loss: 0.6173 - accuracy: 0.7504 - val_loss: 0.6395 - val_accuracy: 0.7435\n",
      "Epoch 34/50\n",
      "1618/1618 [==============================] - 729s 451ms/step - loss: 0.6146 - accuracy: 0.7514 - val_loss: 0.6480 - val_accuracy: 0.7395\n",
      "Epoch 35/50\n",
      "1618/1618 [==============================] - 730s 451ms/step - loss: 0.6088 - accuracy: 0.7539 - val_loss: 0.6235 - val_accuracy: 0.7457\n",
      "Epoch 36/50\n",
      "1618/1618 [==============================] - 739s 457ms/step - loss: 0.6054 - accuracy: 0.7547 - val_loss: 0.9252 - val_accuracy: 0.6080\n",
      "Epoch 37/50\n",
      "1618/1618 [==============================] - 738s 456ms/step - loss: 0.6025 - accuracy: 0.7577 - val_loss: 0.6145 - val_accuracy: 0.7547\n",
      "Epoch 38/50\n",
      "1618/1618 [==============================] - 743s 459ms/step - loss: 0.5980 - accuracy: 0.7582 - val_loss: 0.5984 - val_accuracy: 0.7625\n",
      "Epoch 39/50\n",
      "1618/1618 [==============================] - 739s 457ms/step - loss: 0.5944 - accuracy: 0.7609 - val_loss: 0.6207 - val_accuracy: 0.7464\n",
      "Epoch 40/50\n",
      "1618/1618 [==============================] - 739s 456ms/step - loss: 0.5882 - accuracy: 0.7634 - val_loss: 0.6232 - val_accuracy: 0.7494\n",
      "Epoch 41/50\n",
      "1618/1618 [==============================] - 735s 454ms/step - loss: 0.5861 - accuracy: 0.7659 - val_loss: 0.6034 - val_accuracy: 0.7597\n",
      "Epoch 42/50\n",
      "1618/1618 [==============================] - 735s 454ms/step - loss: 0.5813 - accuracy: 0.7676 - val_loss: 0.6564 - val_accuracy: 0.7347\n",
      "Epoch 43/50\n",
      "1618/1618 [==============================] - 740s 457ms/step - loss: 0.5780 - accuracy: 0.7705 - val_loss: 0.5773 - val_accuracy: 0.7691\n",
      "Epoch 44/50\n",
      "1618/1618 [==============================] - 745s 460ms/step - loss: 0.5730 - accuracy: 0.7694 - val_loss: 0.7038 - val_accuracy: 0.7146\n",
      "Epoch 45/50\n",
      "1618/1618 [==============================] - 744s 460ms/step - loss: 0.5702 - accuracy: 0.7718 - val_loss: 0.6360 - val_accuracy: 0.7503\n",
      "Epoch 46/50\n",
      "1618/1618 [==============================] - 744s 460ms/step - loss: 0.5677 - accuracy: 0.7727 - val_loss: 0.6661 - val_accuracy: 0.7361\n",
      "Epoch 47/50\n",
      "1618/1618 [==============================] - 741s 458ms/step - loss: 0.5640 - accuracy: 0.7740 - val_loss: 0.5701 - val_accuracy: 0.7777\n",
      "Epoch 48/50\n",
      "1618/1618 [==============================] - 743s 459ms/step - loss: 0.5613 - accuracy: 0.7769 - val_loss: 0.6117 - val_accuracy: 0.7504\n",
      "Epoch 49/50\n",
      "1618/1618 [==============================] - 743s 459ms/step - loss: 0.5599 - accuracy: 0.7758 - val_loss: 0.5687 - val_accuracy: 0.7743\n",
      "Epoch 50/50\n",
      "1618/1618 [==============================] - 741s 458ms/step - loss: 0.5572 - accuracy: 0.7780 - val_loss: 0.5959 - val_accuracy: 0.7685\n"
     ]
    },
    {
     "data": {
      "text/plain": [
       "<keras.callbacks.History at 0x7f25ac8d9a90>"
      ]
     },
     "execution_count": 11,
     "metadata": {},
     "output_type": "execute_result"
    }
   ],
   "source": [
    "# Less MaxPooling and Conv2D\n",
    "model = Sequential([\n",
    "  data_augmentation,\n",
    "  layers.Conv2D(filters=48, kernel_size=3, activation='relu', input_shape=X.shape[1:]),\n",
    "  layers.MaxPooling2D(pool_size=2, strides=2)\n",
    "])\n",
    "model.add(layers.Conv2D(filters=48, kernel_size=3, activation='relu'))\n",
    "model.add(layers.MaxPool2D(pool_size=2, strides=2))\n",
    "model.add(layers.Conv2D(filters=32, kernel_size=3, activation='relu'))\n",
    "model.add(layers.MaxPool2D(pool_size=2, strides=2))\n",
    "model.add(layers.Flatten())\n",
    "model.add(layers.Dense(128, activation='relu'))\n",
    "model.add(layers.Dense(64, activation='relu'))\n",
    "model.add(layers.Dense(3, activation='softmax'))\n",
    "\n",
    "# finally compile and train the cnn\n",
    "opt = tf.keras.optimizers.SGD(learning_rate=0.01)\n",
    "model.compile(loss = \"sparse_categorical_crossentropy\", \n",
    "              optimizer = opt, \n",
    "              metrics=[\"accuracy\"]\n",
    ")\n",
    "model_score = model.fit(X, \n",
    "          y, \n",
    "          epochs=50,\n",
    "          validation_split=0.2)"
   ]
  },
  {
   "cell_type": "code",
   "execution_count": 14,
   "metadata": {
    "colab": {
     "base_uri": "https://localhost:8080/",
     "height": 72,
     "resources": {
      "http://localhost:8080/nbextensions/google.colab/files.js": {
       "data": "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",
       "headers": [
        [
         "content-type",
         "application/javascript"
        ]
       ],
       "ok": true,
       "status": 200,
       "status_text": ""
      }
     }
    },
    "id": "B0Ajr-VOSMRz",
    "outputId": "6d5a0934-55f5-4c22-b354-886d2abc6faf"
   },
   "outputs": [
    {
     "data": {
      "text/html": [
       "\n",
       "     <input type=\"file\" id=\"files-45b4d388-9d51-4455-9089-484deab8bd11\" name=\"files[]\" multiple disabled\n",
       "        style=\"border:none\" />\n",
       "     <output id=\"result-45b4d388-9d51-4455-9089-484deab8bd11\">\n",
       "      Upload widget is only available when the cell has been executed in the\n",
       "      current browser session. Please rerun this cell to enable.\n",
       "      </output>\n",
       "      <script src=\"/nbextensions/google.colab/files.js\"></script> "
      ],
      "text/plain": [
       "<IPython.core.display.HTML object>"
      ]
     },
     "metadata": {},
     "output_type": "display_data"
    },
    {
     "name": "stdout",
     "output_type": "stream",
     "text": [
      "Saving helpers.py to helpers.py\n"
     ]
    }
   ],
   "source": [
    "from google.colab import files\n",
    "src = list(files.upload().values())[0]\n",
    "open('helpers.py','wb').write(src)\n",
    "import helpers as hp"
   ]
  },
  {
   "cell_type": "code",
   "execution_count": 17,
   "metadata": {
    "colab": {
     "base_uri": "https://localhost:8080/"
    },
    "id": "tEgffpwCFssQ",
    "outputId": "3089e21a-c165-4ae2-db59-a43174ba539d",
    "scrolled": true
   },
   "outputs": [
    {
     "name": "stdout",
     "output_type": "stream",
     "text": [
      "578/578 [==============================] - 56s 98ms/step - loss: 0.5971 - accuracy: 0.7658\n"
     ]
    },
    {
     "data": {
      "text/plain": [
       "[0.5971237421035767, 0.7657594084739685]"
      ]
     },
     "execution_count": 17,
     "metadata": {},
     "output_type": "execute_result"
    }
   ],
   "source": [
    "model.evaluate(X_test, y_test)"
   ]
  },
  {
   "cell_type": "markdown",
   "metadata": {},
   "source": [
    "### Model Analysis\n",
    "This model so far has performed the best. I will continue modeling and making slight edits to the above model in other notebooks to view."
   ]
  }
 ],
 "metadata": {
  "colab": {
   "collapsed_sections": [],
   "name": "best_model",
   "provenance": []
  },
  "kernelspec": {
   "display_name": "Python 3",
   "language": "python",
   "name": "python3"
  },
  "language_info": {
   "codemirror_mode": {
    "name": "ipython",
    "version": 3
   },
   "file_extension": ".py",
   "mimetype": "text/x-python",
   "name": "python",
   "nbconvert_exporter": "python",
   "pygments_lexer": "ipython3",
   "version": "3.8.5"
  }
 },
 "nbformat": 4,
 "nbformat_minor": 1
}
