{
 "cells": [
  {
   "cell_type": "markdown",
   "metadata": {},
   "source": [
    "### Continued Modeling"
   ]
  },
  {
   "cell_type": "code",
   "execution_count": 1,
   "metadata": {
    "colab": {
     "base_uri": "https://localhost:8080/"
    },
    "id": "zOBj_mqgk6KT",
    "outputId": "eac0ae61-e3fd-4cd8-8917-7d682eccebb7"
   },
   "outputs": [
    {
     "name": "stdout",
     "output_type": "stream",
     "text": [
      "Mounted at /content/drive\n"
     ]
    }
   ],
   "source": [
    "# Mount google drive to notebook to pull pickle files\n",
    "from google.colab import drive\n",
    "drive.mount('/content/drive')"
   ]
  },
  {
   "cell_type": "code",
   "execution_count": 9,
   "metadata": {
    "id": "tYtcfuw2k8n2"
   },
   "outputs": [],
   "source": [
    "# Import libraries\n",
    "import time, scipy\n",
    "import matplotlib.pyplot as plt\n",
    "from keras import models, layers\n",
    "import tensorflow as tf\n",
    "from tensorflow.keras.models import Sequential\n",
    "from tensorflow.keras.layers import Dense, Flatten, MaxPooling2D, Activation, Conv2D\n",
    "from tensorflow.keras import layers\n",
    "from tensorflow.keras.optimizers import SGD\n",
    "import pickle\n",
    "import keras"
   ]
  },
  {
   "cell_type": "code",
   "execution_count": 3,
   "metadata": {
    "id": "Qe3gx1J7lJSQ"
   },
   "outputs": [],
   "source": [
    "# Open Pickle files containing train and test data\n",
    "infile = open('/content/drive/MyDrive/nsfw_image_classification/Pickles/X.pickle','rb')\n",
    "X = pickle.load(infile)\n",
    "\n",
    "infile2 = open('/content/drive/MyDrive/nsfw_image_classification/Pickles/y.pickle','rb')\n",
    "y = pickle.load(infile2)\n",
    "\n",
    "infile3 = open('/content/drive/MyDrive/nsfw_image_classification/Pickles/X_test.pickle','rb')\n",
    "X_test = pickle.load(infile3)\n",
    "\n",
    "infile4 = open('/content/drive/MyDrive/nsfw_image_classification/Pickles/y_test.pickle','rb')\n",
    "y_test = pickle.load(infile4)"
   ]
  },
  {
   "cell_type": "code",
   "execution_count": 4,
   "metadata": {
    "id": "sKC0-md2lNrb"
   },
   "outputs": [],
   "source": [
    "# Data Augmentation with horizonatal and vertical flips\n",
    "data_augmentation = Sequential([\n",
    "  layers.experimental.preprocessing.RandomFlip(\"horizontal_and_vertical\"),\n",
    "  layers.experimental.preprocessing.RandomRotation(0.2),\n",
    "])"
   ]
  },
  {
   "cell_type": "code",
   "execution_count": 5,
   "metadata": {
    "colab": {
     "base_uri": "https://localhost:8080/"
    },
    "id": "LPKeYhg9lT0e",
    "outputId": "07161a73-ed51-43f2-9973-0c8e5eefcd1e"
   },
   "outputs": [
    {
     "name": "stdout",
     "output_type": "stream",
     "text": [
      "Epoch 1/50\n",
      "1618/1618 [==============================] - 404s 249ms/step - loss: 0.9921 - accuracy: 0.4807 - val_loss: 0.9950 - val_accuracy: 0.4852\n",
      "Epoch 2/50\n",
      "1618/1618 [==============================] - 394s 244ms/step - loss: 0.9913 - accuracy: 0.4816 - val_loss: 0.9886 - val_accuracy: 0.4852\n",
      "Epoch 3/50\n",
      "1618/1618 [==============================] - 395s 244ms/step - loss: 0.9913 - accuracy: 0.4815 - val_loss: 0.9893 - val_accuracy: 0.4852\n",
      "Epoch 4/50\n",
      "1618/1618 [==============================] - 394s 243ms/step - loss: 0.9913 - accuracy: 0.4820 - val_loss: 0.9922 - val_accuracy: 0.4852\n",
      "Epoch 5/50\n",
      "1618/1618 [==============================] - 393s 243ms/step - loss: 0.9913 - accuracy: 0.4814 - val_loss: 0.9892 - val_accuracy: 0.4852\n",
      "Epoch 6/50\n",
      "1618/1618 [==============================] - 397s 246ms/step - loss: 0.9918 - accuracy: 0.4821 - val_loss: 0.9886 - val_accuracy: 0.4852\n",
      "Epoch 7/50\n",
      "1618/1618 [==============================] - 393s 243ms/step - loss: 0.9916 - accuracy: 0.4812 - val_loss: 0.9883 - val_accuracy: 0.4852\n",
      "Epoch 8/50\n",
      "1618/1618 [==============================] - 388s 240ms/step - loss: 0.9913 - accuracy: 0.4815 - val_loss: 0.9907 - val_accuracy: 0.4852\n",
      "Epoch 9/50\n",
      "1618/1618 [==============================] - 388s 240ms/step - loss: 0.9913 - accuracy: 0.4814 - val_loss: 0.9893 - val_accuracy: 0.4852\n",
      "Epoch 10/50\n",
      "1618/1618 [==============================] - 391s 242ms/step - loss: 0.9915 - accuracy: 0.4822 - val_loss: 0.9907 - val_accuracy: 0.4852\n",
      "Epoch 11/50\n",
      "1618/1618 [==============================] - 395s 244ms/step - loss: 0.9912 - accuracy: 0.4820 - val_loss: 0.9901 - val_accuracy: 0.4852\n",
      "Epoch 12/50\n",
      "1618/1618 [==============================] - 391s 242ms/step - loss: 0.9914 - accuracy: 0.4817 - val_loss: 0.9904 - val_accuracy: 0.4852\n",
      "Epoch 13/50\n",
      "1618/1618 [==============================] - 393s 243ms/step - loss: 0.9914 - accuracy: 0.4812 - val_loss: 0.9991 - val_accuracy: 0.3804\n",
      "Epoch 14/50\n",
      "1618/1618 [==============================] - 389s 240ms/step - loss: 0.9916 - accuracy: 0.4815 - val_loss: 0.9910 - val_accuracy: 0.4852\n",
      "Epoch 15/50\n",
      "1618/1618 [==============================] - 391s 242ms/step - loss: 0.9913 - accuracy: 0.4815 - val_loss: 0.9884 - val_accuracy: 0.4852\n",
      "Epoch 16/50\n",
      "1618/1618 [==============================] - 393s 243ms/step - loss: 0.9910 - accuracy: 0.4810 - val_loss: 0.9892 - val_accuracy: 0.4852\n",
      "Epoch 17/50\n",
      "1618/1618 [==============================] - 389s 241ms/step - loss: 0.9916 - accuracy: 0.4815 - val_loss: 0.9892 - val_accuracy: 0.4852\n",
      "Epoch 18/50\n",
      "1618/1618 [==============================] - 389s 241ms/step - loss: 0.9912 - accuracy: 0.4817 - val_loss: 0.9921 - val_accuracy: 0.4852\n",
      "Epoch 19/50\n",
      "1618/1618 [==============================] - 394s 243ms/step - loss: 0.9913 - accuracy: 0.4815 - val_loss: 0.9892 - val_accuracy: 0.4852\n",
      "Epoch 20/50\n",
      "1618/1618 [==============================] - 390s 241ms/step - loss: 0.9914 - accuracy: 0.4816 - val_loss: 0.9900 - val_accuracy: 0.4852\n",
      "Epoch 21/50\n",
      "1618/1618 [==============================] - 390s 241ms/step - loss: 0.9916 - accuracy: 0.4821 - val_loss: 0.9914 - val_accuracy: 0.4852\n",
      "Epoch 22/50\n",
      "1618/1618 [==============================] - 395s 244ms/step - loss: 0.9912 - accuracy: 0.4813 - val_loss: 0.9884 - val_accuracy: 0.4852\n",
      "Epoch 23/50\n",
      "1618/1618 [==============================] - 393s 243ms/step - loss: 0.9912 - accuracy: 0.4812 - val_loss: 0.9895 - val_accuracy: 0.4852\n",
      "Epoch 24/50\n",
      "1618/1618 [==============================] - 392s 242ms/step - loss: 0.9915 - accuracy: 0.4807 - val_loss: 0.9885 - val_accuracy: 0.4852\n",
      "Epoch 25/50\n",
      "1618/1618 [==============================] - 394s 244ms/step - loss: 0.9915 - accuracy: 0.4822 - val_loss: 0.9896 - val_accuracy: 0.4852\n",
      "Epoch 26/50\n",
      "1618/1618 [==============================] - 389s 241ms/step - loss: 0.9913 - accuracy: 0.4807 - val_loss: 0.9902 - val_accuracy: 0.4852\n",
      "Epoch 27/50\n",
      "1618/1618 [==============================] - 389s 241ms/step - loss: 0.9912 - accuracy: 0.4811 - val_loss: 0.9988 - val_accuracy: 0.3804\n",
      "Epoch 28/50\n",
      "1618/1618 [==============================] - 390s 241ms/step - loss: 0.9913 - accuracy: 0.4813 - val_loss: 0.9894 - val_accuracy: 0.4852\n",
      "Epoch 29/50\n",
      "1618/1618 [==============================] - 394s 244ms/step - loss: 0.9913 - accuracy: 0.4808 - val_loss: 0.9899 - val_accuracy: 0.4852\n",
      "Epoch 30/50\n",
      "1618/1618 [==============================] - 390s 241ms/step - loss: 0.9917 - accuracy: 0.4819 - val_loss: 0.9883 - val_accuracy: 0.4852\n",
      "Epoch 31/50\n",
      "1618/1618 [==============================] - 400s 247ms/step - loss: 0.9914 - accuracy: 0.4814 - val_loss: 0.9884 - val_accuracy: 0.4852\n",
      "Epoch 32/50\n",
      "1618/1618 [==============================] - 398s 246ms/step - loss: 0.9914 - accuracy: 0.4813 - val_loss: 0.9892 - val_accuracy: 0.4852\n",
      "Epoch 33/50\n",
      "1618/1618 [==============================] - 396s 245ms/step - loss: 0.9915 - accuracy: 0.4821 - val_loss: 0.9976 - val_accuracy: 0.4852\n",
      "Epoch 34/50\n",
      "1618/1618 [==============================] - 392s 242ms/step - loss: 0.9915 - accuracy: 0.4825 - val_loss: 0.9889 - val_accuracy: 0.4852\n",
      "Epoch 35/50\n",
      "1618/1618 [==============================] - 394s 244ms/step - loss: 0.9915 - accuracy: 0.4813 - val_loss: 0.9903 - val_accuracy: 0.4852\n",
      "Epoch 36/50\n",
      "1618/1618 [==============================] - 391s 242ms/step - loss: 0.9914 - accuracy: 0.4812 - val_loss: 0.9905 - val_accuracy: 0.4852\n",
      "Epoch 37/50\n",
      "1618/1618 [==============================] - 391s 242ms/step - loss: 0.9917 - accuracy: 0.4822 - val_loss: 0.9914 - val_accuracy: 0.4852\n",
      "Epoch 38/50\n",
      "1618/1618 [==============================] - 387s 239ms/step - loss: 0.9914 - accuracy: 0.4817 - val_loss: 0.9993 - val_accuracy: 0.4852\n",
      "Epoch 39/50\n",
      "1618/1618 [==============================] - 386s 239ms/step - loss: 0.9914 - accuracy: 0.4818 - val_loss: 0.9906 - val_accuracy: 0.4852\n",
      "Epoch 40/50\n",
      "1618/1618 [==============================] - 387s 239ms/step - loss: 0.9914 - accuracy: 0.4822 - val_loss: 0.9889 - val_accuracy: 0.4852\n",
      "Epoch 41/50\n",
      "1618/1618 [==============================] - 390s 241ms/step - loss: 0.9914 - accuracy: 0.4820 - val_loss: 0.9893 - val_accuracy: 0.4852\n",
      "Epoch 42/50\n",
      "1618/1618 [==============================] - 387s 239ms/step - loss: 0.9914 - accuracy: 0.4820 - val_loss: 0.9912 - val_accuracy: 0.4852\n",
      "Epoch 43/50\n",
      "1618/1618 [==============================] - 394s 244ms/step - loss: 0.9913 - accuracy: 0.4819 - val_loss: 0.9924 - val_accuracy: 0.4852\n",
      "Epoch 44/50\n",
      "1618/1618 [==============================] - 396s 245ms/step - loss: 0.9913 - accuracy: 0.4813 - val_loss: 0.9917 - val_accuracy: 0.4852\n",
      "Epoch 45/50\n",
      "1618/1618 [==============================] - 397s 245ms/step - loss: 0.9916 - accuracy: 0.4819 - val_loss: 0.9901 - val_accuracy: 0.4852\n",
      "Epoch 46/50\n",
      "1618/1618 [==============================] - 393s 243ms/step - loss: 0.9913 - accuracy: 0.4819 - val_loss: 0.9892 - val_accuracy: 0.4852\n",
      "Epoch 47/50\n",
      "1618/1618 [==============================] - 399s 246ms/step - loss: 0.9914 - accuracy: 0.4813 - val_loss: 0.9883 - val_accuracy: 0.4852\n",
      "Epoch 48/50\n",
      "1618/1618 [==============================] - 396s 244ms/step - loss: 0.9914 - accuracy: 0.4816 - val_loss: 0.9914 - val_accuracy: 0.4852\n",
      "Epoch 49/50\n",
      "1618/1618 [==============================] - 393s 243ms/step - loss: 0.9912 - accuracy: 0.4820 - val_loss: 0.9922 - val_accuracy: 0.4852\n",
      "Epoch 50/50\n",
      "1618/1618 [==============================] - 396s 245ms/step - loss: 0.9914 - accuracy: 0.4819 - val_loss: 0.9886 - val_accuracy: 0.4852\n"
     ]
    }
   ],
   "source": [
    "model = Sequential([\n",
    "  data_augmentation,\n",
    "  layers.Conv2D(filters=48, kernel_size=3, activation='relu', input_shape=X.shape[1:]),\n",
    "  layers.MaxPooling2D(pool_size=2, strides=2)\n",
    "])\n",
    "\n",
    "model.add(layers.Conv2D(filters=48, kernel_size=3, activation='relu'))\n",
    "model.add(layers.MaxPool2D(pool_size=2, strides=1))\n",
    "model.add(layers.Conv2D(filters=32, kernel_size=3, activation='relu'))\n",
    "model.add(layers.MaxPool2D(pool_size=2, strides=1))\n",
    "model.add(layers.Conv2D(filters=32, kernel_size=3, activation='relu'))\n",
    "model.add(layers.MaxPool2D(pool_size=2, strides=1))\n",
    "model.add(layers.Flatten())\n",
    "model.add(layers.Dense(128, activation='relu')) # First hidden layer\n",
    "model.add(layers.Dense(72, activation='relu')) # Second hidden layer\n",
    "model.add(layers.Dense(64, activation='relu')) # Third hidden layer\n",
    "model.add(layers.Dense(30, activation='relu')) # Fourth hidden layer\n",
    "model.add(layers.Dense(8, activation='relu')) # Fifth hidden layer\n",
    "model.add(layers.Dense(3, activation='softmax')) # Sixth hidden layer\n",
    "\n",
    "# Compile and train CNN\n",
    "opt = SGD(learning_rate=0.3) \n",
    "model.compile(loss = 'sparse_categorical_crossentropy',\n",
    "               optimizer = opt,\n",
    "               metrics=['accuracy'])\n",
    "\n",
    "# Fit and score model performance\n",
    "model_score = model.fit(X,\n",
    "                        y,\n",
    "                        epochs=50,\n",
    "                        validation_split=0.2)"
   ]
  },
  {
   "cell_type": "code",
   "execution_count": 6,
   "metadata": {
    "colab": {
     "base_uri": "https://localhost:8080/"
    },
    "id": "Nl4eC7ezlhRD",
    "outputId": "4a1efa1e-92d8-4af1-9ec0-8ed5a258504e"
   },
   "outputs": [
    {
     "name": "stdout",
     "output_type": "stream",
     "text": [
      "578/578 [==============================] - 22s 38ms/step - loss: 0.9896 - accuracy: 0.4831\n"
     ]
    },
    {
     "data": {
      "text/plain": [
       "[0.9896138906478882, 0.4831448495388031]"
      ]
     },
     "execution_count": 6,
     "metadata": {},
     "output_type": "execute_result"
    }
   ],
   "source": [
    "model.evaluate(X_test, y_test)"
   ]
  },
  {
   "cell_type": "code",
   "execution_count": 8,
   "metadata": {
    "colab": {
     "base_uri": "https://localhost:8080/",
     "height": 573
    },
    "id": "Y70d8BCy27zo",
    "outputId": "900c0dfa-4b8d-4a6e-e7c4-baab719cb0f7"
   },
   "outputs": [
    {
     "data": {
      "image/png": "[encoded data removed]",
      "text/plain": [
       "<Figure size 432x288 with 1 Axes>"
      ]
     },
     "metadata": {
      "needs_background": "light"
     },
     "output_type": "display_data"
    },
    {
     "data": {
      "image/png": "[encoded data removed]",
      "text/plain": [
       "<Figure size 432x288 with 1 Axes>"
      ]
     },
     "metadata": {
      "needs_background": "light"
     },
     "output_type": "display_data"
    }
   ],
   "source": [
    "# summarize history for accuracy\n",
    "plt.plot(model_score.history['accuracy'])\n",
    "plt.plot(model_score.history['val_accuracy'])\n",
    "plt.title('Model Accuracy')\n",
    "plt.ylabel('Accuracy')\n",
    "plt.xlabel('Epoch')\n",
    "plt.legend(['train', 'test'], loc='upper left')\n",
    "plt.show()\n",
    "# summarize history for loss\n",
    "plt.plot(model_score.history['loss'])\n",
    "plt.plot(model_score.history['val_loss'])\n",
    "plt.title('Model Loss')\n",
    "plt.ylabel('Loss')\n",
    "plt.xlabel('Epoch')\n",
    "plt.legend(['train', 'test'], loc='upper left')\n",
    "plt.show()"
   ]
  },
  {
   "cell_type": "markdown",
   "metadata": {
    "id": "h8zK0NTmWWde"
   },
   "source": [
    "### Model Analysis\n",
    "I anticipated that the increased learning rate of \"0.30\" would result in overfitting, subsequently requiring dropout layers to adjust, but in this case the learning rate is too large and is causing the model to converge too quickly to a suboptimal solution."
   ]
  }
 ],
 "metadata": {
  "colab": {
   "machine_shape": "hm",
   "name": "09_modeling.ipynb",
   "provenance": []
  },
  "kernelspec": {
   "display_name": "Python 3",
   "language": "python",
   "name": "python3"
  },
  "language_info": {
   "codemirror_mode": {
    "name": "ipython",
    "version": 3
   },
   "file_extension": ".py",
   "mimetype": "text/x-python",
   "name": "python",
   "nbconvert_exporter": "python",
   "pygments_lexer": "ipython3",
   "version": "3.8.5"
  }
 },
 "nbformat": 4,
 "nbformat_minor": 1
}
