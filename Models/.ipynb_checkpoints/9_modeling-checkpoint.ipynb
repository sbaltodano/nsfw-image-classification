{
 "cells": [
  {
   "cell_type": "markdown",
   "metadata": {},
   "source": [
    "### Modeling Continued"
   ]
  },
  {
   "cell_type": "code",
   "execution_count": 1,
   "metadata": {
    "colab": {
     "base_uri": "https://localhost:8080/"
    },
    "id": "edO0AZqmsFO9",
    "outputId": "591c1702-c4d5-4bc4-a4b2-e0c158e0952e"
   },
   "outputs": [
    {
     "name": "stdout",
     "output_type": "stream",
     "text": [
      "Mounted at /content/drive\n"
     ]
    }
   ],
   "source": [
    "# Mount google drive to notebook to pull pickle files\n",
    "from google.colab import drive\n",
    "drive.mount('/content/drive')"
   ]
  },
  {
   "cell_type": "code",
   "execution_count": 42,
   "metadata": {
    "id": "JANW8XymsIMy"
   },
   "outputs": [],
   "source": [
    "# Import libraries\n",
    "import time, scipy\n",
    "import matplotlib.pyplot as plt\n",
    "from keras import models\n",
    "from keras import layers\n",
    "import tensorflow as tf\n",
    "from tensorflow.keras.models import Sequential\n",
    "from keras.callbacks import EarlyStopping, ModelCheckpoint\n",
    "from tensorflow.keras.layers import Dense, Flatten, MaxPooling2D, Activation, Conv2D\n",
    "from tensorflow.keras import layers\n",
    "from tensorflow.keras.optimizers import SGD\n",
    "import pickle\n",
    "import keras"
   ]
  },
  {
   "cell_type": "code",
   "execution_count": 4,
   "metadata": {
    "id": "n58W7fJ3sPoC"
   },
   "outputs": [],
   "source": [
    "# Open Pickle files containing train and test data\n",
    "infile = open('/content/drive/MyDrive/nsfw_image_classification/Pickles/X.pickle','rb')\n",
    "X = pickle.load(infile)\n",
    "\n",
    "infile2 = open('/content/drive/MyDrive/nsfw_image_classification/Pickles/y.pickle','rb')\n",
    "y = pickle.load(infile2)\n",
    "\n",
    "infile3 = open('/content/drive/MyDrive/nsfw_image_classification/Pickles/X_test.pickle','rb')\n",
    "X_test = pickle.load(infile3)\n",
    "\n",
    "infile4 = open('/content/drive/MyDrive/nsfw_image_classification/Pickles/y_test.pickle','rb')\n",
    "y_test = pickle.load(infile4)"
   ]
  },
  {
   "cell_type": "code",
   "execution_count": 5,
   "metadata": {
    "id": "6oMvIKjbsUx0"
   },
   "outputs": [],
   "source": [
    "# Data Augmentation with horizonatal and vertical flips\n",
    "data_augmentation = Sequential([\n",
    "  layers.experimental.preprocessing.RandomFlip(\"horizontal_and_vertical\"),\n",
    "  layers.experimental.preprocessing.RandomRotation(0.2),\n",
    "])"
   ]
  },
  {
   "cell_type": "code",
   "execution_count": 40,
   "metadata": {
    "colab": {
     "base_uri": "https://localhost:8080/"
    },
    "id": "MxrCfuZ3sYYu",
    "outputId": "88ad2264-343d-4c01-e477-18b476b5c50a"
   },
   "outputs": [
    {
     "name": "stdout",
     "output_type": "stream",
     "text": [
      "Epoch 1/50\n",
      "1618/1618 [==============================] - 386s 238ms/step - loss: 0.9591 - accuracy: 0.5342 - val_loss: 0.9344 - val_accuracy: 0.5769\n",
      "INFO:tensorflow:Assets written to: /content/drive/MyDrive/best_model_earlystop/assets\n",
      "Epoch 2/50\n",
      "1618/1618 [==============================] - 391s 242ms/step - loss: 0.9125 - accuracy: 0.5930 - val_loss: 0.8741 - val_accuracy: 0.6158\n",
      "INFO:tensorflow:Assets written to: /content/drive/MyDrive/best_model_earlystop/assets\n",
      "Epoch 3/50\n",
      "1618/1618 [==============================] - 383s 237ms/step - loss: 0.8914 - accuracy: 0.6071 - val_loss: 0.8651 - val_accuracy: 0.6278\n",
      "INFO:tensorflow:Assets written to: /content/drive/MyDrive/best_model_earlystop/assets\n",
      "Epoch 4/50\n",
      "1618/1618 [==============================] - 387s 239ms/step - loss: 0.8547 - accuracy: 0.6331 - val_loss: 0.8460 - val_accuracy: 0.6323\n",
      "INFO:tensorflow:Assets written to: /content/drive/MyDrive/best_model_earlystop/assets\n",
      "Epoch 5/50\n",
      "1618/1618 [==============================] - 389s 241ms/step - loss: 0.8293 - accuracy: 0.6487 - val_loss: 0.7775 - val_accuracy: 0.6716\n",
      "INFO:tensorflow:Assets written to: /content/drive/MyDrive/best_model_earlystop/assets\n",
      "Epoch 6/50\n",
      "1618/1618 [==============================] - 396s 245ms/step - loss: 0.8136 - accuracy: 0.6603 - val_loss: 0.8351 - val_accuracy: 0.6474\n",
      "Epoch 7/50\n",
      "1618/1618 [==============================] - 397s 245ms/step - loss: 0.7988 - accuracy: 0.6669 - val_loss: 0.8437 - val_accuracy: 0.6379\n",
      "Epoch 8/50\n",
      "1618/1618 [==============================] - 398s 246ms/step - loss: 0.7848 - accuracy: 0.6751 - val_loss: 0.7551 - val_accuracy: 0.6877\n",
      "INFO:tensorflow:Assets written to: /content/drive/MyDrive/best_model_earlystop/assets\n",
      "Epoch 9/50\n",
      "1618/1618 [==============================] - 398s 246ms/step - loss: 0.7651 - accuracy: 0.6859 - val_loss: 0.7291 - val_accuracy: 0.7084\n",
      "INFO:tensorflow:Assets written to: /content/drive/MyDrive/best_model_earlystop/assets\n",
      "Epoch 10/50\n",
      "1618/1618 [==============================] - 401s 248ms/step - loss: 0.7511 - accuracy: 0.6935 - val_loss: 0.7158 - val_accuracy: 0.6983\n",
      "INFO:tensorflow:Assets written to: /content/drive/MyDrive/best_model_earlystop/assets\n",
      "Epoch 11/50\n",
      "1618/1618 [==============================] - 396s 245ms/step - loss: 0.7332 - accuracy: 0.7029 - val_loss: 0.6896 - val_accuracy: 0.7223\n",
      "INFO:tensorflow:Assets written to: /content/drive/MyDrive/best_model_earlystop/assets\n",
      "Epoch 12/50\n",
      "1618/1618 [==============================] - 399s 247ms/step - loss: 0.7269 - accuracy: 0.7047 - val_loss: 0.7430 - val_accuracy: 0.7033\n",
      "Epoch 13/50\n",
      "1618/1618 [==============================] - 406s 251ms/step - loss: 0.7187 - accuracy: 0.7090 - val_loss: 0.7478 - val_accuracy: 0.7179\n",
      "Epoch 14/50\n",
      "1618/1618 [==============================] - 401s 248ms/step - loss: 0.7228 - accuracy: 0.7083 - val_loss: 0.7015 - val_accuracy: 0.7052\n"
     ]
    }
   ],
   "source": [
    "model = Sequential([\n",
    "  data_augmentation,\n",
    "  layers.Conv2D(filters=48, kernel_size=3, activation='relu', input_shape=X.shape[1:]),\n",
    "  layers.MaxPooling2D(pool_size=2, strides=2)\n",
    "])\n",
    "\n",
    "model.add(layers.Conv2D(filters=48, kernel_size=3, activation='relu'))\n",
    "model.add(layers.MaxPool2D(pool_size=2, strides=1))\n",
    "model.add(layers.Conv2D(filters=32, kernel_size=3, activation='relu'))\n",
    "model.add(layers.MaxPool2D(pool_size=2, strides=1))\n",
    "model.add(layers.Conv2D(filters=32, kernel_size=3, activation='relu'))\n",
    "model.add(layers.MaxPool2D(pool_size=2, strides=1))\n",
    "model.add(layers.Flatten())\n",
    "model.add(layers.Dense(128, activation='relu')) # First hidden layer\n",
    "model.add(layers.Dense(72, activation='relu')) # Second hidden layer\n",
    "model.add(layers.Dense(64, activation='relu')) # Third hidden layer\n",
    "model.add(layers.Dense(30, activation='relu')) # Fourth hidden layer\n",
    "model.add(layers.Dense(8, activation='relu')) # Fifth hidden layer\n",
    "model.add(layers.Dense(3, activation='softmax')) # Sixth hidden layer\n",
    "\n",
    "# Compile and train CNN\n",
    "opt = SGD(learning_rate=0.15) \n",
    "model.compile(loss = 'sparse_categorical_crossentropy',\n",
    "               optimizer = opt,\n",
    "               metrics=['accuracy'])\n",
    "\n",
    "# Set callback functions to early stop training and save the best model so far\n",
    "callbacks = [EarlyStopping(monitor='val_loss', patience=3),\n",
    "             ModelCheckpoint(filepath='/content/drive/MyDrive/best_model_earlystop', monitor='val_loss', save_best_only=True)]\n",
    "\n",
    "# Fit and score model performance\n",
    "model_score = model.fit(X,\n",
    "                        y,\n",
    "                        epochs=50,\n",
    "                        callbacks=callbacks,\n",
    "                        validation_split=0.2)"
   ]
  },
  {
   "cell_type": "code",
   "execution_count": 12,
   "metadata": {
    "colab": {
     "base_uri": "https://localhost:8080/"
    },
    "id": "hEX_ENnNsbv7",
    "outputId": "ca782d51-9e06-4d04-e743-fe40db80ed54"
   },
   "outputs": [
    {
     "name": "stdout",
     "output_type": "stream",
     "text": [
      "578/578 [==============================] - 24s 41ms/step - loss: 0.9907 - accuracy: 0.4831\n"
     ]
    },
    {
     "data": {
      "text/plain": [
       "[0.9907084703445435, 0.4831448495388031]"
      ]
     },
     "execution_count": 12,
     "metadata": {},
     "output_type": "execute_result"
    }
   ],
   "source": [
    "model.evaluate(X_test, y_test)"
   ]
  },
  {
   "cell_type": "code",
   "execution_count": 41,
   "metadata": {
    "colab": {
     "base_uri": "https://localhost:8080/",
     "height": 573
    },
    "id": "bV5o3qEo2WQQ",
    "outputId": "04fc6c85-6890-491b-dacc-7020f0110688",
    "scrolled": true
   },
   "outputs": [
    {
     "data": {
      "image/png": "[encoded data removed]",
      "text/plain": [
       "<Figure size 432x288 with 1 Axes>"
      ]
     },
     "metadata": {
      "needs_background": "light"
     },
     "output_type": "display_data"
    },
    {
     "data": {
      "image/png": "[encoded data removed]",
      "text/plain": [
       "<Figure size 432x288 with 1 Axes>"
      ]
     },
     "metadata": {
      "needs_background": "light"
     },
     "output_type": "display_data"
    }
   ],
   "source": [
    "# summarize history for accuracy\n",
    "plt.plot(model_score.history['accuracy'])\n",
    "plt.plot(model_score.history['val_accuracy'])\n",
    "plt.title('Model Accuracy')\n",
    "plt.ylabel('Accuracy')\n",
    "plt.xlabel('Epoch')\n",
    "plt.legend(['train', 'test'], loc='upper left')\n",
    "plt.show()\n",
    "# summarize history for loss\n",
    "plt.plot(model_score.history['loss'])\n",
    "plt.plot(model_score.history['val_loss'])\n",
    "plt.title('Model Loss')\n",
    "plt.ylabel('Loss')\n",
    "plt.xlabel('Epoch')\n",
    "plt.legend(['train', 'test'], loc='upper left')\n",
    "plt.show()"
   ]
  },
  {
   "cell_type": "markdown",
   "metadata": {},
   "source": [
    "### Model Analysis\n",
    "The very large learning rate of .15 has descreased accuracy on unseen data down to the baseline accuracy of 48%. The large learning rate has caused the model to converge at a suboptimal value."
   ]
  }
 ],
 "metadata": {
  "colab": {
   "machine_shape": "hm",
   "name": "08_modeling.ipynb",
   "provenance": []
  },
  "kernelspec": {
   "display_name": "Python 3",
   "language": "python",
   "name": "python3"
  },
  "language_info": {
   "codemirror_mode": {
    "name": "ipython",
    "version": 3
   },
   "file_extension": ".py",
   "mimetype": "text/x-python",
   "name": "python",
   "nbconvert_exporter": "python",
   "pygments_lexer": "ipython3",
   "version": "3.8.5"
  }
 },
 "nbformat": 4,
 "nbformat_minor": 1
}
