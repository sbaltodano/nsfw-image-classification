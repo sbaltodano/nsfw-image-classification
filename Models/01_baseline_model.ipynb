{
  "nbformat": 4,
  "nbformat_minor": 0,
  "metadata": {
    "colab": {
      "name": "01_baseline_model.ipynb",
      "provenance": []
    },
    "kernelspec": {
      "name": "python3",
      "display_name": "Python 3"
    },
    "language_info": {
      "name": "python"
    }
  },
  "cells": [
    {
      "cell_type": "markdown",
      "metadata": {
        "id": "qN2VAAmiMX_2"
      },
      "source": [
        "# Baseline Model\n",
        "\n",
        "The following code imports my pickled training and test data and plugs this data into a dummy classifier to return a baseline model."
      ]
    },
    {
      "cell_type": "code",
      "metadata": {
        "colab": {
          "base_uri": "https://localhost:8080/"
        },
        "id": "TwrWNus7K_fl",
        "outputId": "d13d1ee3-c82e-4aa4-fae3-6da7a9752f44"
      },
      "source": [
        "# Import pickle library and mount google drive to notebook to pull pickle files\n",
        "import pickle\n",
        "from google.colab import drive\n",
        "drive.mount('/content/drive')"
      ],
      "execution_count": 1,
      "outputs": [
        {
          "output_type": "stream",
          "name": "stdout",
          "text": [
            "Mounted at /content/drive\n"
          ]
        }
      ]
    },
    {
      "cell_type": "code",
      "metadata": {
        "id": "H1DinfCHLG7I"
      },
      "source": [
        "# Open Pickle files containing train and test data\n",
        "infile = open('/content/drive/MyDrive/nsfw_image_classification/Pickles/X.pickle','rb')\n",
        "X = pickle.load(infile)\n",
        "\n",
        "infile2 = open('/content/drive/MyDrive/nsfw_image_classification/Pickles/y.pickle','rb')\n",
        "y = pickle.load(infile2)\n",
        "\n",
        "infile3 = open('/content/drive/MyDrive/nsfw_image_classification/Pickles/X_test.pickle','rb')\n",
        "X_test = pickle.load(infile3)\n",
        "\n",
        "infile4 = open('/content/drive/MyDrive/nsfw_image_classification/Pickles/y_test.pickle','rb')\n",
        "y_test = pickle.load(infile4)"
      ],
      "execution_count": 2,
      "outputs": []
    },
    {
      "cell_type": "code",
      "metadata": {
        "id": "fC7YgBImLTOq"
      },
      "source": [
        "from sklearn.dummy import DummyClassifier\n",
        "from sklearn.metrics import plot_confusion_matrix"
      ],
      "execution_count": 3,
      "outputs": []
    },
    {
      "cell_type": "code",
      "metadata": {
        "colab": {
          "base_uri": "https://localhost:8080/",
          "height": 313
        },
        "id": "-20h-MayLPim",
        "outputId": "c9f639a1-a121-4335-8bb6-257f7284bbe3"
      },
      "source": [
        "dummy = DummyClassifier(strategy='most_frequent')\n",
        "dummy.fit(X, y)\n",
        "baseline_acc = round(dummy.score(X_test, y_test), 2) * 100\n",
        "print('Baseline Accuracy: {0}%'.format(baseline_acc))\n",
        "\n",
        "plot_confusion_matrix(estimator=dummy, X=X_test, y_true=y_test, cmap='Blues')"
      ],
      "execution_count": 4,
      "outputs": [
        {
          "output_type": "stream",
          "name": "stdout",
          "text": [
            "Baseline Accuracy: 48.0%\n"
          ]
        },
        {
          "output_type": "execute_result",
          "data": {
            "text/plain": [
              "<sklearn.metrics._plot.confusion_matrix.ConfusionMatrixDisplay at 0x7f4bc1fb7ad0>"
            ]
          },
          "metadata": {},
          "execution_count": 4
        },
        {
          "output_type": "display_data",
          "data": {
            "image/png": "[encoded data removed]",
            "text/plain": [
              "<Figure size 432x288 with 2 Axes>"
            ]
          },
          "metadata": {
            "needs_background": "light"
          }
        }
      ]
    },
    {
      "cell_type": "markdown",
      "metadata": {
        "id": "NrHqFw7LLnBc"
      },
      "source": [
        "My baseline model the `sklearn` dummy classifier predicts the most common class for each image. Since the most common class is `explicit` with about half of the images, my baseline accuracy is 48%."
      ]
    }
  ]
}